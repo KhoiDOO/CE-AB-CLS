{
 "cells": [
  {
   "cell_type": "code",
   "execution_count": 1,
   "id": "6e030d26",
   "metadata": {},
   "outputs": [],
   "source": [
    "import pandas as pd\n",
    "import numpy as np\n",
    "import os\n",
    "import tensorflow as tf\n",
    "import datetime\n",
    "import cv2\n",
    "from keras import backend as K\n",
    "from keras.layers import Layer,InputSpec\n",
    "from keras import layers, models\n",
    "import keras.layers as kl\n",
    "from glob import glob\n",
    "from sklearn.metrics import roc_curve, auc\n",
    "from keras.preprocessing import image\n",
    "from tensorflow.keras.models import Sequential\n",
    "from sklearn.metrics import roc_auc_score\n",
    "from sklearn import preprocessing\n",
    "from tensorflow.keras import callbacks \n",
    "from tensorflow.keras.callbacks import ModelCheckpoint, EarlyStopping, ReduceLROnPlateau\n",
    "from  matplotlib import pyplot as plt\n",
    "from tensorflow.keras import Model\n",
    "from tensorflow.keras.layers import concatenate, Dense, Conv2D, MaxPooling2D, Flatten, Input, Activation, add, AveragePooling2D, BatchNormalization, Dropout\n",
    "%matplotlib inline\n",
    "import shutil\n",
    "from sklearn.metrics import  precision_score, recall_score, accuracy_score,classification_report ,confusion_matrix\n",
    "from tensorflow.python.platform import build_info as tf_build_info\n",
    "from tensorflow.keras.preprocessing.image import ImageDataGenerator\n",
    "from sklearn.model_selection import train_test_split\n",
    "\n",
    "from PIL import ImageFile\n",
    "ImageFile.LOAD_TRUNCATED_IMAGES = True"
   ]
  },
  {
   "cell_type": "code",
   "execution_count": 2,
   "id": "7065b0b3",
   "metadata": {},
   "outputs": [
    {
     "name": "stdout",
     "output_type": "stream",
     "text": [
      "D:\\Github\\Stomach-Status-Classification\\Data Preprocessing\n",
      "D:\\Github\\Stomach-Status-Classification\n"
     ]
    }
   ],
   "source": [
    "print(os.getcwd())\n",
    "os.chdir(\"..\")\n",
    "print(os.getcwd())"
   ]
  },
  {
   "cell_type": "code",
   "execution_count": 3,
   "id": "e8b50e39",
   "metadata": {},
   "outputs": [
    {
     "name": "stdout",
     "output_type": "stream",
     "text": [
      "['Abnormal', 'Normal']\n"
     ]
    }
   ],
   "source": [
    "main_data_dir = os.getcwd() + \"\\\\Data set\"\n",
    "dl_data_dir = main_data_dir + \"\\\\DL_data\"\n",
    "aug_dl_data_dir = main_data_dir + \"\\\\aug_dl_data\"\n",
    "if not os.path.exists(aug_dl_data_dir):\n",
    "    os.mkdir(aug_dl_data_dir)\n",
    "print(os.listdir(dl_data_dir))"
   ]
  },
  {
   "cell_type": "code",
   "execution_count": 4,
   "id": "a58e43c5",
   "metadata": {},
   "outputs": [],
   "source": [
    "ab_aug_dir = aug_dl_data_dir + \"\\\\Abnormal\"\n",
    "no_aug_dir = aug_dl_data_dir + \"\\\\Normal\"\n",
    "\n",
    "if not os.path.exists(ab_aug_dir):\n",
    "    os.mkdir(ab_aug_dir)\n",
    "if not os.path.exists(no_aug_dir):\n",
    "    os.mkdir(no_aug_dir)"
   ]
  },
  {
   "cell_type": "code",
   "execution_count": 5,
   "id": "f8bc8c44",
   "metadata": {},
   "outputs": [
    {
     "name": "stdout",
     "output_type": "stream",
     "text": [
      "['Abnormal', 'Normal']\n"
     ]
    }
   ],
   "source": [
    "print(os.listdir(aug_dl_data_dir))"
   ]
  },
  {
   "cell_type": "code",
   "execution_count": 6,
   "id": "154f2f79",
   "metadata": {},
   "outputs": [
    {
     "name": "stdout",
     "output_type": "stream",
     "text": [
      "D:\\Github\\Stomach-Status-Classification\\Data set\\DL_data\\Abnormal\\CHGastro_Abnormal_012.png\n"
     ]
    }
   ],
   "source": [
    "img_paths = glob(dl_data_dir + \"\\\\*\\\\*\")\n",
    "print(img_paths[0])"
   ]
  },
  {
   "cell_type": "code",
   "execution_count": 7,
   "id": "63ad00c4",
   "metadata": {},
   "outputs": [],
   "source": [
    "target_size = (224, 224)\n",
    "def Get_data(img_paths, _target_size):\n",
    "    img_list = []\n",
    "    labels = []\n",
    "\n",
    "    for x in img_paths:\n",
    "        img_list.append(cv2.imread(x))\n",
    "        labels.append(x.split(\"\\\\\")[-2])\n",
    "    for x in range(len(img_list)):\n",
    "        img_list[x] = tf.keras.preprocessing.image.smart_resize(img_list[x], _target_size)\n",
    "    \n",
    "    return (img_list, labels)"
   ]
  },
  {
   "cell_type": "code",
   "execution_count": 8,
   "id": "e30c7094",
   "metadata": {},
   "outputs": [
    {
     "name": "stdout",
     "output_type": "stream",
     "text": [
      "2\n",
      "176\n"
     ]
    }
   ],
   "source": [
    "img_stack = Get_data(img_paths, target_size)\n",
    "print(len(img_stack))\n",
    "print(len(img_stack[0]))"
   ]
  },
  {
   "cell_type": "code",
   "execution_count": 24,
   "id": "d9eb9ad0",
   "metadata": {},
   "outputs": [],
   "source": [
    "data_augmentation = tf.keras.Sequential([\n",
    "#     layers.Rescaling(1./255),\n",
    "    layers.RandomFlip(\"horizontal_and_vertical\"),\n",
    "    layers.RandomRotation(0.2),\n",
    "    layers.RandomContrast((0.1, 0.9)),\n",
    "#     tf.keras.layers.RandomTranslation(height_factor=(-0.2, 0.3), width_factor=(-0.2, 0.3))\n",
    "    tf.keras.layers.RandomCrop(height = 180, width = 180),\n",
    "    tf.keras.layers.RandomZoom(height_factor = (0.2, 0.3), width_factor = (0.2, 0.3)),\n",
    "    layers.Resizing(target_size[0], target_size[1])\n",
    "])"
   ]
  },
  {
   "cell_type": "code",
   "execution_count": 25,
   "id": "8c3d8205",
   "metadata": {},
   "outputs": [],
   "source": [
    "save_path = aug_dl_data_dir + \"\\\\{0}\\\\{1}\"\n",
    "def augment_data(img_stacks, count, save_path, model):\n",
    "    index = 0\n",
    "    for x, y in zip(img_stacks[0], img_stacks[1]):\n",
    "        for i in range(count):\n",
    "            img_base = model(x)\n",
    "            cv2.imwrite(save_path.format(y, f\"aug_{y}_{index}.jpg\"), img_base.numpy())\n",
    "            index += 1"
   ]
  },
  {
   "cell_type": "code",
   "execution_count": 26,
   "id": "ce20efeb",
   "metadata": {},
   "outputs": [],
   "source": [
    "augment_data(img_stack, 3, save_path, data_augmentation)"
   ]
  },
  {
   "cell_type": "code",
   "execution_count": null,
   "id": "c5967904",
   "metadata": {},
   "outputs": [],
   "source": []
  }
 ],
 "metadata": {
  "kernelspec": {
   "display_name": "Python 3 (ipykernel)",
   "language": "python",
   "name": "python3"
  },
  "language_info": {
   "codemirror_mode": {
    "name": "ipython",
    "version": 3
   },
   "file_extension": ".py",
   "mimetype": "text/x-python",
   "name": "python",
   "nbconvert_exporter": "python",
   "pygments_lexer": "ipython3",
   "version": "3.9.5"
  }
 },
 "nbformat": 4,
 "nbformat_minor": 5
}
