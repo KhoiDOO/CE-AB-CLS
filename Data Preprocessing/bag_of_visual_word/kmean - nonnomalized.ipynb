{
 "cells": [
  {
   "cell_type": "code",
   "execution_count": 1,
   "id": "071dbc41",
   "metadata": {},
   "outputs": [],
   "source": [
    "import os\n",
    "import pandas as pd\n",
    "import numpy as np\n",
    "from sklearn.cluster import KMeans\n",
    "import random"
   ]
  },
  {
   "cell_type": "code",
   "execution_count": 2,
   "id": "44f16538",
   "metadata": {},
   "outputs": [
    {
     "name": "stdout",
     "output_type": "stream",
     "text": [
      "D:\\Github\\Stomach-Status-Classification\\Data Preprocessing\\bag_of_visual_word\n"
     ]
    }
   ],
   "source": [
    "print(os.getcwd())"
   ]
  },
  {
   "cell_type": "code",
   "execution_count": 3,
   "id": "fe2dad58",
   "metadata": {},
   "outputs": [
    {
     "name": "stdout",
     "output_type": "stream",
     "text": [
      "D:\\Github\\Stomach-Status-Classification\n"
     ]
    }
   ],
   "source": [
    "os.chdir(\"..\")\n",
    "os.chdir(\"..\")\n",
    "print(os.getcwd())"
   ]
  },
  {
   "cell_type": "code",
   "execution_count": 4,
   "id": "b7de4ac6",
   "metadata": {},
   "outputs": [],
   "source": [
    "main_data_dir = os.getcwd() + \"\\\\Data set\"\n",
    "kmean_data_dir = main_data_dir + \"\\\\kmean_dataset - nonnormalized\"\n",
    "import glob\n",
    "\n",
    "# sift_kmean_data = [x for x in glob.glob(kmean_data_dir + '\\\\*') if 'sift' in x and 'histo' not in x]\n",
    "# print(sift_kmean_data)"
   ]
  },
  {
   "cell_type": "code",
   "execution_count": 5,
   "id": "d79a7795",
   "metadata": {},
   "outputs": [],
   "source": [
    "# sift_df = pd.read_csv(sift_kmean_data[0])\n",
    "# sift_df.head()"
   ]
  },
  {
   "cell_type": "code",
   "execution_count": 6,
   "id": "60b9fe5b",
   "metadata": {},
   "outputs": [],
   "source": [
    "# sift_df.shape"
   ]
  },
  {
   "cell_type": "code",
   "execution_count": 7,
   "id": "625f405c",
   "metadata": {},
   "outputs": [],
   "source": [
    "from sklearn import metrics\n",
    "from scipy.spatial.distance import cdist\n",
    "import matplotlib.pyplot as plt\n",
    "\n",
    "# X = sift_df.to_numpy()\n",
    "# print(X.shape)"
   ]
  },
  {
   "cell_type": "code",
   "execution_count": 8,
   "id": "59655605",
   "metadata": {},
   "outputs": [],
   "source": [
    "# print(X[0, :])"
   ]
  },
  {
   "cell_type": "code",
   "execution_count": 9,
   "id": "8010db45",
   "metadata": {},
   "outputs": [],
   "source": [
    "# print(X[-1, :])"
   ]
  },
  {
   "cell_type": "code",
   "execution_count": 10,
   "id": "c844eeea",
   "metadata": {},
   "outputs": [],
   "source": [
    "# X = X[:, 1:]\n",
    "# print(X.shape)\n",
    "# print(X[0, :])"
   ]
  },
  {
   "cell_type": "code",
   "execution_count": 11,
   "id": "3d7e36d4",
   "metadata": {},
   "outputs": [],
   "source": [
    "# distortions = []\n",
    "# inertias = []\n",
    "# mapping1 = {}\n",
    "# mapping2 = {}\n",
    "# random_state = 42\n",
    "# K = range(2, 20)\n",
    "  \n",
    "# for k in K:\n",
    "#     # Building and fitting the model\n",
    "#     kmeanModel = KMeans(n_clusters=k, random_state = random_state).fit(X)\n",
    "#     kmeanModel.fit(X)\n",
    "  \n",
    "#     distortions.append(sum(np.min(cdist(X, kmeanModel.cluster_centers_,\n",
    "#                                         'euclidean'), axis=1)) / X.shape[0])\n",
    "#     inertias.append(kmeanModel.inertia_)\n",
    "  \n",
    "#     mapping1[k] = sum(np.min(cdist(X, kmeanModel.cluster_centers_,\n",
    "#                                    'euclidean'), axis=1)) / X.shape[0]\n",
    "#     mapping2[k] = kmeanModel.inertia_"
   ]
  },
  {
   "cell_type": "code",
   "execution_count": 12,
   "id": "61c86225",
   "metadata": {},
   "outputs": [],
   "source": [
    "# plt.plot(K, distortions, 'bx-')\n",
    "# plt.xlabel('Values of K')\n",
    "# plt.ylabel('Distortion')\n",
    "# plt.title('The Elbow Method using Distortion')\n",
    "# plt.show()"
   ]
  },
  {
   "cell_type": "code",
   "execution_count": 13,
   "id": "20627a2e",
   "metadata": {},
   "outputs": [],
   "source": [
    "# plt.plot(K, inertias, 'bx-')\n",
    "# plt.xlabel('Values of K')\n",
    "# plt.ylabel('Inertia')\n",
    "# plt.title('The Elbow Method using Inertia')\n",
    "# plt.show()"
   ]
  },
  {
   "cell_type": "code",
   "execution_count": 14,
   "id": "7eb74494",
   "metadata": {},
   "outputs": [],
   "source": [
    "# from sklearn.metrics import silhouette_samples, silhouette_score\n",
    "# import matplotlib.cm as cm\n",
    "\n",
    "# for n_clusters in K:\n",
    "#     # Create a subplot with 1 row and 2 columns\n",
    "#     fig, (ax1, ax2) = plt.subplots(1, 2)\n",
    "#     fig.set_size_inches(18, 7)\n",
    "\n",
    "#     # The 1st subplot is the silhouette plot\n",
    "#     # The silhouette coefficient can range from -1, 1 but in this example all\n",
    "#     # lie within [-0.1, 1]\n",
    "#     ax1.set_xlim([-0.1, 1])\n",
    "#     # The (n_clusters+1)*10 is for inserting blank space between silhouette\n",
    "#     # plots of individual clusters, to demarcate them clearly.\n",
    "#     ax1.set_ylim([0, len(X) + (n_clusters + 1) * 10])\n",
    "\n",
    "#     # Initialize the clusterer with n_clusters value and a random generator\n",
    "#     # seed of 10 for reproducibility.\n",
    "#     clusterer = KMeans(n_clusters=n_clusters, random_state=random_state)\n",
    "#     cluster_labels = clusterer.fit_predict(X)\n",
    "\n",
    "#     # The silhouette_score gives the average value for all the samples.\n",
    "#     # This gives a perspective into the density and separation of the formed\n",
    "#     # clusters\n",
    "#     silhouette_avg = silhouette_score(X, cluster_labels)\n",
    "#     print(\n",
    "#         \"For n_clusters =\",\n",
    "#         n_clusters,\n",
    "#         \"The average silhouette_score is :\",\n",
    "#         silhouette_avg,\n",
    "#     )\n",
    "\n",
    "#     # Compute the silhouette scores for each sample\n",
    "#     sample_silhouette_values = silhouette_samples(X, cluster_labels)\n",
    "\n",
    "#     y_lower = 10\n",
    "#     for i in range(n_clusters):\n",
    "#         # Aggregate the silhouette scores for samples belonging to\n",
    "#         # cluster i, and sort them\n",
    "#         ith_cluster_silhouette_values = sample_silhouette_values[cluster_labels == i]\n",
    "\n",
    "#         ith_cluster_silhouette_values.sort()\n",
    "\n",
    "#         size_cluster_i = ith_cluster_silhouette_values.shape[0]\n",
    "#         y_upper = y_lower + size_cluster_i\n",
    "\n",
    "#         color = cm.nipy_spectral(float(i) / n_clusters)\n",
    "#         ax1.fill_betweenx(\n",
    "#             np.arange(y_lower, y_upper),\n",
    "#             0,\n",
    "#             ith_cluster_silhouette_values,\n",
    "#             facecolor=color,\n",
    "#             edgecolor=color,\n",
    "#             alpha=0.7,\n",
    "#         )\n",
    "\n",
    "#         # Label the silhouette plots with their cluster numbers at the middle\n",
    "#         ax1.text(-0.05, y_lower + 0.5 * size_cluster_i, str(i))\n",
    "\n",
    "#         # Compute the new y_lower for next plot\n",
    "#         y_lower = y_upper + 10  # 10 for the 0 samples\n",
    "\n",
    "#     ax1.set_title(\"The silhouette plot for the various clusters.\")\n",
    "#     ax1.set_xlabel(\"The silhouette coefficient values\")\n",
    "#     ax1.set_ylabel(\"Cluster label\")\n",
    "\n",
    "#     # The vertical line for average silhouette score of all the values\n",
    "#     ax1.axvline(x=silhouette_avg, color=\"red\", linestyle=\"--\")\n",
    "\n",
    "#     ax1.set_yticks([])  # Clear the yaxis labels / ticks\n",
    "#     ax1.set_xticks([-0.1, 0, 0.2, 0.4, 0.6, 0.8, 1])\n",
    "\n",
    "#     # 2nd Plot showing the actual clusters formed\n",
    "#     colors = cm.nipy_spectral(cluster_labels.astype(float) / n_clusters)\n",
    "#     ax2.scatter(\n",
    "#         X[:, 0], X[:, 1], marker=\".\", s=30, lw=0, alpha=0.7, c=colors, edgecolor=\"k\"\n",
    "#     )\n",
    "\n",
    "#     # Labeling the clusters\n",
    "#     centers = clusterer.cluster_centers_\n",
    "#     # Draw white circles at cluster centers\n",
    "#     ax2.scatter(\n",
    "#         centers[:, 0],\n",
    "#         centers[:, 1],\n",
    "#         marker=\"o\",\n",
    "#         c=\"white\",\n",
    "#         alpha=1,\n",
    "#         s=200,\n",
    "#         edgecolor=\"k\",\n",
    "#     )\n",
    "\n",
    "#     for i, c in enumerate(centers):\n",
    "#         ax2.scatter(c[0], c[1], marker=\"$%d$\" % i, alpha=1, s=50, edgecolor=\"k\")\n",
    "\n",
    "#     ax2.set_title(\"The visualization of the clustered data.\")\n",
    "#     ax2.set_xlabel(\"Feature space for the 1st feature\")\n",
    "#     ax2.set_ylabel(\"Feature space for the 2nd feature\")\n",
    "\n",
    "#     plt.suptitle(\n",
    "#         \"Silhouette analysis for KMeans clustering on sample data with n_clusters = %d\"\n",
    "#         % n_clusters,\n",
    "#         fontsize=14,\n",
    "#         fontweight=\"bold\",\n",
    "#     )\n",
    "\n",
    "# plt.show()"
   ]
  },
  {
   "cell_type": "code",
   "execution_count": 15,
   "id": "51734627",
   "metadata": {},
   "outputs": [],
   "source": [
    "# from sklearn import metrics\n",
    "\n",
    "# scr = []\n",
    "\n",
    "# for k in K:\n",
    "#     kmeans_model = KMeans(n_clusters=k, random_state = random_state).fit(X)\n",
    "#     labels = kmeans_model.labels_\n",
    "#     scr.append(metrics.calinski_harabasz_score(X, labels))\n",
    "\n",
    "# plt.plot(K, scr, 'bx-')\n",
    "# plt.xlabel('Values of K')\n",
    "# plt.ylabel('Distortion')\n",
    "# plt.title('Number of Cluster by Calinski-Harabasz Index')\n",
    "# plt.show()"
   ]
  },
  {
   "cell_type": "code",
   "execution_count": 16,
   "id": "287fcf63",
   "metadata": {},
   "outputs": [],
   "source": [
    "# scr = []\n",
    "\n",
    "# for k in K:\n",
    "#     kmeans_model = KMeans(n_clusters=k, random_state = random_state).fit(X)\n",
    "#     labels = kmeans_model.labels_\n",
    "#     scr.append(metrics.davies_bouldin_score(X, labels))\n",
    "\n",
    "# plt.plot(K, scr, 'bx-')\n",
    "# plt.xlabel('Values of K')\n",
    "# plt.ylabel('Distortion')\n",
    "# plt.title('Number of Cluster by Davies-Bouldin Index')\n",
    "# plt.show()"
   ]
  },
  {
   "cell_type": "code",
   "execution_count": 17,
   "id": "f686c2dc",
   "metadata": {},
   "outputs": [
    {
     "name": "stdout",
     "output_type": "stream",
     "text": [
      "D:\\Github\\Stomach-Status-Classification\\Data set\\orb\n"
     ]
    }
   ],
   "source": [
    "descriptor = 'orb'\n",
    "\n",
    "data = main_data_dir + \"\\\\{}\".format(descriptor)\n",
    "print(data)"
   ]
  },
  {
   "cell_type": "code",
   "execution_count": 18,
   "id": "49deb4e1",
   "metadata": {},
   "outputs": [
    {
     "name": "stdout",
     "output_type": "stream",
     "text": [
      "['D:\\\\Github\\\\Stomach-Status-Classification\\\\Data set\\\\orb\\\\orb_train_10000_1.2_8_31_0_2_31_20.json', 'D:\\\\Github\\\\Stomach-Status-Classification\\\\Data set\\\\orb\\\\orb_train_10000_2_8_31_0_2_31_20.json', 'D:\\\\Github\\\\Stomach-Status-Classification\\\\Data set\\\\orb\\\\orb_train_1000_1.2_8_31_0_2_31_20.json', 'D:\\\\Github\\\\Stomach-Status-Classification\\\\Data set\\\\orb\\\\orb_train_2000_1.2_8_31_0_2_128_20.json', 'D:\\\\Github\\\\Stomach-Status-Classification\\\\Data set\\\\orb\\\\orb_train_2000_1.2_8_31_0_2_31_20.json']\n",
      "['D:\\\\Github\\\\Stomach-Status-Classification\\\\Data set\\\\orb\\\\orb_test_10000_1.2_8_31_0_2_31_20.json', 'D:\\\\Github\\\\Stomach-Status-Classification\\\\Data set\\\\orb\\\\orb_test_10000_2_8_31_0_2_31_20.json', 'D:\\\\Github\\\\Stomach-Status-Classification\\\\Data set\\\\orb\\\\orb_test_1000_1.2_8_31_0_2_31_20.json', 'D:\\\\Github\\\\Stomach-Status-Classification\\\\Data set\\\\orb\\\\orb_test_2000_1.2_8_31_0_2_128_20.json', 'D:\\\\Github\\\\Stomach-Status-Classification\\\\Data set\\\\orb\\\\orb_test_2000_1.2_8_31_0_2_31_20.json']\n"
     ]
    }
   ],
   "source": [
    "data_train = [i for i in glob.glob(data + '\\\\*') if 'train' in i]\n",
    "data_test = [i for i in glob.glob(data + '\\\\*') if 'test' in i]\n",
    "\n",
    "print(data_train)\n",
    "print(data_test)"
   ]
  },
  {
   "cell_type": "code",
   "execution_count": 19,
   "id": "f1fe185d",
   "metadata": {},
   "outputs": [],
   "source": [
    "import json \n",
    "def load_json(path):\n",
    "    f = open(path)\n",
    "    return  json.load(f)\n",
    "\n",
    "train_json = load_json(data_train[0])\n",
    "test_json = load_json(data_test[0])"
   ]
  },
  {
   "cell_type": "code",
   "execution_count": 20,
   "id": "194d896b",
   "metadata": {},
   "outputs": [
    {
     "name": "stdout",
     "output_type": "stream",
     "text": [
      "D:\\Github\\Stomach-Status-Classification\\Data set\\kmean_dataset - nonnormalized\\10cv_128\\orb_train_10000_1.2_8_31_0_2_31_20histo_128_cv_index0.csv\n"
     ]
    }
   ],
   "source": [
    "k_choose = (128)\n",
    "\n",
    "save_train_path = main_data_dir + \"\\\\kmean_dataset - nonnormalized\\\\{0}cv_{1}\\\\\" + data_train[0].split(\"\\\\\")[-1][:-5] + \"histo_{2}_cv_index{3}.csv\"\n",
    "save_test_path = main_data_dir + \"\\\\kmean_dataset - nonnormalized\\\\{0}cv_{1}\\\\\" + data_test[0].split(\"\\\\\")[-1][:-5] + \"histo_{2}_cv_index{3}.csv\"\n",
    "print(save_train_path.format(10, 128, 128, 0))"
   ]
  },
  {
   "cell_type": "code",
   "execution_count": 21,
   "id": "8fa99acd",
   "metadata": {},
   "outputs": [],
   "source": [
    "def chunks(lst, n):\n",
    "    random.shuffle(lst) \n",
    "    for i in range(0, len(lst), n):\n",
    "        yield lst[i:i + n]\n",
    "        \n",
    "def make_data(k_choosed = 128, random_state = 42, cv = 10, test_size = 2,\n",
    "              json_data = [], train_path = None, test_path = None):\n",
    "    train_json = json_data[0]\n",
    "    test_json = json_data[1]\n",
    "    \n",
    "    train_nor_js = train_json[\"Group 1 - Normal\"]\n",
    "    train_ab_js = train_json[\"Group 2 - Abnormal\"]\n",
    "    \n",
    "    test_nor_js = test_json[\"Group 1 - Normal\"]\n",
    "    test_ab_js = test_json[\"Group 2 - Abnormal\"]\n",
    "    \n",
    "    ab_vector_lst = train_ab_js + test_ab_js\n",
    "    nor_vector_lst = train_nor_js + test_nor_js\n",
    "    \n",
    "    ab_folds = list(chunks(ab_vector_lst, round(len(ab_vector_lst)/cv)))\n",
    "    nor_folds = list(chunks(nor_vector_lst, round(len(nor_vector_lst)/cv)))\n",
    "    \n",
    "    folds = [x + y for x, y in zip(ab_folds, nor_folds)]\n",
    "    \n",
    "    for x in range(len(folds)):\n",
    "        print(\"Starting Fold : {}\".format(x))\n",
    "        print(\"\\tData Extraction from Fold\")\n",
    "        test_filenames = folds[x]\n",
    "        train_start = []\n",
    "        train_end = []\n",
    "        if folds[:x]:\n",
    "            for i in folds[:x]:\n",
    "                train_start += i \n",
    "        if folds[x+1:]:\n",
    "            for i in folds[x+1:]:\n",
    "                train_end += i \n",
    "        train_filenames = train_start + train_end\n",
    "        \n",
    "        concat_lst = []\n",
    "        print(\"\\tFinish Data Extraction from Fold\")\n",
    "        print(\"\\tData Preparing for Kmean\")\n",
    "        for img_dict in train_filenames:\n",
    "            for key in img_dict:\n",
    "                img_vector_lst = img_dict[key]\n",
    "                img_vector = np.array(img_vector_lst)\n",
    "                concat_lst.append(img_vector)\n",
    "        \n",
    "        data_kmean = concat_lst[0]\n",
    "        for i in range(1, len(concat_lst)):\n",
    "            concat_data = np.concatenate((data_kmean, concat_lst[i]), axis=0)\n",
    "            data_kmean = concat_data\n",
    "        print(\"\\tFinish Data Preparing for Kmean\")\n",
    "        print(\"\\tKMean Training Data Extraction\")\n",
    "        save_dict = {i : [] for i in range(k_choosed+2)}\n",
    "        kmeans_model = KMeans(n_clusters=k_choosed, random_state = random_state).fit(data_kmean)\n",
    "        \n",
    "        for img_dict in train_filenames:\n",
    "            for key in img_dict:\n",
    "                img_vector_lst = img_dict[key]\n",
    "                img_vector = np.array(img_vector_lst)\n",
    "                km_vector = kmeans_model.predict(np.array(img_vector))\n",
    "                his_vector = np.histogram(km_vector, bins = k_choosed, density = True)[0]\n",
    "                save_dict[0].append(key)\n",
    "                for j in range(1, k_choosed+1):\n",
    "                    save_dict[j].append(his_vector[j-1])\n",
    "                if 'Normal' in key:\n",
    "                    save_dict[k_choosed+1].append(0)\n",
    "                else:\n",
    "                    save_dict[k_choosed+1].append(1)\n",
    "        \n",
    "        if train_path:\n",
    "            df = pd.DataFrame(save_dict)\n",
    "            df.to_csv(train_path.format(cv, k_choosed, k_choosed, x))\n",
    "            \n",
    "        print(\"\\tKMean Testing Data Extraction\")\n",
    "        save_dict = {i : [] for i in range(k_choosed+2)}\n",
    "        for img_dict in test_filenames:\n",
    "            for key in img_dict:\n",
    "                img_vector_lst = img_dict[key]\n",
    "                img_vector = np.array(img_vector_lst)\n",
    "                km_vector = kmeans_model.predict(np.array(img_vector))\n",
    "                his_vector = np.histogram(km_vector, bins = k_choosed, density = False)[0]\n",
    "                save_dict[0].append(key)\n",
    "                for j in range(1, k_choosed+1):\n",
    "                    save_dict[j].append(his_vector[j-1])\n",
    "                if 'Normal' in key:\n",
    "                    save_dict[k_choosed+1].append(0)\n",
    "                else:\n",
    "                    save_dict[k_choosed+1].append(1)\n",
    "        \n",
    "        if test_path:\n",
    "            df = pd.DataFrame(save_dict)\n",
    "            df.to_csv(test_path.format(cv, k_choosed, k_choosed, x))\n",
    "        print(\"\\tFinish KMean Data Extraction\")"
   ]
  },
  {
   "cell_type": "code",
   "execution_count": 24,
   "id": "ffde3493",
   "metadata": {},
   "outputs": [
    {
     "name": "stdout",
     "output_type": "stream",
     "text": [
      "Starting Fold : 0\n",
      "\tData Extraction from Fold\n",
      "\tFinish Data Extraction from Fold\n",
      "\tData Preparing for Kmean\n",
      "\tFinish Data Preparing for Kmean\n",
      "\tKMean Training Data Extraction\n",
      "\tKMean Testing Data Extraction\n",
      "\tFinish KMean Data Extraction\n",
      "Starting Fold : 1\n",
      "\tData Extraction from Fold\n",
      "\tFinish Data Extraction from Fold\n",
      "\tData Preparing for Kmean\n",
      "\tFinish Data Preparing for Kmean\n",
      "\tKMean Training Data Extraction\n",
      "\tKMean Testing Data Extraction\n",
      "\tFinish KMean Data Extraction\n",
      "Starting Fold : 2\n",
      "\tData Extraction from Fold\n",
      "\tFinish Data Extraction from Fold\n",
      "\tData Preparing for Kmean\n",
      "\tFinish Data Preparing for Kmean\n",
      "\tKMean Training Data Extraction\n",
      "\tKMean Testing Data Extraction\n",
      "\tFinish KMean Data Extraction\n",
      "Starting Fold : 3\n",
      "\tData Extraction from Fold\n",
      "\tFinish Data Extraction from Fold\n",
      "\tData Preparing for Kmean\n",
      "\tFinish Data Preparing for Kmean\n",
      "\tKMean Training Data Extraction\n",
      "\tKMean Testing Data Extraction\n",
      "\tFinish KMean Data Extraction\n",
      "Starting Fold : 4\n",
      "\tData Extraction from Fold\n",
      "\tFinish Data Extraction from Fold\n",
      "\tData Preparing for Kmean\n",
      "\tFinish Data Preparing for Kmean\n",
      "\tKMean Training Data Extraction\n",
      "\tKMean Testing Data Extraction\n",
      "\tFinish KMean Data Extraction\n",
      "Starting Fold : 5\n",
      "\tData Extraction from Fold\n",
      "\tFinish Data Extraction from Fold\n",
      "\tData Preparing for Kmean\n",
      "\tFinish Data Preparing for Kmean\n",
      "\tKMean Training Data Extraction\n",
      "\tKMean Testing Data Extraction\n",
      "\tFinish KMean Data Extraction\n",
      "Starting Fold : 6\n",
      "\tData Extraction from Fold\n",
      "\tFinish Data Extraction from Fold\n",
      "\tData Preparing for Kmean\n",
      "\tFinish Data Preparing for Kmean\n",
      "\tKMean Training Data Extraction\n",
      "\tKMean Testing Data Extraction\n",
      "\tFinish KMean Data Extraction\n",
      "Starting Fold : 7\n",
      "\tData Extraction from Fold\n",
      "\tFinish Data Extraction from Fold\n",
      "\tData Preparing for Kmean\n",
      "\tFinish Data Preparing for Kmean\n",
      "\tKMean Training Data Extraction\n",
      "\tKMean Testing Data Extraction\n",
      "\tFinish KMean Data Extraction\n",
      "Starting Fold : 8\n",
      "\tData Extraction from Fold\n",
      "\tFinish Data Extraction from Fold\n",
      "\tData Preparing for Kmean\n",
      "\tFinish Data Preparing for Kmean\n",
      "\tKMean Training Data Extraction\n",
      "\tKMean Testing Data Extraction\n",
      "\tFinish KMean Data Extraction\n",
      "Starting Fold : 9\n",
      "\tData Extraction from Fold\n",
      "\tFinish Data Extraction from Fold\n",
      "\tData Preparing for Kmean\n",
      "\tFinish Data Preparing for Kmean\n",
      "\tKMean Training Data Extraction\n",
      "\tKMean Testing Data Extraction\n",
      "\tFinish KMean Data Extraction\n"
     ]
    }
   ],
   "source": [
    "make_data(cv = 10, k_choosed = 256, test_size = 2,\n",
    "          json_data = [train_json, test_json], \n",
    "          train_path = save_train_path, \n",
    "          test_path = save_test_path)"
   ]
  }
 ],
 "metadata": {
  "kernelspec": {
   "display_name": "Python 3 (ipykernel)",
   "language": "python",
   "name": "python3"
  },
  "language_info": {
   "codemirror_mode": {
    "name": "ipython",
    "version": 3
   },
   "file_extension": ".py",
   "mimetype": "text/x-python",
   "name": "python",
   "nbconvert_exporter": "python",
   "pygments_lexer": "ipython3",
   "version": "3.9.5"
  },
  "vscode": {
   "interpreter": {
    "hash": "0b94da6b5066934aaee2024046db09e75895d3d0a274d9f5327dab3c9ddf8e60"
   }
  }
 },
 "nbformat": 4,
 "nbformat_minor": 5
}
