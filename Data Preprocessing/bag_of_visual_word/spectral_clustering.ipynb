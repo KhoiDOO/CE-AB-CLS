{
 "cells": [
  {
   "cell_type": "code",
   "execution_count": 1,
   "id": "ebff94ae",
   "metadata": {},
   "outputs": [],
   "source": [
    "import os\n",
    "import pandas as pd\n",
    "import numpy as np\n",
    "from sklearn.cluster import SpectralClustering\n",
    "import random"
   ]
  },
  {
   "cell_type": "code",
   "execution_count": 2,
   "id": "5748833b",
   "metadata": {},
   "outputs": [
    {
     "name": "stdout",
     "output_type": "stream",
     "text": [
      "D:\\Github\\Stomach-Status-Classification\\Data Preprocessing\\bag_of_visual_word\n"
     ]
    }
   ],
   "source": [
    "print(os.getcwd())"
   ]
  },
  {
   "cell_type": "code",
   "execution_count": 3,
   "id": "73460acf",
   "metadata": {},
   "outputs": [
    {
     "name": "stdout",
     "output_type": "stream",
     "text": [
      "D:\\Github\\Stomach-Status-Classification\n"
     ]
    }
   ],
   "source": [
    "os.chdir(\"..\")\n",
    "os.chdir(\"..\")\n",
    "print(os.getcwd())"
   ]
  },
  {
   "cell_type": "code",
   "execution_count": 5,
   "id": "1c53c15e",
   "metadata": {},
   "outputs": [],
   "source": [
    "main_data_dir = os.getcwd() + \"\\\\Data set\"\n",
    "kmean_data_dir = main_data_dir + \"\\\\spc_dataset\"\n",
    "import glob"
   ]
  },
  {
   "cell_type": "code",
   "execution_count": 6,
   "id": "2ffe08d8",
   "metadata": {},
   "outputs": [],
   "source": [
    "from sklearn import metrics\n",
    "from scipy.spatial.distance import cdist\n",
    "import matplotlib.pyplot as plt"
   ]
  },
  {
   "cell_type": "code",
   "execution_count": 7,
   "id": "1eee1f8f",
   "metadata": {},
   "outputs": [
    {
     "name": "stdout",
     "output_type": "stream",
     "text": [
      "D:\\Github\\Stomach-Status-Classification\\Data set\\sift\n"
     ]
    }
   ],
   "source": [
    "descriptor = 'sift'\n",
    "\n",
    "data = main_data_dir + \"\\\\{}\".format(descriptor)\n",
    "print(data)"
   ]
  },
  {
   "cell_type": "code",
   "execution_count": 8,
   "id": "8b80d441",
   "metadata": {},
   "outputs": [
    {
     "name": "stdout",
     "output_type": "stream",
     "text": [
      "['D:\\\\Github\\\\Stomach-Status-Classification\\\\Data set\\\\sift\\\\sift_train_0_3_0.04_10_1.6.json']\n",
      "['D:\\\\Github\\\\Stomach-Status-Classification\\\\Data set\\\\sift\\\\sift_test_0_3_0.04_10_1.6.json']\n"
     ]
    }
   ],
   "source": [
    "data_train = [i for i in glob.glob(data + '\\\\*') if 'train' in i]\n",
    "data_test = [i for i in glob.glob(data + '\\\\*') if 'test' in i]\n",
    "\n",
    "print(data_train)\n",
    "print(data_test)"
   ]
  },
  {
   "cell_type": "code",
   "execution_count": 9,
   "id": "1ab29878",
   "metadata": {},
   "outputs": [],
   "source": [
    "import json \n",
    "def load_json(path):\n",
    "    f = open(path)\n",
    "    return  json.load(f)\n",
    "\n",
    "train_json = load_json(data_train[0])\n",
    "test_json = load_json(data_test[0])"
   ]
  },
  {
   "cell_type": "code",
   "execution_count": 10,
   "id": "a58294b0",
   "metadata": {},
   "outputs": [
    {
     "name": "stdout",
     "output_type": "stream",
     "text": [
      "D:\\Github\\Stomach-Status-Classification\\Data set\\kmean_dataset\\10cv_128\\sift_train_0_3_0.04_10_1.6histo_128_cv_index0.csv\n"
     ]
    }
   ],
   "source": [
    "save_train_path = main_data_dir + \"\\\\spc_dataset\\\\{0}cv_{1}\\\\\" + data_train[0].split(\"\\\\\")[-1][:-5] + \"histo_{2}_cv_index{3}.csv\"\n",
    "save_test_path = main_data_dir + \"\\\\spc_dataset\\\\{0}cv_{1}\\\\\" + data_test[0].split(\"\\\\\")[-1][:-5] + \"histo_{2}_cv_index{3}.csv\"\n",
    "print(save_train_path.format(10, 128, 128, 0))"
   ]
  },
  {
   "cell_type": "code",
   "execution_count": null,
   "id": "2a325603",
   "metadata": {},
   "outputs": [],
   "source": []
  }
 ],
 "metadata": {
  "kernelspec": {
   "display_name": "Python 3 (ipykernel)",
   "language": "python",
   "name": "python3"
  },
  "language_info": {
   "codemirror_mode": {
    "name": "ipython",
    "version": 3
   },
   "file_extension": ".py",
   "mimetype": "text/x-python",
   "name": "python",
   "nbconvert_exporter": "python",
   "pygments_lexer": "ipython3",
   "version": "3.9.5"
  }
 },
 "nbformat": 4,
 "nbformat_minor": 5
}
