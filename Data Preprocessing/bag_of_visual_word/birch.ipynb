{
 "cells": [
  {
   "cell_type": "code",
   "execution_count": 1,
   "id": "ebff94ae",
   "metadata": {},
   "outputs": [],
   "source": [
    "import os\n",
    "import pandas as pd\n",
    "import numpy as np\n",
    "from sklearn.cluster import Birch\n",
    "import random"
   ]
  },
  {
   "cell_type": "code",
   "execution_count": 2,
   "id": "5748833b",
   "metadata": {},
   "outputs": [
    {
     "name": "stdout",
     "output_type": "stream",
     "text": [
      "D:\\GitCloneProject\\Stomach-Status-Classification\\Data Preprocessing\\bag_of_visual_word\n"
     ]
    }
   ],
   "source": [
    "print(os.getcwd())"
   ]
  },
  {
   "cell_type": "code",
   "execution_count": 3,
   "id": "73460acf",
   "metadata": {},
   "outputs": [
    {
     "name": "stdout",
     "output_type": "stream",
     "text": [
      "D:\\GitCloneProject\\Stomach-Status-Classification\n"
     ]
    }
   ],
   "source": [
    "os.chdir(\"..\")\n",
    "os.chdir(\"..\")\n",
    "print(os.getcwd())"
   ]
  },
  {
   "cell_type": "code",
   "execution_count": 4,
   "id": "1c53c15e",
   "metadata": {},
   "outputs": [],
   "source": [
    "main_data_dir = os.getcwd() + \"\\\\Data set\"\n",
    "kmean_data_dir = main_data_dir + \"\\\\spc_dataset\"\n",
    "import glob"
   ]
  },
  {
   "cell_type": "code",
   "execution_count": 5,
   "id": "2ffe08d8",
   "metadata": {},
   "outputs": [],
   "source": [
    "from sklearn import metrics\n",
    "from scipy.spatial.distance import cdist\n",
    "import matplotlib.pyplot as plt"
   ]
  },
  {
   "cell_type": "code",
   "execution_count": 6,
   "id": "1eee1f8f",
   "metadata": {},
   "outputs": [
    {
     "name": "stdout",
     "output_type": "stream",
     "text": [
      "D:\\GitCloneProject\\Stomach-Status-Classification\\Data set\\orb\n"
     ]
    }
   ],
   "source": [
    "descriptor = 'orb'\n",
    "\n",
    "data = main_data_dir + \"\\\\{}\".format(descriptor)\n",
    "print(data)"
   ]
  },
  {
   "cell_type": "code",
   "execution_count": 7,
   "id": "8b80d441",
   "metadata": {},
   "outputs": [
    {
     "name": "stdout",
     "output_type": "stream",
     "text": [
      "['D:\\\\GitCloneProject\\\\Stomach-Status-Classification\\\\Data set\\\\orb\\\\orb_train_10000_2_8_31_0_2_31_20.json']\n",
      "['D:\\\\GitCloneProject\\\\Stomach-Status-Classification\\\\Data set\\\\orb\\\\orb_test_10000_2_8_31_0_2_31_20.json']\n"
     ]
    }
   ],
   "source": [
    "data_train = [i for i in glob.glob(data + '\\\\*') if 'train' in i]\n",
    "data_test = [i for i in glob.glob(data + '\\\\*') if 'test' in i]\n",
    "\n",
    "print(data_train)\n",
    "print(data_test)"
   ]
  },
  {
   "cell_type": "code",
   "execution_count": 8,
   "id": "1ab29878",
   "metadata": {},
   "outputs": [],
   "source": [
    "import json \n",
    "def load_json(path):\n",
    "    f = open(path)\n",
    "    return  json.load(f)\n",
    "\n",
    "train_json = load_json(data_train[0])\n",
    "test_json = load_json(data_test[0])"
   ]
  },
  {
   "cell_type": "code",
   "execution_count": 9,
   "id": "a58294b0",
   "metadata": {},
   "outputs": [
    {
     "name": "stdout",
     "output_type": "stream",
     "text": [
      "D:\\GitCloneProject\\Stomach-Status-Classification\\Data set\\spc_dataset\\10cv_128\\orb_train_10000_2_8_31_0_2_31_20histo_128_cv_index0.csv\n"
     ]
    }
   ],
   "source": [
    "save_train_path = main_data_dir + \"\\\\spc_dataset\\\\{0}cv_{1}\\\\\" + data_train[0].split(\"\\\\\")[-1][:-5] + \"histo_{2}_cv_index{3}.csv\"\n",
    "save_test_path = main_data_dir + \"\\\\spc_dataset\\\\{0}cv_{1}\\\\\" + data_test[0].split(\"\\\\\")[-1][:-5] + \"histo_{2}_cv_index{3}.csv\"\n",
    "print(save_train_path.format(10, 128, 128, 0))"
   ]
  },
  {
   "cell_type": "code",
   "execution_count": 10,
   "id": "2a325603",
   "metadata": {},
   "outputs": [],
   "source": [
    "def chunks(lst, n):\n",
    "    random.shuffle(lst) \n",
    "    for i in range(0, len(lst), n):\n",
    "        yield lst[i:i + n]\n",
    "        \n",
    "def make_data(k_choosed = 128, random_state = 42, cv = 10, test_size = 2,\n",
    "              json_data = [], train_path = None, test_path = None):\n",
    "    train_json = json_data[0]\n",
    "    test_json = json_data[1]\n",
    "    \n",
    "    train_nor_js = train_json[\"Group 1 - Normal\"]\n",
    "    train_ab_js = train_json[\"Group 2 - Abnormal\"]\n",
    "    \n",
    "    test_nor_js = test_json[\"Group 1 - Normal\"]\n",
    "    test_ab_js = test_json[\"Group 2 - Abnormal\"]\n",
    "    \n",
    "    ab_vector_lst = train_ab_js + test_ab_js\n",
    "    nor_vector_lst = train_nor_js + test_nor_js\n",
    "    \n",
    "    ab_folds = list(chunks(ab_vector_lst, round(len(ab_vector_lst)/cv)))\n",
    "    nor_folds = list(chunks(nor_vector_lst, round(len(nor_vector_lst)/cv)))\n",
    "    \n",
    "    folds = [x + y for x, y in zip(ab_folds, nor_folds)]\n",
    "    \n",
    "    for x in range(len(folds)):\n",
    "        print(\"Starting Fold : {}\".format(x))\n",
    "        print(\"\\tData Extraction from Fold\")\n",
    "        test_filenames = folds[x]\n",
    "        train_start = []\n",
    "        train_end = []\n",
    "        if folds[:x]:\n",
    "            for i in folds[:x]:\n",
    "                train_start += i \n",
    "        if folds[x+1:]:\n",
    "            for i in folds[x+1:]:\n",
    "                train_end += i \n",
    "        train_filenames = train_start + train_end\n",
    "        \n",
    "        concat_lst = []\n",
    "        print(\"\\tFinish Data Extraction from Fold\")\n",
    "        print(\"\\tData Preparing\")\n",
    "        for img_dict in train_filenames:\n",
    "            for key in img_dict:\n",
    "                img_vector_lst = img_dict[key]\n",
    "                img_vector = np.array(img_vector_lst)\n",
    "                concat_lst.append(img_vector)\n",
    "        \n",
    "        data_cluster = concat_lst[0]\n",
    "        for i in range(1, len(concat_lst)):\n",
    "            concat_data = np.concatenate((data_cluster, concat_lst[i]), axis=0)\n",
    "            data_cluster = concat_data\n",
    "        print(\"\\tFinish Data Preparing for Model\")\n",
    "        print(\"\\tModel Training Data Extraction\")\n",
    "        save_dict = {i : [] for i in range(k_choosed+2)}\n",
    "        model = Birch(n_clusters=k_choosed).fit(data_cluster)\n",
    "        \n",
    "        for img_dict in train_filenames:\n",
    "            for key in img_dict:\n",
    "                img_vector_lst = img_dict[key]\n",
    "                img_vector = np.array(img_vector_lst)\n",
    "                km_vector = model.predict(np.array(img_vector))\n",
    "                his_vector = np.histogram(km_vector, bins = k_choosed, density = True)[0]\n",
    "                save_dict[0].append(key)\n",
    "                for j in range(1, k_choosed+1):\n",
    "                    save_dict[j].append(his_vector[j-1])\n",
    "                if 'Normal' in key:\n",
    "                    save_dict[k_choosed+1].append(0)\n",
    "                else:\n",
    "                    save_dict[k_choosed+1].append(1)\n",
    "        \n",
    "        if train_path:\n",
    "            df = pd.DataFrame(save_dict)\n",
    "            df.to_csv(train_path.format(cv, k_choosed, k_choosed, x))\n",
    "            \n",
    "        print(\"\\tModel Testing Data Extraction\")\n",
    "        save_dict = {i : [] for i in range(k_choosed+2)}\n",
    "        for img_dict in test_filenames:\n",
    "            for key in img_dict:\n",
    "                img_vector_lst = img_dict[key]\n",
    "                img_vector = np.array(img_vector_lst)\n",
    "                km_vector = model.predict(np.array(img_vector))\n",
    "                his_vector = np.histogram(km_vector, bins = k_choosed, density = True)[0]\n",
    "                save_dict[0].append(key)\n",
    "                for j in range(1, k_choosed+1):\n",
    "                    save_dict[j].append(his_vector[j-1])\n",
    "                if 'Normal' in key:\n",
    "                    save_dict[k_choosed+1].append(0)\n",
    "                else:\n",
    "                    save_dict[k_choosed+1].append(1)\n",
    "        \n",
    "        if test_path:\n",
    "            df = pd.DataFrame(save_dict)\n",
    "            df.to_csv(test_path.format(cv, k_choosed, k_choosed, x))\n",
    "        print(\"\\tFinish Data Extraction\")"
   ]
  },
  {
   "cell_type": "code",
   "execution_count": 11,
   "id": "78e684ca",
   "metadata": {},
   "outputs": [
    {
     "name": "stdout",
     "output_type": "stream",
     "text": [
      "Starting Fold : 0\n",
      "\tData Extraction from Fold\n",
      "\tFinish Data Extraction from Fold\n",
      "\tData Preparing\n",
      "\tFinish Data Preparing for Model\n",
      "\tModel Training Data Extraction\n"
     ]
    },
    {
     "ename": "MemoryError",
     "evalue": "unable to allocate array data.",
     "output_type": "error",
     "traceback": [
      "\u001b[1;31m---------------------------------------------------------------------------\u001b[0m",
      "\u001b[1;31mMemoryError\u001b[0m                               Traceback (most recent call last)",
      "Cell \u001b[1;32mIn [11], line 1\u001b[0m\n\u001b[1;32m----> 1\u001b[0m \u001b[43mmake_data\u001b[49m\u001b[43m(\u001b[49m\u001b[43mcv\u001b[49m\u001b[43m \u001b[49m\u001b[38;5;241;43m=\u001b[39;49m\u001b[43m \u001b[49m\u001b[38;5;241;43m10\u001b[39;49m\u001b[43m,\u001b[49m\u001b[43m \u001b[49m\u001b[43mk_choosed\u001b[49m\u001b[43m \u001b[49m\u001b[38;5;241;43m=\u001b[39;49m\u001b[43m \u001b[49m\u001b[38;5;241;43m64\u001b[39;49m\u001b[43m,\u001b[49m\u001b[43m \u001b[49m\u001b[43mtest_size\u001b[49m\u001b[43m \u001b[49m\u001b[38;5;241;43m=\u001b[39;49m\u001b[43m \u001b[49m\u001b[38;5;241;43m2\u001b[39;49m\u001b[43m,\u001b[49m\n\u001b[0;32m      2\u001b[0m \u001b[43m          \u001b[49m\u001b[43mjson_data\u001b[49m\u001b[43m \u001b[49m\u001b[38;5;241;43m=\u001b[39;49m\u001b[43m \u001b[49m\u001b[43m[\u001b[49m\u001b[43mtrain_json\u001b[49m\u001b[43m,\u001b[49m\u001b[43m \u001b[49m\u001b[43mtest_json\u001b[49m\u001b[43m]\u001b[49m\u001b[43m,\u001b[49m\u001b[43m \u001b[49m\n\u001b[0;32m      3\u001b[0m \u001b[43m          \u001b[49m\u001b[43mtrain_path\u001b[49m\u001b[43m \u001b[49m\u001b[38;5;241;43m=\u001b[39;49m\u001b[43m \u001b[49m\u001b[43msave_train_path\u001b[49m\u001b[43m,\u001b[49m\u001b[43m \u001b[49m\n\u001b[0;32m      4\u001b[0m \u001b[43m          \u001b[49m\u001b[43mtest_path\u001b[49m\u001b[43m \u001b[49m\u001b[38;5;241;43m=\u001b[39;49m\u001b[43m \u001b[49m\u001b[43msave_test_path\u001b[49m\u001b[43m)\u001b[49m\n",
      "Cell \u001b[1;32mIn [10], line 55\u001b[0m, in \u001b[0;36mmake_data\u001b[1;34m(k_choosed, random_state, cv, test_size, json_data, train_path, test_path)\u001b[0m\n\u001b[0;32m     53\u001b[0m \u001b[38;5;28mprint\u001b[39m(\u001b[38;5;124m\"\u001b[39m\u001b[38;5;130;01m\\t\u001b[39;00m\u001b[38;5;124mModel Training Data Extraction\u001b[39m\u001b[38;5;124m\"\u001b[39m)\n\u001b[0;32m     54\u001b[0m save_dict \u001b[38;5;241m=\u001b[39m {i : [] \u001b[38;5;28;01mfor\u001b[39;00m i \u001b[38;5;129;01min\u001b[39;00m \u001b[38;5;28mrange\u001b[39m(k_choosed\u001b[38;5;241m+\u001b[39m\u001b[38;5;241m2\u001b[39m)}\n\u001b[1;32m---> 55\u001b[0m model \u001b[38;5;241m=\u001b[39m \u001b[43mBirch\u001b[49m\u001b[43m(\u001b[49m\u001b[43mn_clusters\u001b[49m\u001b[38;5;241;43m=\u001b[39;49m\u001b[43mk_choosed\u001b[49m\u001b[43m)\u001b[49m\u001b[38;5;241;43m.\u001b[39;49m\u001b[43mfit\u001b[49m\u001b[43m(\u001b[49m\u001b[43mdata_cluster\u001b[49m\u001b[43m)\u001b[49m\n\u001b[0;32m     57\u001b[0m \u001b[38;5;28;01mfor\u001b[39;00m img_dict \u001b[38;5;129;01min\u001b[39;00m train_filenames:\n\u001b[0;32m     58\u001b[0m     \u001b[38;5;28;01mfor\u001b[39;00m key \u001b[38;5;129;01min\u001b[39;00m img_dict:\n",
      "File \u001b[1;32md:\\gitcloneproject\\stomach-status-classification\\envir\\lib\\site-packages\\sklearn\\cluster\\_birch.py:553\u001b[0m, in \u001b[0;36mBirch.fit\u001b[1;34m(self, X, y)\u001b[0m\n\u001b[0;32m    551\u001b[0m \u001b[38;5;66;03m# TODO: Remove deprecated flags in 1.2\u001b[39;00m\n\u001b[0;32m    552\u001b[0m \u001b[38;5;28mself\u001b[39m\u001b[38;5;241m.\u001b[39m_deprecated_fit, \u001b[38;5;28mself\u001b[39m\u001b[38;5;241m.\u001b[39m_deprecated_partial_fit \u001b[38;5;241m=\u001b[39m \u001b[38;5;28;01mTrue\u001b[39;00m, \u001b[38;5;28;01mFalse\u001b[39;00m\n\u001b[1;32m--> 553\u001b[0m \u001b[38;5;28;01mreturn\u001b[39;00m \u001b[38;5;28;43mself\u001b[39;49m\u001b[38;5;241;43m.\u001b[39;49m\u001b[43m_fit\u001b[49m\u001b[43m(\u001b[49m\u001b[43mX\u001b[49m\u001b[43m,\u001b[49m\u001b[43m \u001b[49m\u001b[43mpartial\u001b[49m\u001b[38;5;241;43m=\u001b[39;49m\u001b[38;5;28;43;01mFalse\u001b[39;49;00m\u001b[43m)\u001b[49m\n",
      "File \u001b[1;32md:\\gitcloneproject\\stomach-status-classification\\envir\\lib\\site-packages\\sklearn\\cluster\\_birch.py:616\u001b[0m, in \u001b[0;36mBirch._fit\u001b[1;34m(self, X, partial)\u001b[0m\n\u001b[0;32m    613\u001b[0m \u001b[38;5;28mself\u001b[39m\u001b[38;5;241m.\u001b[39msubcluster_centers_ \u001b[38;5;241m=\u001b[39m centroids\n\u001b[0;32m    614\u001b[0m \u001b[38;5;28mself\u001b[39m\u001b[38;5;241m.\u001b[39m_n_features_out \u001b[38;5;241m=\u001b[39m \u001b[38;5;28mself\u001b[39m\u001b[38;5;241m.\u001b[39msubcluster_centers_\u001b[38;5;241m.\u001b[39mshape[\u001b[38;5;241m0\u001b[39m]\n\u001b[1;32m--> 616\u001b[0m \u001b[38;5;28;43mself\u001b[39;49m\u001b[38;5;241;43m.\u001b[39;49m\u001b[43m_global_clustering\u001b[49m\u001b[43m(\u001b[49m\u001b[43mX\u001b[49m\u001b[43m)\u001b[49m\n\u001b[0;32m    617\u001b[0m \u001b[38;5;28;01mreturn\u001b[39;00m \u001b[38;5;28mself\u001b[39m\n",
      "File \u001b[1;32md:\\gitcloneproject\\stomach-status-classification\\envir\\lib\\site-packages\\sklearn\\cluster\\_birch.py:762\u001b[0m, in \u001b[0;36mBirch._global_clustering\u001b[1;34m(self, X)\u001b[0m\n\u001b[0;32m    752\u001b[0m         warnings\u001b[38;5;241m.\u001b[39mwarn(\n\u001b[0;32m    753\u001b[0m             \u001b[38;5;124m\"\u001b[39m\u001b[38;5;124mNumber of subclusters found (\u001b[39m\u001b[38;5;132;01m%d\u001b[39;00m\u001b[38;5;124m) by BIRCH is less \u001b[39m\u001b[38;5;124m\"\u001b[39m\n\u001b[0;32m    754\u001b[0m             \u001b[38;5;124m\"\u001b[39m\u001b[38;5;124mthan (\u001b[39m\u001b[38;5;132;01m%d\u001b[39;00m\u001b[38;5;124m). Decrease the threshold.\u001b[39m\u001b[38;5;124m\"\u001b[39m\n\u001b[0;32m    755\u001b[0m             \u001b[38;5;241m%\u001b[39m (\u001b[38;5;28mlen\u001b[39m(centroids), \u001b[38;5;28mself\u001b[39m\u001b[38;5;241m.\u001b[39mn_clusters),\n\u001b[0;32m    756\u001b[0m             ConvergenceWarning,\n\u001b[0;32m    757\u001b[0m         )\n\u001b[0;32m    758\u001b[0m \u001b[38;5;28;01melse\u001b[39;00m:\n\u001b[0;32m    759\u001b[0m     \u001b[38;5;66;03m# The global clustering step that clusters the subclusters of\u001b[39;00m\n\u001b[0;32m    760\u001b[0m     \u001b[38;5;66;03m# the leaves. It assumes the centroids of the subclusters as\u001b[39;00m\n\u001b[0;32m    761\u001b[0m     \u001b[38;5;66;03m# samples and finds the final centroids.\u001b[39;00m\n\u001b[1;32m--> 762\u001b[0m     \u001b[38;5;28mself\u001b[39m\u001b[38;5;241m.\u001b[39msubcluster_labels_ \u001b[38;5;241m=\u001b[39m \u001b[43mclusterer\u001b[49m\u001b[38;5;241;43m.\u001b[39;49m\u001b[43mfit_predict\u001b[49m\u001b[43m(\u001b[49m\u001b[38;5;28;43mself\u001b[39;49m\u001b[38;5;241;43m.\u001b[39;49m\u001b[43msubcluster_centers_\u001b[49m\u001b[43m)\u001b[49m\n\u001b[0;32m    764\u001b[0m \u001b[38;5;28;01mif\u001b[39;00m compute_labels:\n\u001b[0;32m    765\u001b[0m     \u001b[38;5;28mself\u001b[39m\u001b[38;5;241m.\u001b[39mlabels_ \u001b[38;5;241m=\u001b[39m \u001b[38;5;28mself\u001b[39m\u001b[38;5;241m.\u001b[39m_predict(X)\n",
      "File \u001b[1;32md:\\gitcloneproject\\stomach-status-classification\\envir\\lib\\site-packages\\sklearn\\cluster\\_agglomerative.py:1051\u001b[0m, in \u001b[0;36mAgglomerativeClustering.fit_predict\u001b[1;34m(self, X, y)\u001b[0m\n\u001b[0;32m   1030\u001b[0m \u001b[38;5;28;01mdef\u001b[39;00m \u001b[38;5;21mfit_predict\u001b[39m(\u001b[38;5;28mself\u001b[39m, X, y\u001b[38;5;241m=\u001b[39m\u001b[38;5;28;01mNone\u001b[39;00m):\n\u001b[0;32m   1031\u001b[0m     \u001b[38;5;124;03m\"\"\"Fit and return the result of each sample's clustering assignment.\u001b[39;00m\n\u001b[0;32m   1032\u001b[0m \n\u001b[0;32m   1033\u001b[0m \u001b[38;5;124;03m    In addition to fitting, this method also return the result of the\u001b[39;00m\n\u001b[1;32m   (...)\u001b[0m\n\u001b[0;32m   1049\u001b[0m \u001b[38;5;124;03m        Cluster labels.\u001b[39;00m\n\u001b[0;32m   1050\u001b[0m \u001b[38;5;124;03m    \"\"\"\u001b[39;00m\n\u001b[1;32m-> 1051\u001b[0m     \u001b[38;5;28;01mreturn\u001b[39;00m \u001b[38;5;28;43msuper\u001b[39;49m\u001b[43m(\u001b[49m\u001b[43m)\u001b[49m\u001b[38;5;241;43m.\u001b[39;49m\u001b[43mfit_predict\u001b[49m\u001b[43m(\u001b[49m\u001b[43mX\u001b[49m\u001b[43m,\u001b[49m\u001b[43m \u001b[49m\u001b[43my\u001b[49m\u001b[43m)\u001b[49m\n",
      "File \u001b[1;32md:\\gitcloneproject\\stomach-status-classification\\envir\\lib\\site-packages\\sklearn\\base.py:751\u001b[0m, in \u001b[0;36mClusterMixin.fit_predict\u001b[1;34m(self, X, y)\u001b[0m\n\u001b[0;32m    733\u001b[0m \u001b[38;5;124;03m\"\"\"\u001b[39;00m\n\u001b[0;32m    734\u001b[0m \u001b[38;5;124;03mPerform clustering on `X` and returns cluster labels.\u001b[39;00m\n\u001b[0;32m    735\u001b[0m \n\u001b[1;32m   (...)\u001b[0m\n\u001b[0;32m    747\u001b[0m \u001b[38;5;124;03m    Cluster labels.\u001b[39;00m\n\u001b[0;32m    748\u001b[0m \u001b[38;5;124;03m\"\"\"\u001b[39;00m\n\u001b[0;32m    749\u001b[0m \u001b[38;5;66;03m# non-optimized default implementation; override when a better\u001b[39;00m\n\u001b[0;32m    750\u001b[0m \u001b[38;5;66;03m# method is possible for a given clustering algorithm\u001b[39;00m\n\u001b[1;32m--> 751\u001b[0m \u001b[38;5;28;43mself\u001b[39;49m\u001b[38;5;241;43m.\u001b[39;49m\u001b[43mfit\u001b[49m\u001b[43m(\u001b[49m\u001b[43mX\u001b[49m\u001b[43m)\u001b[49m\n\u001b[0;32m    752\u001b[0m \u001b[38;5;28;01mreturn\u001b[39;00m \u001b[38;5;28mself\u001b[39m\u001b[38;5;241m.\u001b[39mlabels_\n",
      "File \u001b[1;32md:\\gitcloneproject\\stomach-status-classification\\envir\\lib\\site-packages\\sklearn\\cluster\\_agglomerative.py:915\u001b[0m, in \u001b[0;36mAgglomerativeClustering.fit\u001b[1;34m(self, X, y)\u001b[0m\n\u001b[0;32m    897\u001b[0m \u001b[38;5;124;03m\"\"\"Fit the hierarchical clustering from features, or distance matrix.\u001b[39;00m\n\u001b[0;32m    898\u001b[0m \n\u001b[0;32m    899\u001b[0m \u001b[38;5;124;03mParameters\u001b[39;00m\n\u001b[1;32m   (...)\u001b[0m\n\u001b[0;32m    912\u001b[0m \u001b[38;5;124;03m    Returns the fitted instance.\u001b[39;00m\n\u001b[0;32m    913\u001b[0m \u001b[38;5;124;03m\"\"\"\u001b[39;00m\n\u001b[0;32m    914\u001b[0m X \u001b[38;5;241m=\u001b[39m \u001b[38;5;28mself\u001b[39m\u001b[38;5;241m.\u001b[39m_validate_data(X, ensure_min_samples\u001b[38;5;241m=\u001b[39m\u001b[38;5;241m2\u001b[39m)\n\u001b[1;32m--> 915\u001b[0m \u001b[38;5;28;01mreturn\u001b[39;00m \u001b[38;5;28;43mself\u001b[39;49m\u001b[38;5;241;43m.\u001b[39;49m\u001b[43m_fit\u001b[49m\u001b[43m(\u001b[49m\u001b[43mX\u001b[49m\u001b[43m)\u001b[49m\n",
      "File \u001b[1;32md:\\gitcloneproject\\stomach-status-classification\\envir\\lib\\site-packages\\sklearn\\cluster\\_agglomerative.py:998\u001b[0m, in \u001b[0;36mAgglomerativeClustering._fit\u001b[1;34m(self, X)\u001b[0m\n\u001b[0;32m    994\u001b[0m distance_threshold \u001b[38;5;241m=\u001b[39m \u001b[38;5;28mself\u001b[39m\u001b[38;5;241m.\u001b[39mdistance_threshold\n\u001b[0;32m    996\u001b[0m return_distance \u001b[38;5;241m=\u001b[39m (distance_threshold \u001b[38;5;129;01mis\u001b[39;00m \u001b[38;5;129;01mnot\u001b[39;00m \u001b[38;5;28;01mNone\u001b[39;00m) \u001b[38;5;129;01mor\u001b[39;00m \u001b[38;5;28mself\u001b[39m\u001b[38;5;241m.\u001b[39mcompute_distances\n\u001b[1;32m--> 998\u001b[0m out \u001b[38;5;241m=\u001b[39m memory\u001b[38;5;241m.\u001b[39mcache(tree_builder)(\n\u001b[0;32m    999\u001b[0m     X,\n\u001b[0;32m   1000\u001b[0m     connectivity\u001b[38;5;241m=\u001b[39mconnectivity,\n\u001b[0;32m   1001\u001b[0m     n_clusters\u001b[38;5;241m=\u001b[39mn_clusters,\n\u001b[0;32m   1002\u001b[0m     return_distance\u001b[38;5;241m=\u001b[39mreturn_distance,\n\u001b[0;32m   1003\u001b[0m     \u001b[38;5;241m*\u001b[39m\u001b[38;5;241m*\u001b[39mkwargs,\n\u001b[0;32m   1004\u001b[0m )\n\u001b[0;32m   1005\u001b[0m (\u001b[38;5;28mself\u001b[39m\u001b[38;5;241m.\u001b[39mchildren_, \u001b[38;5;28mself\u001b[39m\u001b[38;5;241m.\u001b[39mn_connected_components_, \u001b[38;5;28mself\u001b[39m\u001b[38;5;241m.\u001b[39mn_leaves_, parents) \u001b[38;5;241m=\u001b[39m out[\n\u001b[0;32m   1006\u001b[0m     :\u001b[38;5;241m4\u001b[39m\n\u001b[0;32m   1007\u001b[0m ]\n\u001b[0;32m   1009\u001b[0m \u001b[38;5;28;01mif\u001b[39;00m return_distance:\n",
      "File \u001b[1;32md:\\gitcloneproject\\stomach-status-classification\\envir\\lib\\site-packages\\joblib\\memory.py:349\u001b[0m, in \u001b[0;36mNotMemorizedFunc.__call__\u001b[1;34m(self, *args, **kwargs)\u001b[0m\n\u001b[0;32m    348\u001b[0m \u001b[38;5;28;01mdef\u001b[39;00m \u001b[38;5;21m__call__\u001b[39m(\u001b[38;5;28mself\u001b[39m, \u001b[38;5;241m*\u001b[39margs, \u001b[38;5;241m*\u001b[39m\u001b[38;5;241m*\u001b[39mkwargs):\n\u001b[1;32m--> 349\u001b[0m     \u001b[38;5;28;01mreturn\u001b[39;00m \u001b[38;5;28mself\u001b[39m\u001b[38;5;241m.\u001b[39mfunc(\u001b[38;5;241m*\u001b[39margs, \u001b[38;5;241m*\u001b[39m\u001b[38;5;241m*\u001b[39mkwargs)\n",
      "File \u001b[1;32md:\\gitcloneproject\\stomach-status-classification\\envir\\lib\\site-packages\\sklearn\\cluster\\_agglomerative.py:270\u001b[0m, in \u001b[0;36mward_tree\u001b[1;34m(X, connectivity, n_clusters, return_distance)\u001b[0m\n\u001b[0;32m    260\u001b[0m     warnings\u001b[38;5;241m.\u001b[39mwarn(\n\u001b[0;32m    261\u001b[0m         \u001b[38;5;124m\"\u001b[39m\u001b[38;5;124mPartial build of the tree is implemented \u001b[39m\u001b[38;5;124m\"\u001b[39m\n\u001b[0;32m    262\u001b[0m         \u001b[38;5;124m\"\u001b[39m\u001b[38;5;124monly for structured clustering (i.e. with \u001b[39m\u001b[38;5;124m\"\u001b[39m\n\u001b[1;32m   (...)\u001b[0m\n\u001b[0;32m    267\u001b[0m         stacklevel\u001b[38;5;241m=\u001b[39m\u001b[38;5;241m2\u001b[39m,\n\u001b[0;32m    268\u001b[0m     )\n\u001b[0;32m    269\u001b[0m X \u001b[38;5;241m=\u001b[39m np\u001b[38;5;241m.\u001b[39mrequire(X, requirements\u001b[38;5;241m=\u001b[39m\u001b[38;5;124m\"\u001b[39m\u001b[38;5;124mW\u001b[39m\u001b[38;5;124m\"\u001b[39m)\n\u001b[1;32m--> 270\u001b[0m out \u001b[38;5;241m=\u001b[39m \u001b[43mhierarchy\u001b[49m\u001b[38;5;241;43m.\u001b[39;49m\u001b[43mward\u001b[49m\u001b[43m(\u001b[49m\u001b[43mX\u001b[49m\u001b[43m)\u001b[49m\n\u001b[0;32m    271\u001b[0m children_ \u001b[38;5;241m=\u001b[39m out[:, :\u001b[38;5;241m2\u001b[39m]\u001b[38;5;241m.\u001b[39mastype(np\u001b[38;5;241m.\u001b[39mintp)\n\u001b[0;32m    273\u001b[0m \u001b[38;5;28;01mif\u001b[39;00m return_distance:\n",
      "File \u001b[1;32md:\\gitcloneproject\\stomach-status-classification\\envir\\lib\\site-packages\\scipy\\cluster\\hierarchy.py:834\u001b[0m, in \u001b[0;36mward\u001b[1;34m(y)\u001b[0m\n\u001b[0;32m    738\u001b[0m \u001b[38;5;28;01mdef\u001b[39;00m \u001b[38;5;21mward\u001b[39m(y):\n\u001b[0;32m    739\u001b[0m     \u001b[38;5;124;03m\"\"\"\u001b[39;00m\n\u001b[0;32m    740\u001b[0m \u001b[38;5;124;03m    Perform Ward's linkage on a condensed distance matrix.\u001b[39;00m\n\u001b[0;32m    741\u001b[0m \n\u001b[1;32m   (...)\u001b[0m\n\u001b[0;32m    832\u001b[0m \n\u001b[0;32m    833\u001b[0m \u001b[38;5;124;03m    \"\"\"\u001b[39;00m\n\u001b[1;32m--> 834\u001b[0m     \u001b[38;5;28;01mreturn\u001b[39;00m \u001b[43mlinkage\u001b[49m\u001b[43m(\u001b[49m\u001b[43my\u001b[49m\u001b[43m,\u001b[49m\u001b[43m \u001b[49m\u001b[43mmethod\u001b[49m\u001b[38;5;241;43m=\u001b[39;49m\u001b[38;5;124;43m'\u001b[39;49m\u001b[38;5;124;43mward\u001b[39;49m\u001b[38;5;124;43m'\u001b[39;49m\u001b[43m,\u001b[49m\u001b[43m \u001b[49m\u001b[43mmetric\u001b[49m\u001b[38;5;241;43m=\u001b[39;49m\u001b[38;5;124;43m'\u001b[39;49m\u001b[38;5;124;43meuclidean\u001b[39;49m\u001b[38;5;124;43m'\u001b[39;49m\u001b[43m)\u001b[49m\n",
      "File \u001b[1;32md:\\gitcloneproject\\stomach-status-classification\\envir\\lib\\site-packages\\scipy\\cluster\\hierarchy.py:1074\u001b[0m, in \u001b[0;36mlinkage\u001b[1;34m(y, method, metric, optimal_ordering)\u001b[0m\n\u001b[0;32m   1072\u001b[0m     result \u001b[38;5;241m=\u001b[39m _hierarchy\u001b[38;5;241m.\u001b[39mmst_single_linkage(y, n)\n\u001b[0;32m   1073\u001b[0m \u001b[38;5;28;01melif\u001b[39;00m method \u001b[38;5;129;01min\u001b[39;00m [\u001b[38;5;124m'\u001b[39m\u001b[38;5;124mcomplete\u001b[39m\u001b[38;5;124m'\u001b[39m, \u001b[38;5;124m'\u001b[39m\u001b[38;5;124maverage\u001b[39m\u001b[38;5;124m'\u001b[39m, \u001b[38;5;124m'\u001b[39m\u001b[38;5;124mweighted\u001b[39m\u001b[38;5;124m'\u001b[39m, \u001b[38;5;124m'\u001b[39m\u001b[38;5;124mward\u001b[39m\u001b[38;5;124m'\u001b[39m]:\n\u001b[1;32m-> 1074\u001b[0m     result \u001b[38;5;241m=\u001b[39m \u001b[43m_hierarchy\u001b[49m\u001b[38;5;241;43m.\u001b[39;49m\u001b[43mnn_chain\u001b[49m\u001b[43m(\u001b[49m\u001b[43my\u001b[49m\u001b[43m,\u001b[49m\u001b[43m \u001b[49m\u001b[43mn\u001b[49m\u001b[43m,\u001b[49m\u001b[43m \u001b[49m\u001b[43mmethod_code\u001b[49m\u001b[43m)\u001b[49m\n\u001b[0;32m   1075\u001b[0m \u001b[38;5;28;01melse\u001b[39;00m:\n\u001b[0;32m   1076\u001b[0m     result \u001b[38;5;241m=\u001b[39m _hierarchy\u001b[38;5;241m.\u001b[39mfast_linkage(y, n, method_code)\n",
      "File \u001b[1;32m_hierarchy.pyx:930\u001b[0m, in \u001b[0;36mscipy.cluster._hierarchy.nn_chain\u001b[1;34m()\u001b[0m\n",
      "File \u001b[1;32mstringsource:250\u001b[0m, in \u001b[0;36mView.MemoryView.array_cwrapper\u001b[1;34m()\u001b[0m\n",
      "File \u001b[1;32mstringsource:177\u001b[0m, in \u001b[0;36mView.MemoryView.array.__cinit__\u001b[1;34m()\u001b[0m\n",
      "\u001b[1;31mMemoryError\u001b[0m: unable to allocate array data."
     ]
    }
   ],
   "source": [
    "make_data(cv = 10, k_choosed = 64, test_size = 2,\n",
    "          json_data = [train_json, test_json], \n",
    "          train_path = save_train_path, \n",
    "          test_path = save_test_path)"
   ]
  }
 ],
 "metadata": {
  "kernelspec": {
   "display_name": "Python 3 (ipykernel)",
   "language": "python",
   "name": "python3"
  },
  "language_info": {
   "codemirror_mode": {
    "name": "ipython",
    "version": 3
   },
   "file_extension": ".py",
   "mimetype": "text/x-python",
   "name": "python",
   "nbconvert_exporter": "python",
   "pygments_lexer": "ipython3",
   "version": "3.9.5"
  }
 },
 "nbformat": 4,
 "nbformat_minor": 5
}
