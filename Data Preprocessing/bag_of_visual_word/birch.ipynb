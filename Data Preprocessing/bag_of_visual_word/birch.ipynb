{
 "cells": [
  {
   "cell_type": "code",
   "execution_count": 1,
   "id": "ebff94ae",
   "metadata": {},
   "outputs": [],
   "source": [
    "import os\n",
    "import pandas as pd\n",
    "import numpy as np\n",
    "from sklearn.cluster import Birch\n",
    "import random"
   ]
  },
  {
   "cell_type": "code",
   "execution_count": 2,
   "id": "5748833b",
   "metadata": {},
   "outputs": [
    {
     "name": "stdout",
     "output_type": "stream",
     "text": [
      "D:\\GitCloneProject\\Stomach-Status-Classification\\Data Preprocessing\\bag_of_visual_word\n"
     ]
    }
   ],
   "source": [
    "print(os.getcwd())"
   ]
  },
  {
   "cell_type": "code",
   "execution_count": 3,
   "id": "73460acf",
   "metadata": {},
   "outputs": [
    {
     "name": "stdout",
     "output_type": "stream",
     "text": [
      "D:\\GitCloneProject\\Stomach-Status-Classification\n"
     ]
    }
   ],
   "source": [
    "os.chdir(\"..\")\n",
    "os.chdir(\"..\")\n",
    "print(os.getcwd())"
   ]
  },
  {
   "cell_type": "code",
   "execution_count": 4,
   "id": "1c53c15e",
   "metadata": {},
   "outputs": [],
   "source": [
    "main_data_dir = os.getcwd() + \"\\\\Data set\"\n",
    "kmean_data_dir = main_data_dir + \"\\\\spc_dataset\"\n",
    "import glob"
   ]
  },
  {
   "cell_type": "code",
   "execution_count": 5,
   "id": "2ffe08d8",
   "metadata": {},
   "outputs": [],
   "source": [
    "from sklearn import metrics\n",
    "from scipy.spatial.distance import cdist\n",
    "import matplotlib.pyplot as plt"
   ]
  },
  {
   "cell_type": "code",
   "execution_count": 6,
   "id": "1eee1f8f",
   "metadata": {},
   "outputs": [
    {
     "name": "stdout",
     "output_type": "stream",
     "text": [
      "D:\\GitCloneProject\\Stomach-Status-Classification\\Data set\\sift\n"
     ]
    }
   ],
   "source": [
    "descriptor = 'sift'\n",
    "\n",
    "data = main_data_dir + \"\\\\{}\".format(descriptor)\n",
    "print(data)"
   ]
  },
  {
   "cell_type": "code",
   "execution_count": 7,
   "id": "8b80d441",
   "metadata": {},
   "outputs": [
    {
     "name": "stdout",
     "output_type": "stream",
     "text": [
      "['D:\\\\GitCloneProject\\\\Stomach-Status-Classification\\\\Data set\\\\sift\\\\sift_train_300_3_0.04_10_1.6.json']\n",
      "['D:\\\\GitCloneProject\\\\Stomach-Status-Classification\\\\Data set\\\\sift\\\\sift_test_300_3_0.04_10_1.6.json']\n"
     ]
    }
   ],
   "source": [
    "data_train = [i for i in glob.glob(data + '\\\\*') if 'train' in i]\n",
    "data_test = [i for i in glob.glob(data + '\\\\*') if 'test' in i]\n",
    "\n",
    "print(data_train)\n",
    "print(data_test)"
   ]
  },
  {
   "cell_type": "code",
   "execution_count": 8,
   "id": "1ab29878",
   "metadata": {},
   "outputs": [],
   "source": [
    "import json \n",
    "def load_json(path):\n",
    "    f = open(path)\n",
    "    return  json.load(f)\n",
    "\n",
    "train_json = load_json(data_train[0])\n",
    "test_json = load_json(data_test[0])"
   ]
  },
  {
   "cell_type": "code",
   "execution_count": 9,
   "id": "a58294b0",
   "metadata": {},
   "outputs": [
    {
     "name": "stdout",
     "output_type": "stream",
     "text": [
      "D:\\GitCloneProject\\Stomach-Status-Classification\\Data set\\spc_dataset\\10cv_128\\sift_train_300_3_0.04_10_1.6histo_128_cv_index0.csv\n"
     ]
    }
   ],
   "source": [
    "save_train_path = main_data_dir + \"\\\\spc_dataset\\\\{0}cv_{1}\\\\\" + data_train[0].split(\"\\\\\")[-1][:-5] + \"histo_{2}_cv_index{3}.csv\"\n",
    "save_test_path = main_data_dir + \"\\\\spc_dataset\\\\{0}cv_{1}\\\\\" + data_test[0].split(\"\\\\\")[-1][:-5] + \"histo_{2}_cv_index{3}.csv\"\n",
    "print(save_train_path.format(10, 128, 128, 0))"
   ]
  },
  {
   "cell_type": "code",
   "execution_count": 15,
   "id": "2a325603",
   "metadata": {},
   "outputs": [],
   "source": [
    "def chunks(lst, n):\n",
    "    random.shuffle(lst) \n",
    "    for i in range(0, len(lst), n):\n",
    "        yield lst[i:i + n]\n",
    "        \n",
    "def make_data(k_choosed = 128, random_state = 42, cv = 10, test_size = 2,\n",
    "              json_data = [], train_path = None, test_path = None):\n",
    "    train_json = json_data[0]\n",
    "    test_json = json_data[1]\n",
    "    \n",
    "    train_nor_js = train_json[\"Group 1 - Normal\"]\n",
    "    train_ab_js = train_json[\"Group 2 - Abnormal\"]\n",
    "    \n",
    "    test_nor_js = test_json[\"Group 1 - Normal\"]\n",
    "    test_ab_js = test_json[\"Group 2 - Abnormal\"]\n",
    "    \n",
    "    ab_vector_lst = train_ab_js + test_ab_js\n",
    "    nor_vector_lst = train_nor_js + test_nor_js\n",
    "    \n",
    "    ab_folds = list(chunks(ab_vector_lst, round(len(ab_vector_lst)/cv)))\n",
    "    nor_folds = list(chunks(nor_vector_lst, round(len(nor_vector_lst)/cv)))\n",
    "    \n",
    "    folds = [x + y for x, y in zip(ab_folds, nor_folds)]\n",
    "    \n",
    "    for x in range(len(folds)):\n",
    "        print(\"Starting Fold : {}\".format(x))\n",
    "        print(\"\\tData Extraction from Fold\")\n",
    "        test_filenames = folds[x]\n",
    "        train_start = []\n",
    "        train_end = []\n",
    "        if folds[:x]:\n",
    "            for i in folds[:x]:\n",
    "                train_start += i \n",
    "        if folds[x+1:]:\n",
    "            for i in folds[x+1:]:\n",
    "                train_end += i \n",
    "        train_filenames = train_start + train_end\n",
    "        \n",
    "        concat_lst = []\n",
    "        print(\"\\tFinish Data Extraction from Fold\")\n",
    "        print(\"\\tData Preparing\")\n",
    "        for img_dict in train_filenames:\n",
    "            for key in img_dict:\n",
    "                img_vector_lst = img_dict[key]\n",
    "                img_vector = np.array(img_vector_lst)\n",
    "                concat_lst.append(img_vector)\n",
    "        \n",
    "        data_cluster = concat_lst[0]\n",
    "        for i in range(1, len(concat_lst)):\n",
    "            concat_data = np.concatenate((data_cluster, concat_lst[i]), axis=0)\n",
    "            data_cluster = concat_data\n",
    "        print(\"\\tFinish Data Preparing for Model\")\n",
    "        print(\"\\tModel Training Data Extraction\")\n",
    "        save_dict = {i : [] for i in range(k_choosed+2)}\n",
    "        model = Birch(n_clusters=k_choosed).fit(data_cluster)\n",
    "        \n",
    "        for img_dict in train_filenames:\n",
    "            for key in img_dict:\n",
    "                img_vector_lst = img_dict[key]\n",
    "                img_vector = np.array(img_vector_lst)\n",
    "                km_vector = model.predict(np.array(img_vector))\n",
    "                his_vector = np.histogram(km_vector, bins = k_choosed, density = True)[0]\n",
    "                save_dict[0].append(key)\n",
    "                for j in range(1, k_choosed+1):\n",
    "                    save_dict[j].append(his_vector[j-1])\n",
    "                if 'Normal' in key:\n",
    "                    save_dict[k_choosed+1].append(0)\n",
    "                else:\n",
    "                    save_dict[k_choosed+1].append(1)\n",
    "        \n",
    "        if train_path:\n",
    "            df = pd.DataFrame(save_dict)\n",
    "            df.to_csv(train_path.format(cv, k_choosed, k_choosed, x))\n",
    "            \n",
    "        print(\"\\tModel Testing Data Extraction\")\n",
    "        save_dict = {i : [] for i in range(k_choosed+2)}\n",
    "        for img_dict in test_filenames:\n",
    "            for key in img_dict:\n",
    "                img_vector_lst = img_dict[key]\n",
    "                img_vector = np.array(img_vector_lst)\n",
    "                km_vector = model.predict(np.array(img_vector))\n",
    "                his_vector = np.histogram(km_vector, bins = k_choosed, density = True)[0]\n",
    "                save_dict[0].append(key)\n",
    "                for j in range(1, k_choosed+1):\n",
    "                    save_dict[j].append(his_vector[j-1])\n",
    "                if 'Normal' in key:\n",
    "                    save_dict[k_choosed+1].append(0)\n",
    "                else:\n",
    "                    save_dict[k_choosed+1].append(1)\n",
    "        \n",
    "        if test_path:\n",
    "            df = pd.DataFrame(save_dict)\n",
    "            df.to_csv(test_path.format(cv, k_choosed, k_choosed, x))\n",
    "        print(\"\\tFinish Data Extraction\")"
   ]
  },
  {
   "cell_type": "code",
   "execution_count": 16,
   "id": "78e684ca",
   "metadata": {},
   "outputs": [
    {
     "name": "stdout",
     "output_type": "stream",
     "text": [
      "Starting Fold : 0\n",
      "\tData Extraction from Fold\n",
      "\tFinish Data Extraction from Fold\n",
      "\tData Preparing\n",
      "\tFinish Data Preparing for Model\n",
      "\tModel Training Data Extraction\n",
      "\tModel Testing Data Extraction\n",
      "\tFinish Data Extraction\n",
      "Starting Fold : 1\n",
      "\tData Extraction from Fold\n",
      "\tFinish Data Extraction from Fold\n",
      "\tData Preparing\n",
      "\tFinish Data Preparing for Model\n",
      "\tModel Training Data Extraction\n",
      "\tModel Testing Data Extraction\n",
      "\tFinish Data Extraction\n",
      "Starting Fold : 2\n",
      "\tData Extraction from Fold\n",
      "\tFinish Data Extraction from Fold\n",
      "\tData Preparing\n",
      "\tFinish Data Preparing for Model\n",
      "\tModel Training Data Extraction\n",
      "\tModel Testing Data Extraction\n",
      "\tFinish Data Extraction\n",
      "Starting Fold : 3\n",
      "\tData Extraction from Fold\n",
      "\tFinish Data Extraction from Fold\n",
      "\tData Preparing\n",
      "\tFinish Data Preparing for Model\n",
      "\tModel Training Data Extraction\n",
      "\tModel Testing Data Extraction\n",
      "\tFinish Data Extraction\n",
      "Starting Fold : 4\n",
      "\tData Extraction from Fold\n",
      "\tFinish Data Extraction from Fold\n",
      "\tData Preparing\n",
      "\tFinish Data Preparing for Model\n",
      "\tModel Training Data Extraction\n",
      "\tModel Testing Data Extraction\n",
      "\tFinish Data Extraction\n",
      "Starting Fold : 5\n",
      "\tData Extraction from Fold\n",
      "\tFinish Data Extraction from Fold\n",
      "\tData Preparing\n",
      "\tFinish Data Preparing for Model\n",
      "\tModel Training Data Extraction\n",
      "\tModel Testing Data Extraction\n",
      "\tFinish Data Extraction\n",
      "Starting Fold : 6\n",
      "\tData Extraction from Fold\n",
      "\tFinish Data Extraction from Fold\n",
      "\tData Preparing\n",
      "\tFinish Data Preparing for Model\n",
      "\tModel Training Data Extraction\n",
      "\tModel Testing Data Extraction\n",
      "\tFinish Data Extraction\n",
      "Starting Fold : 7\n",
      "\tData Extraction from Fold\n",
      "\tFinish Data Extraction from Fold\n",
      "\tData Preparing\n",
      "\tFinish Data Preparing for Model\n",
      "\tModel Training Data Extraction\n",
      "\tModel Testing Data Extraction\n",
      "\tFinish Data Extraction\n",
      "Starting Fold : 8\n",
      "\tData Extraction from Fold\n",
      "\tFinish Data Extraction from Fold\n",
      "\tData Preparing\n",
      "\tFinish Data Preparing for Model\n",
      "\tModel Training Data Extraction\n",
      "\tModel Testing Data Extraction\n",
      "\tFinish Data Extraction\n",
      "Starting Fold : 9\n",
      "\tData Extraction from Fold\n",
      "\tFinish Data Extraction from Fold\n",
      "\tData Preparing\n",
      "\tFinish Data Preparing for Model\n",
      "\tModel Training Data Extraction\n",
      "\tModel Testing Data Extraction\n",
      "\tFinish Data Extraction\n"
     ]
    }
   ],
   "source": [
    "make_data(cv = 10, k_choosed = 256, test_size = 2,\n",
    "          json_data = [train_json, test_json], \n",
    "          train_path = save_train_path, \n",
    "          test_path = save_test_path)"
   ]
  }
 ],
 "metadata": {
  "kernelspec": {
   "display_name": "Python 3 (ipykernel)",
   "language": "python",
   "name": "python3"
  },
  "language_info": {
   "codemirror_mode": {
    "name": "ipython",
    "version": 3
   },
   "file_extension": ".py",
   "mimetype": "text/x-python",
   "name": "python",
   "nbconvert_exporter": "python",
   "pygments_lexer": "ipython3",
   "version": "3.9.5"
  }
 },
 "nbformat": 4,
 "nbformat_minor": 5
}
