{
 "cells": [
  {
   "cell_type": "code",
   "execution_count": 7,
   "id": "9cead9a2",
   "metadata": {},
   "outputs": [],
   "source": [
    "import os\n",
    "import sys\n",
    "from glob import glob\n",
    "import pandas as pd\n",
    "import numpy as np"
   ]
  },
  {
   "cell_type": "code",
   "execution_count": 2,
   "id": "bffbec68",
   "metadata": {},
   "outputs": [
    {
     "name": "stdout",
     "output_type": "stream",
     "text": [
      "D:\\Github\\Stomach-Status-Classification\\Experiment\\Approach\\all_model_analysis\n"
     ]
    }
   ],
   "source": [
    "print(os.getcwd())"
   ]
  },
  {
   "cell_type": "code",
   "execution_count": 3,
   "id": "41f66c80",
   "metadata": {},
   "outputs": [
    {
     "name": "stdout",
     "output_type": "stream",
     "text": [
      "D:\\Github\\Stomach-Status-Classification\\Experiment\\Approach\n"
     ]
    }
   ],
   "source": [
    "os.chdir(\"..\")\n",
    "print(os.getcwd())"
   ]
  },
  {
   "cell_type": "code",
   "execution_count": 4,
   "id": "5d54fe7d",
   "metadata": {},
   "outputs": [
    {
     "data": {
      "text/plain": [
       "['.ipynb_checkpoints',\n",
       " 'all_model_analysis',\n",
       " 'DecisionTree',\n",
       " 'ExtraTreeClassifier',\n",
       " 'HARDMSEG',\n",
       " 'LogisticRegression',\n",
       " 'RandomForest',\n",
       " 'SVM']"
      ]
     },
     "execution_count": 4,
     "metadata": {},
     "output_type": "execute_result"
    }
   ],
   "source": [
    "os.listdir(os.getcwd())[:10]"
   ]
  },
  {
   "cell_type": "code",
   "execution_count": 8,
   "id": "aeb20b8a",
   "metadata": {},
   "outputs": [],
   "source": [
    "exper_files = [i for i in glob(os.getcwd() + '\\\\*\\\\*.ipynb') if '.ipynb_checkpoints' not in i and 'all_model_analysis' not in i and 'HARDMSEG' not in i]"
   ]
  },
  {
   "cell_type": "code",
   "execution_count": 9,
   "id": "38a9750d",
   "metadata": {},
   "outputs": [
    {
     "name": "stdout",
     "output_type": "stream",
     "text": [
      "['D:\\\\Github\\\\Stomach-Status-Classification\\\\Experiment\\\\Approach\\\\DecisionTree\\\\dt_km_akaze_10cv_128.ipynb', 'D:\\\\Github\\\\Stomach-Status-Classification\\\\Experiment\\\\Approach\\\\DecisionTree\\\\dt_km_akaze_10cv_256.ipynb', 'D:\\\\Github\\\\Stomach-Status-Classification\\\\Experiment\\\\Approach\\\\DecisionTree\\\\dt_km_akaze_10cv_64.ipynb', 'D:\\\\Github\\\\Stomach-Status-Classification\\\\Experiment\\\\Approach\\\\DecisionTree\\\\dt_km_brisk_10cv_128.ipynb', 'D:\\\\Github\\\\Stomach-Status-Classification\\\\Experiment\\\\Approach\\\\DecisionTree\\\\dt_km_brisk_10cv_256.ipynb']\n"
     ]
    }
   ],
   "source": [
    "print(exper_files[:5])"
   ]
  },
  {
   "cell_type": "code",
   "execution_count": null,
   "id": "e8c13b78",
   "metadata": {},
   "outputs": [],
   "source": []
  }
 ],
 "metadata": {
  "kernelspec": {
   "display_name": "Python 3 (ipykernel)",
   "language": "python",
   "name": "python3"
  },
  "language_info": {
   "codemirror_mode": {
    "name": "ipython",
    "version": 3
   },
   "file_extension": ".py",
   "mimetype": "text/x-python",
   "name": "python",
   "nbconvert_exporter": "python",
   "pygments_lexer": "ipython3",
   "version": "3.9.5"
  }
 },
 "nbformat": 4,
 "nbformat_minor": 5
}
