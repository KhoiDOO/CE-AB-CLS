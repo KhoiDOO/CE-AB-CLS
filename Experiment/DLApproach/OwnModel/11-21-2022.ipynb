{
 "cells": [
  {
   "cell_type": "code",
   "execution_count": 1,
   "id": "27e4ff46",
   "metadata": {},
   "outputs": [],
   "source": [
    "import pandas as pd\n",
    "import numpy as np\n",
    "import os\n",
    "import tensorflow as tf\n",
    "import datetime\n",
    "import cv2\n",
    "from keras import backend as K\n",
    "from keras.layers import Layer,InputSpec\n",
    "from keras import layers, models\n",
    "import keras.layers as kl\n",
    "from glob import glob\n",
    "from sklearn.metrics import roc_curve, auc\n",
    "from keras.preprocessing import image\n",
    "from tensorflow.keras.models import Sequential\n",
    "from sklearn.metrics import roc_auc_score\n",
    "from sklearn import preprocessing\n",
    "from tensorflow.keras import callbacks \n",
    "from tensorflow.keras.callbacks import ModelCheckpoint, EarlyStopping, ReduceLROnPlateau\n",
    "from  matplotlib import pyplot as plt\n",
    "from tensorflow.keras import Model\n",
    "from tensorflow.keras.layers import concatenate, Dense, Conv2D, MaxPooling2D, Flatten, Input, Activation, add, AveragePooling2D, BatchNormalization, Dropout\n",
    "%matplotlib inline\n",
    "import shutil\n",
    "from sklearn.metrics import  precision_score, recall_score, accuracy_score,classification_report ,confusion_matrix\n",
    "from tensorflow.python.platform import build_info as tf_build_info\n",
    "from tensorflow.keras.preprocessing.image import ImageDataGenerator\n",
    "from sklearn.model_selection import train_test_split\n",
    "\n",
    "from PIL import ImageFile\n",
    "ImageFile.LOAD_TRUNCATED_IMAGES = True"
   ]
  },
  {
   "cell_type": "code",
   "execution_count": 2,
   "id": "12361308",
   "metadata": {},
   "outputs": [
    {
     "data": {
      "text/plain": [
       "[]"
      ]
     },
     "execution_count": 2,
     "metadata": {},
     "output_type": "execute_result"
    }
   ],
   "source": [
    "tf.config.list_physical_devices('GPU')"
   ]
  },
  {
   "cell_type": "markdown",
   "id": "78b25a44",
   "metadata": {},
   "source": [
    "# Data Preparation"
   ]
  },
  {
   "cell_type": "code",
   "execution_count": 3,
   "id": "f798d169",
   "metadata": {},
   "outputs": [
    {
     "name": "stdout",
     "output_type": "stream",
     "text": [
      "D:\\Github\\Stomach-Status-Classification\\Experiment\\DLApproach\\OwnModel\n",
      "D:\\Github\\Stomach-Status-Classification\n"
     ]
    }
   ],
   "source": [
    "print(os.getcwd())\n",
    "for x in range(3):\n",
    "    os.chdir(\"..\")\n",
    "print(os.getcwd())"
   ]
  },
  {
   "cell_type": "code",
   "execution_count": 4,
   "id": "7a3d55ca",
   "metadata": {},
   "outputs": [
    {
     "name": "stdout",
     "output_type": "stream",
     "text": [
      "['Abnormal', 'Normal']\n"
     ]
    }
   ],
   "source": [
    "main_data_dir = os.getcwd() + \"\\\\Data set\"\n",
    "dl_data_dir = main_data_dir + \"\\\\DL_data\"\n",
    "print(os.listdir(dl_data_dir))"
   ]
  },
  {
   "cell_type": "code",
   "execution_count": 5,
   "id": "bb671e18",
   "metadata": {},
   "outputs": [],
   "source": [
    "aug = ImageDataGenerator(\n",
    "    rotation_range=20,\n",
    "    zoom_range=0.15,\n",
    "    width_shift_range=0.2,\n",
    "    height_shift_range=0.2,\n",
    "    shear_range=0.15,\n",
    "    validation_split = 0.2,\n",
    "    horizontal_flip=True,\n",
    "    fill_mode=\"nearest\")"
   ]
  },
  {
   "cell_type": "code",
   "execution_count": 6,
   "id": "81a8bea0",
   "metadata": {},
   "outputs": [],
   "source": [
    "batch_size = 32\n",
    "target_size = (224, 224)"
   ]
  },
  {
   "cell_type": "code",
   "execution_count": 7,
   "id": "08191885",
   "metadata": {},
   "outputs": [
    {
     "name": "stdout",
     "output_type": "stream",
     "text": [
      "Found 141 images belonging to 2 classes.\n",
      "Found 35 images belonging to 2 classes.\n"
     ]
    }
   ],
   "source": [
    "train_generator = aug.flow_from_directory(directory = dl_data_dir, \n",
    "                                         target_size = target_size,\n",
    "                                         batch_size = batch_size,\n",
    "                                         subset = 'training')\n",
    "\n",
    "val_generator = aug.flow_from_directory(directory = dl_data_dir, \n",
    "                                         target_size = target_size,\n",
    "                                         batch_size = batch_size,\n",
    "                                         subset = 'validation')"
   ]
  },
  {
   "cell_type": "code",
   "execution_count": 8,
   "id": "aa7ddb4f",
   "metadata": {},
   "outputs": [],
   "source": [
    "model = models.Sequential()\n",
    "model.add(layers.Conv2D(32, (3, 3), activation='relu', input_shape=(224, 224, 3)))\n",
    "model.add(layers.MaxPooling2D((2, 2)))\n",
    "model.add(layers.Conv2D(64, (3, 3), activation='relu'))\n",
    "model.add(layers.MaxPooling2D((2, 2)))\n",
    "model.add(layers.Conv2D(64, (3, 3), activation='relu'))\n",
    "model.add(layers.Flatten())\n",
    "model.add(layers.Dense(64, activation='relu'))\n",
    "model.add(layers.Dense(2))"
   ]
  },
  {
   "cell_type": "code",
   "execution_count": 9,
   "id": "a052f68d",
   "metadata": {},
   "outputs": [],
   "source": [
    "opt1=tf.keras.optimizers.Adam(learning_rate=0.001, epsilon=0.1)\n",
    "model.compile(optimizer=opt1,\n",
    "             loss='categorical_crossentropy',\n",
    "             metrics=['accuracy'])"
   ]
  },
  {
   "cell_type": "code",
   "execution_count": 10,
   "id": "3b857ace",
   "metadata": {},
   "outputs": [],
   "source": [
    "Earlystop = EarlyStopping(monitor='val_loss', mode='min',patience=25, min_delta=0.001)"
   ]
  },
  {
   "cell_type": "code",
   "execution_count": 11,
   "id": "000a0527",
   "metadata": {},
   "outputs": [
    {
     "name": "stdout",
     "output_type": "stream",
     "text": [
      "Epoch 1/10\n",
      "5/5 [==============================] - 12s 2s/step - loss: 2.2915 - accuracy: 0.6241 - val_loss: 1.1944 - val_accuracy: 0.6857\n",
      "Epoch 2/10\n",
      "5/5 [==============================] - 11s 2s/step - loss: 1.1311 - accuracy: 0.6809 - val_loss: 1.0672 - val_accuracy: 0.6857\n",
      "Epoch 3/10\n",
      "5/5 [==============================] - 11s 2s/step - loss: 1.0327 - accuracy: 0.6809 - val_loss: 1.0074 - val_accuracy: 0.6857\n",
      "Epoch 4/10\n",
      "5/5 [==============================] - 12s 3s/step - loss: 0.9756 - accuracy: 0.6809 - val_loss: 0.9561 - val_accuracy: 0.6857\n",
      "Epoch 5/10\n",
      "5/5 [==============================] - 11s 2s/step - loss: 0.9378 - accuracy: 0.6809 - val_loss: 0.9194 - val_accuracy: 0.6857\n",
      "Epoch 6/10\n",
      "5/5 [==============================] - 14s 3s/step - loss: 0.9059 - accuracy: 0.6809 - val_loss: 0.8915 - val_accuracy: 0.6857\n",
      "Epoch 7/10\n",
      "5/5 [==============================] - 11s 2s/step - loss: 0.8789 - accuracy: 0.6809 - val_loss: 0.8705 - val_accuracy: 0.6857\n",
      "Epoch 8/10\n",
      "5/5 [==============================] - 11s 2s/step - loss: 0.8544 - accuracy: 0.6809 - val_loss: 0.8505 - val_accuracy: 0.6857\n",
      "Epoch 9/10\n",
      "5/5 [==============================] - 11s 2s/step - loss: 0.8347 - accuracy: 0.6809 - val_loss: 0.8291 - val_accuracy: 0.6857\n",
      "Epoch 10/10\n",
      "5/5 [==============================] - 10s 2s/step - loss: 0.8183 - accuracy: 0.6809 - val_loss: 0.8109 - val_accuracy: 0.6857\n"
     ]
    }
   ],
   "source": [
    "with tf.device('/CPU:0'):\n",
    "    history = model.fit(train_generator,\n",
    "#                         steps_per_epoch=(len(train_df)/10),\n",
    "                        epochs=10,\n",
    "                        validation_data=val_generator, \n",
    "#                         validation_steps=len(val_df)/batch_size,\n",
    "#                         callbacks=[Earlystop]\n",
    "                       )"
   ]
  }
 ],
 "metadata": {
  "kernelspec": {
   "display_name": "Python 3 (ipykernel)",
   "language": "python",
   "name": "python3"
  },
  "language_info": {
   "codemirror_mode": {
    "name": "ipython",
    "version": 3
   },
   "file_extension": ".py",
   "mimetype": "text/x-python",
   "name": "python",
   "nbconvert_exporter": "python",
   "pygments_lexer": "ipython3",
   "version": "3.9.5"
  }
 },
 "nbformat": 4,
 "nbformat_minor": 5
}
