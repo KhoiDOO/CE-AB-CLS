{
 "cells": [
  {
   "cell_type": "code",
   "execution_count": 1,
   "id": "c484ec5a",
   "metadata": {},
   "outputs": [],
   "source": [
    "import os, sys, shutil\n",
    "import pandas as pd\n",
    "import matplotlib.pyplot as plt\n",
    "import seaborn as sns\n",
    "import json\n",
    "\n",
    "from glob import glob\n",
    "import pickle\n",
    "\n",
    "import seaborn as sns\n",
    "import matplotlib.pyplot as plt"
   ]
  },
  {
   "cell_type": "code",
   "execution_count": 2,
   "id": "68d6c2a0",
   "metadata": {},
   "outputs": [
    {
     "name": "stdout",
     "output_type": "stream",
     "text": [
      "/media/asus/working/git/Stomach-Status-Classification/Utils\n"
     ]
    }
   ],
   "source": [
    "print(os.getcwd())"
   ]
  },
  {
   "cell_type": "code",
   "execution_count": 3,
   "id": "dc3f1986",
   "metadata": {},
   "outputs": [
    {
     "name": "stdout",
     "output_type": "stream",
     "text": [
      "/media/asus/working/git/Stomach-Status-Classification\n"
     ]
    }
   ],
   "source": [
    "os.chdir(\"..\")\n",
    "print(os.getcwd())"
   ]
  },
  {
   "cell_type": "code",
   "execution_count": 4,
   "id": "f116a1ac",
   "metadata": {},
   "outputs": [
    {
     "name": "stdout",
     "output_type": "stream",
     "text": [
      "['Training', 'Approach', 'README.md', 'DLApproach', 'Results bag of visual words-20221019T081806Z-001', 'Approach2-8']\n"
     ]
    }
   ],
   "source": [
    "exper_dir = os.getcwd() + \"/Experiment\"\n",
    "print(os.listdir(exper_dir))"
   ]
  },
  {
   "cell_type": "code",
   "execution_count": 5,
   "id": "606a58f0",
   "metadata": {},
   "outputs": [
    {
     "name": "stdout",
     "output_type": "stream",
     "text": [
      "['DecisionTree', 'LogisticRegression', 'all_model_analysis', 'SVM', 'HARDMSEG', 'RandomForest', 'ExtraTreeClassifier']\n"
     ]
    }
   ],
   "source": [
    "approach_dir = exper_dir + \"/Approach\"\n",
    "print(os.listdir(approach_dir))"
   ]
  },
  {
   "cell_type": "code",
   "execution_count": 6,
   "id": "413d7e1e",
   "metadata": {},
   "outputs": [
    {
     "name": "stdout",
     "output_type": "stream",
     "text": [
      "['DecisionTree', 'LogisticRegression', 'SVM', 'RandomForest', 'ExtraTreeClassifier']\n"
     ]
    }
   ],
   "source": [
    "method = [x for x in os.listdir(approach_dir) if x not in [\"HARDMSEG\", \"all_model_analysis\"]]\n",
    "print(method)"
   ]
  },
  {
   "cell_type": "code",
   "execution_count": 7,
   "id": "8f7a9d57",
   "metadata": {},
   "outputs": [
    {
     "data": {
      "text/plain": [
       "['/media/asus/working/git/Stomach-Status-Classification/Experiment/Approach/DecisionTree',\n",
       " '/media/asus/working/git/Stomach-Status-Classification/Experiment/Approach/LogisticRegression',\n",
       " '/media/asus/working/git/Stomach-Status-Classification/Experiment/Approach/SVM',\n",
       " '/media/asus/working/git/Stomach-Status-Classification/Experiment/Approach/RandomForest',\n",
       " '/media/asus/working/git/Stomach-Status-Classification/Experiment/Approach/ExtraTreeClassifier']"
      ]
     },
     "execution_count": 7,
     "metadata": {},
     "output_type": "execute_result"
    }
   ],
   "source": [
    "method_dirs = [approach_dir + f\"/{x}\" for x in method]\n",
    "method_dirs"
   ]
  },
  {
   "cell_type": "code",
   "execution_count": 8,
   "id": "f422a627",
   "metadata": {},
   "outputs": [
    {
     "name": "stdout",
     "output_type": "stream",
     "text": [
      "['rdf_km256_surf50_result_fold10_0.9.pkl', 'dt_km_brisk_10cv_64.ipynb', 'dt_km_surf50_10cv_512.ipynb', 'dt_km_surf_10cv_64.ipynb', 'dt_km_surf100_10cv_64.ipynb', 'rdf_km128_surf0_result_fold10_0.9.pkl', 'rdf_km64_akaze_result_fold10_0.9.pkl', 'rdf_km256_brisk_result_fold10_0.9.pkl', 'dt_km_surf50_10cv_256.ipynb', 'dt_km_surf100_10cv_128.ipynb', 'rdf_km64_sift_result_fold10_0.9.pkl', 'dt_km_brisk_10cv_256.ipynb', 'rdf_km256_kaze_result_fold10_0.9.pkl', 'rdf_km128_orb_result_fold10_0.9.pkl', 'dt_km_sift_10cv_256.ipynb', 'dt_km_akaze_10cv_128.ipynb', 'rdf_km64_surf0_result_fold10_0.9.pkl', '.ipynb_checkpoints', 'rdf_km64_brisk_result_fold10_0.9.pkl', 'dt_km_surf0_10cv_128.ipynb', 'dt_km_brisk_10cv_128.ipynb', 'rdf_km64_kaze_result_fold10_0.9.pkl', 'rdf_km256_surf0_result_fold10_0.9.pkl', 'rdf_km64_surf100_result_fold10_0.9.pkl', 'dt_km_orb_10cv_128.ipynb', 'dt_km_surf100_10cv_256.ipynb', 'dt_km_akaze_10cv_256.ipynb', 'rdf_km512_surf0_result_fold10_0.9.pkl', 'dt_km_kaze_10cv_64.ipynb', 'dt_km_surf0_10cv_256.ipynb', 'dt_km_sift_10cv_128.ipynb', 'dt_km_surf_10cv_256.ipynb', 'dt_km_kaze_10cv_128.ipynb', 'rdf_km128_akaze_result_fold10_0.9.pkl', 'rdf_km128_surf50_result_fold10_0.9.pkl', 'dt_km_kaze_10cv_256.ipynb', 'rdf_km64_surf_result_fold10_0.9.pkl', 'dt_km_surf50_10cv_64.ipynb', 'rdf_km128_surf_result_fold10_0.9.pkl', 'dt_km_surf50_10cv_128.ipynb', 'rdf_km128_sift_result_fold10_0.9.pkl', 'rdf_km256_sift_result_fold10_0.9.pkl', 'rdf_km1024_surf0_result_fold10_0.9.pkl', 'dt_km_surf0_10cv_64.ipynb', 'dt_km_orb_10cv_64.ipynb', 'rdf_km128_brisk_result_fold10_0.9.pkl', 'rdf_km512_surf50_result_fold10_0.9.pkl', 'dt_km_orb_10cv_256.ipynb', 'rdf_km256_surf100_result_fold10_0.9.pkl', 'dt_km_sift_10cv_64.ipynb', 'rdf_km64_surf50_result_fold10_0.9.pkl', 'rdf_km128_surf100_result_fold10_0.9.pkl', 'dt_km_akaze_10cv_64.ipynb', 'dt_km_surf0_10cv_512.ipynb', 'rdf_km256_akaze_result_fold10_0.9.pkl', 'rdf_km256_surf_result_fold10_0.9.pkl', 'dt_km_surf0_10cv_1024.ipynb', 'rdf_km64_orb_result_fold10_0.9.pkl', 'dt_km_surf_10cv_128.ipynb', 'rdf_km128_kaze_result_fold10_0.9.pkl', 'rdf_km256_orb_result_fold10_0.9.pkl']\n"
     ]
    }
   ],
   "source": [
    "print(os.listdir(method_dirs[0]))"
   ]
  },
  {
   "cell_type": "code",
   "execution_count": 9,
   "id": "314a7d1a",
   "metadata": {},
   "outputs": [
    {
     "name": "stdout",
     "output_type": "stream",
     "text": [
      "135\n"
     ]
    }
   ],
   "source": [
    "pkls = []\n",
    "\n",
    "for method in method_dirs:\n",
    "    base_pkl = [x for x in glob(method + \"/*.pkl\") if \"512\" not in x and \"1024\" not in x and \"32\" not in x]\n",
    "    pkls += base_pkl\n",
    "\n",
    "print(len(pkls))"
   ]
  },
  {
   "cell_type": "code",
   "execution_count": 10,
   "id": "f6a94c54",
   "metadata": {},
   "outputs": [
    {
     "name": "stdout",
     "output_type": "stream",
     "text": [
      "135\n"
     ]
    }
   ],
   "source": [
    "ipys = []\n",
    "\n",
    "for method in method_dirs:\n",
    "    base_ipy = [x for x in glob(method + \"/*.ipynb\") if \"512\" not in x and \"1024\" not in x and \"32\" not in x]\n",
    "    ipys += base_ipy\n",
    "\n",
    "print(len(ipys))"
   ]
  },
  {
   "cell_type": "code",
   "execution_count": null,
   "id": "f2435c5f",
   "metadata": {},
   "outputs": [],
   "source": [
    "pkls_dict = {\n",
    "    \"sift\" : [x for x in pkls if \"sift\" in x],\n",
    "    \"surf\" : [x for x in pkls if \"surf\" in x],\n",
    "    \"surf100\" : [x for x in pkls if \"surf100\" in x],\n",
    "    \"surf50\" : [x for x in pkls if \"surf50\" in x],\n",
    "    \"surf0\" : [x for x in pkls if \"surf0\" in x],\n",
    "    \"surf400\" : [x for x in pkls if \"surf\" in x and \"surf100\" not in x and \"surf50\" not in x and \"surf0\" not in x],\n",
    "    \"brisk\" : [x for x in pkls if \"brisk\" in x],\n",
    "    \"orb\" : [x for x in pkls if \"orb\" in x],\n",
    "    \"kaze\" : [x for x in pkls if \"kaze\" in x and \"akaze\" not in x],\n",
    "    \"akaze\" : [x for x in pkls if \"akaze\" in x]\n",
    "}\n",
    "\n",
    "for key in pkls_dict:\n",
    "    print(key, len(pkls_dict[key]))"
   ]
  },
  {
   "cell_type": "code",
   "execution_count": null,
   "id": "73bc90c8",
   "metadata": {},
   "outputs": [],
   "source": [
    "ipy_dict = {\n",
    "    \"sift\" : [x for x in ipys if \"sift\" in x],\n",
    "    \"surf\" : [x for x in ipys if \"surf\" in x],\n",
    "    \"surf100\" : [x for x in ipys if \"surf100\" in x],\n",
    "    \"surf50\" : [x for x in ipys if \"surf50\" in x],\n",
    "    \"surf0\" : [x for x in ipys if \"surf0\" in x],\n",
    "    \"surf400\" : [x for x in ipys if \"surf\" in x and \"surf100\" not in x and \"surf50\" not in x and \"surf0\" not in x],\n",
    "    \"brisk\" : [x for x in ipys if \"brisk\" in x],\n",
    "    \"orb\" : [x for x in ipys if \"orb\" in x],\n",
    "    \"kaze\" : [x for x in ipys if \"kaze\" in x and \"akaze\" not in x],\n",
    "    \"akaze\" : [x for x in ipys if \"akaze\" in x]\n",
    "}\n",
    "\n",
    "for key in ipy_dict:\n",
    "    print(key, len(ipy_dict[key]))"
   ]
  },
  {
   "cell_type": "code",
   "execution_count": null,
   "id": "a6cec912",
   "metadata": {},
   "outputs": [],
   "source": [
    "sift_dict = {\n",
    "    \"method\" : [],\n",
    "    \"cluster\" : [],\n",
    "    \"fold\" : [],\n",
    "    \"accuracy\" : [],\n",
    "    \"precision\" : [],\n",
    "    \"sensitivity\" : [],\n",
    "    \"f1-score\" : [],\n",
    "    \"specificity\" : [],\n",
    "    \"auc\" : []\n",
    "}\n",
    "\n",
    "method_mapping = {\n",
    "    'DecisionTree' : \"DT\",\n",
    "    'ExtraTreeClassifier' : \"ETC\",\n",
    "    'LogisticRegression' : \"LR\",\n",
    "    'RandomForest' : \"RF\",\n",
    "    'SVM' : \"SVM\"\n",
    "}\n",
    "\n",
    "for pkl_path in pkls_dict[\"surf400\"]:\n",
    "    split = pkl_path.split(\"/\")\n",
    "    method = split[-2]\n",
    "    filename = split[-1]\n",
    "#     print(method, filename)\n",
    "    \n",
    "    filename_split = filename.split(\"_\")\n",
    "#     print(filename_split)\n",
    "    \n",
    "    feature_descriptor = filename_split[2]\n",
    "    cluster_count = filename_split[1][2:]\n",
    "    \n",
    "    correlated_ipy = [x for x in ipy_dict[\"surf400\"] if feature_descriptor in x and cluster_count in x and method in x][0]\n",
    "    \n",
    "    ipy_json = json.load(open(correlated_ipy))\n",
    "    \n",
    "    ipy_json_cells = ipy_json[\"cells\"]\n",
    "    \n",
    "    for cell in ipy_json_cells:\n",
    "        if \"id_max\" in cell[\"source\"][0]:\n",
    "            train_max = cell[\"outputs\"][0][\"text\"][0][:-1]\n",
    "            break\n",
    "            \n",
    "    with open(pkl_path, \"rb\") as input_file:\n",
    "        base_pkl_dict = pickle.load(input_file)\n",
    "    \n",
    "    base_pkl_train_max = base_pkl_dict[train_max][\"train_fold\"]\n",
    "    \n",
    "    for fold in base_pkl_train_max:\n",
    "        fold_index = fold[-1]\n",
    "        \n",
    "        fold_data = base_pkl_train_max[fold]\n",
    "        roc_auc_score = fold_data[\"ROC_AUC_SCORE\"][\"Macro\"]\n",
    "        cls_report = fold_data[\"Classification Report\"]\n",
    "        \n",
    "        sift_dict[\"method\"].append(method_mapping[method])\n",
    "        sift_dict[\"cluster\"].append(cluster_count)\n",
    "        sift_dict[\"fold\"].append(fold_index)\n",
    "        sift_dict[\"accuracy\"].append(cls_report[\"accuracy\"])\n",
    "        sift_dict[\"precision\"].append(cls_report[\"weighted avg\"][\"precision\"])\n",
    "        sift_dict[\"sensitivity\"].append(cls_report[\"weighted avg\"][\"recall\"])\n",
    "        sift_dict[\"f1-score\"].append(cls_report[\"weighted avg\"][\"f1-score\"])\n",
    "        sift_dict[\"specificity\"].append(fold_data[\"Confusion Matrix\"][\"specificity\"])\n",
    "        sift_dict[\"auc\"].append(roc_auc_score)"
   ]
  },
  {
   "cell_type": "code",
   "execution_count": null,
   "id": "ad078107",
   "metadata": {},
   "outputs": [],
   "source": [
    "sift_dict_df = pd.DataFrame(sift_dict)\n",
    "sift_dict_df.head()"
   ]
  },
  {
   "cell_type": "code",
   "execution_count": null,
   "id": "5066eba4",
   "metadata": {},
   "outputs": [],
   "source": [
    "sns.set_theme(style=\"ticks\")\n",
    "sns.boxplot(x=\"method\", y=\"accuracy\", hue = \"cluster\", data=sift_dict_df,\n",
    "            whis=[0, 100], width=0.6, palette=\"vlag\")\n",
    "sns.despine(trim=True, left=True)"
   ]
  },
  {
   "cell_type": "code",
   "execution_count": null,
   "id": "e739490b",
   "metadata": {},
   "outputs": [],
   "source": [
    "sns.set_theme(style=\"ticks\")\n",
    "sns.boxplot(x=\"method\", y=\"precision\", hue = \"cluster\", data=sift_dict_df,\n",
    "            whis=[0, 100], width=0.6, palette=\"vlag\")\n",
    "sns.despine(trim=True, left=True)"
   ]
  },
  {
   "cell_type": "code",
   "execution_count": null,
   "id": "a2b5718c",
   "metadata": {},
   "outputs": [],
   "source": [
    "sns.set_theme(style=\"ticks\")\n",
    "sns.boxplot(x=\"method\", y=\"sensitivity\", hue = \"cluster\", data=sift_dict_df,\n",
    "            whis=[0, 100], width=0.6, palette=\"vlag\")\n",
    "sns.despine(trim=True, left=True)"
   ]
  },
  {
   "cell_type": "code",
   "execution_count": null,
   "id": "9aa564a4",
   "metadata": {},
   "outputs": [],
   "source": [
    "sns.set_theme(style=\"ticks\")\n",
    "sns.boxplot(x=\"method\", y=\"f1-score\", hue = \"cluster\", data=sift_dict_df,\n",
    "            whis=[0, 100], width=0.6, palette=\"vlag\")\n",
    "sns.despine(trim=True, left=True)"
   ]
  },
  {
   "cell_type": "code",
   "execution_count": null,
   "id": "cc9b9db5",
   "metadata": {},
   "outputs": [],
   "source": [
    "sns.set_theme(style=\"ticks\")\n",
    "sns.boxplot(x=\"method\", y=\"specificity\", hue = \"cluster\", data=sift_dict_df,\n",
    "            whis=[0, 100], width=0.6, palette=\"vlag\")\n",
    "sns.despine(trim=True, left=True)"
   ]
  },
  {
   "cell_type": "code",
   "execution_count": null,
   "id": "7bcd05ed",
   "metadata": {},
   "outputs": [],
   "source": [
    "sns.set_theme(style=\"ticks\")\n",
    "sns.boxplot(x=\"method\", y=\"auc\", hue = \"cluster\", data=sift_dict_df,\n",
    "            whis=[0, 100], width=0.6, palette=\"vlag\")\n",
    "sns.despine(trim=True, left=True)"
   ]
  }
 ],
 "metadata": {
  "kernelspec": {
   "display_name": "Python 3 (ipykernel)",
   "language": "python",
   "name": "python3"
  },
  "language_info": {
   "codemirror_mode": {
    "name": "ipython",
    "version": 3
   },
   "file_extension": ".py",
   "mimetype": "text/x-python",
   "name": "python",
   "nbconvert_exporter": "python",
   "pygments_lexer": "ipython3",
   "version": "3.9.16"
  }
 },
 "nbformat": 4,
 "nbformat_minor": 5
}
