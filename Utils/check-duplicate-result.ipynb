{
 "cells": [
  {
   "cell_type": "code",
   "execution_count": 1,
   "id": "2afeb0fa",
   "metadata": {},
   "outputs": [],
   "source": [
    "import os\n",
    "\n",
    "from glob import glob"
   ]
  },
  {
   "cell_type": "code",
   "execution_count": 2,
   "id": "638f0dbb",
   "metadata": {},
   "outputs": [
    {
     "name": "stdout",
     "output_type": "stream",
     "text": [
      "D:\\Github\\Stomach-Status-Classification\\Utils\n"
     ]
    }
   ],
   "source": [
    "print(os.getcwd())"
   ]
  },
  {
   "cell_type": "code",
   "execution_count": 3,
   "id": "b77913ad",
   "metadata": {},
   "outputs": [
    {
     "name": "stdout",
     "output_type": "stream",
     "text": [
      "D:\\Github\\Stomach-Status-Classification\n"
     ]
    }
   ],
   "source": [
    "os.chdir(\"..\")\n",
    "print(os.getcwd())"
   ]
  },
  {
   "cell_type": "code",
   "execution_count": 4,
   "id": "d3804560",
   "metadata": {},
   "outputs": [
    {
     "name": "stdout",
     "output_type": "stream",
     "text": [
      "['Approach', 'Approach2-8', 'DLApproach', 'README.md', 'Results bag of visual words-20221019T081806Z-001', 'Training']\n"
     ]
    }
   ],
   "source": [
    "experiment_dir = os.getcwd() + \"/Experiment\"\n",
    "print(os.listdir(experiment_dir))"
   ]
  },
  {
   "cell_type": "code",
   "execution_count": 5,
   "id": "fc56cc79",
   "metadata": {},
   "outputs": [
    {
     "name": "stdout",
     "output_type": "stream",
     "text": [
      "['all_model_analysis', 'DecisionTree', 'ExtraTreeClassifier', 'HARDMSEG', 'LogisticRegression', 'RandomForest', 'SVM']\n"
     ]
    }
   ],
   "source": [
    "approach_dir = experiment_dir + \"/Approach\"\n",
    "print(os.listdir(approach_dir))"
   ]
  },
  {
   "cell_type": "code",
   "execution_count": 6,
   "id": "20575856",
   "metadata": {},
   "outputs": [
    {
     "name": "stdout",
     "output_type": "stream",
     "text": [
      "['DecisionTree', 'ExtraTreeClassifier', 'LogisticRegression', 'RandomForest', 'SVM']\n"
     ]
    }
   ],
   "source": [
    "methods = [x for x in os.listdir(approach_dir) if x not in  ['all_model_analysis', 'HARDMSEG']]\n",
    "print(methods)"
   ]
  },
  {
   "cell_type": "code",
   "execution_count": 7,
   "id": "e0fdbe97",
   "metadata": {},
   "outputs": [],
   "source": [
    "method_dirs = [approach_dir + f\"/{x}\" for x in methods]"
   ]
  },
  {
   "cell_type": "code",
   "execution_count": 8,
   "id": "e1673681",
   "metadata": {},
   "outputs": [
    {
     "name": "stdout",
     "output_type": "stream",
     "text": [
      "['dt_km_akaze_10cv_128.ipynb', 'dt_km_akaze_10cv_256.ipynb', 'dt_km_akaze_10cv_64.ipynb', 'dt_km_brisk_10cv_128.ipynb', 'dt_km_brisk_10cv_256.ipynb']\n"
     ]
    }
   ],
   "source": [
    "print(os.listdir(method_dirs[0])[:5])"
   ]
  },
  {
   "cell_type": "code",
   "execution_count": 9,
   "id": "ef963fb1",
   "metadata": {},
   "outputs": [],
   "source": [
    "# for method in method_dirs:\n",
    "#     pkl_files = glob(method + \"/*.pkl\")\n",
    "#     ipy_files = glob(method + \"/*.ipynb\")\n",
    "    \n",
    "#     for x in pkl_files:\n",
    "#         filename = x.split(\"/\")[-1][:-4]\n",
    "#         ipy_filename_expected = method + f\"/{filename}.ipynb\"\n",
    "#         if ipy_filename_expected not in ipy_files:\n",
    "#             print(x)"
   ]
  },
  {
   "cell_type": "code",
   "execution_count": 10,
   "id": "8d9cba0c",
   "metadata": {},
   "outputs": [
    {
     "name": "stdout",
     "output_type": "stream",
     "text": [
      "D:\\Github\\Stomach-Status-Classification/Experiment/Approach/DecisionTree\n",
      "30\n",
      "30\n"
     ]
    }
   ],
   "source": [
    "print(method_dirs[0])\n",
    "pkl_files = glob(method_dirs[0] + \"/*.pkl\")\n",
    "ipynb_files = glob(method_dirs[0] + \"/*.ipynb\")\n",
    "pkl_files.sort()\n",
    "ipynb_files.sort()\n",
    "\n",
    "print(len(pkl_files))\n",
    "print(len(ipynb_files))\n",
    "\n",
    "# for idx, x in enumerate(pkl_files):\n",
    "#     x = x.split(\"/\")[-1]\n",
    "#     y = ipynb_files[idx].split(\"/\")[-1]\n",
    "#     print(f\"{x}\\t{y}\")\n",
    "\n",
    "# akaze 256\n",
    "# kaze 64"
   ]
  },
  {
   "cell_type": "code",
<<<<<<< HEAD
   "execution_count": 46,
   "id": "adb97bd6",
=======
   "execution_count": 11,
   "id": "c334bb57",
>>>>>>> main
   "metadata": {},
   "outputs": [
    {
     "name": "stdout",
     "output_type": "stream",
     "text": [
      "D:\\Github\\Stomach-Status-Classification/Experiment/Approach/ExtraTreeClassifier\n",
      "28\n",
      "27\n"
     ]
    }
   ],
   "source": [
    "print(method_dirs[1])\n",
    "pkl_files = glob(method_dirs[1] + \"/*.pkl\")\n",
    "ipynb_files = glob(method_dirs[1] + \"/*.ipynb\")\n",
    "pkl_files.sort()\n",
    "ipynb_files.sort()\n",
    "\n",
    "print(len(pkl_files))\n",
    "print(len(ipynb_files))\n",
    "\n",
    "# for idx, x in enumerate(pkl_files):\n",
    "#     x = x.split(\"/\")[-1]\n",
    "#     y = ipynb_files[idx].split(\"/\")[-1]\n",
    "#     print(f\"{x}\\t{y}\")\n",
    "\n",
    "# print(ipynb_files[-2:])\n",
    "\n",
    "# surf50 128\n",
    "# kaze 128"
   ]
  },
  {
   "cell_type": "code",
<<<<<<< HEAD
   "execution_count": 69,
   "id": "f91075ab",
=======
   "execution_count": 12,
   "id": "69a6f2ba",
>>>>>>> main
   "metadata": {},
   "outputs": [
    {
     "name": "stdout",
     "output_type": "stream",
     "text": [
<<<<<<< HEAD
      "/media/asus/working/git/Stomach-Status-Classification/Experiment/Approach/SVM\n",
      "28\n",
      "32\n",
      "svm_km1024_surf0_result_fold10_0.9.pkl\n",
      "svm_km128_akaze_result_fold10_0.9.pkl\n",
      "svm_km128_brisk_result_fold10_0.9.pkl\n",
      "svm_km128_kaze_result_fold10_0.9.pkl\n",
      "svm_km128_orb_result_fold10_0.9.pkl\n",
      "svm_km128_sift_result_fold10_0.9.pkl\n",
      "svm_km128_surf0_result_fold10_0.9.pkl\n",
      "svm_km128_surf100_result_fold10_0.9.pkl\n",
      "svm_km128_surf50_result_fold10_0.9.pkl\n",
      "svm_km128_surf_result_fold10_0.9.pkl\n",
      "svm_km256_akaze_result_fold10_0.9.pkl\n",
      "svm_km256_brisk_result_fold10_0.9.pkl\n",
      "svm_km256_kaze_result_fold10_0.9.pkl\n",
      "svm_km256_orb_result_fold10_0.9.pkl\n",
      "svm_km256_sift_result_fold10_0.9.pkl\n",
      "svm_km256_surf0_result_fold10_0.9.pkl\n",
      "svm_km256_surf100_result_fold10_0.9.pkl\n",
      "svm_km256_surf50_result_fold10_0.9.pkl\n",
      "svm_km256_surf_result_fold10_0.9.pkl\n",
      "svm_km64_akaze_result_fold10_0.9.pkl\n",
      "svm_km64_brisk_result_fold10_0.9.pkl\n",
      "svm_km64_kaze_result_fold10_0.9.pkl\n",
      "svm_km64_orb_result_fold10_0.9.pkl\n",
      "svm_km64_sift_result_fold10_0.9.pkl\n",
      "svm_km64_surf0_result_fold10_0.9.pkl\n",
      "svm_km64_surf100_result_fold10_0.9.pkl\n",
      "svm_km64_surf50_result_fold10_0.9.pkl\n",
      "svm_km64_surf_result_fold10_0.9.pkl\n"
=======
      "D:\\Github\\Stomach-Status-Classification/Experiment/Approach/LogisticRegression\n",
      "30\n",
      "30\n"
>>>>>>> main
     ]
    }
   ],
   "source": [
    "print(method_dirs[2])\n",
    "pkl_files = glob(method_dirs[2] + \"/*.pkl\")\n",
    "ipynb_files = glob(method_dirs[2] + \"/*.ipynb\")\n",
    "pkl_files.sort()\n",
    "ipynb_files.sort()\n",
    "\n",
    "print(len(pkl_files))\n",
    "print(len(ipynb_files))\n",
    "\n",
<<<<<<< HEAD
    "for idx, x in enumerate(pkl_files):\n",
    "    x = x.split(\"/\")[-1]\n",
    "#     y = ipynb_files[idx].split(\"/\")[-1]\n",
    "    print(f\"{x}\")\n",
=======
    "# for idx, x in enumerate(pkl_files):\n",
    "#     x = x.split(\"/\")[-1]\n",
    "#     y = ipynb_files[idx].split(\"/\")[-1]\n",
    "#     print(f\"{x}\\t{y}\")\n",
>>>>>>> main
    "\n",
    "# kaze, surf50, surf100 128\n",
    "# akaze, kaze, sift, surf0, surf100, surf50 256\n",
    "# akaze, sift, surf0, surf50, surf100 64"
   ]
  },
  {
   "cell_type": "code",
<<<<<<< HEAD
   "execution_count": 50,
   "id": "1a1acfb1",
=======
   "execution_count": 13,
   "id": "0a15ffa7",
>>>>>>> main
   "metadata": {},
   "outputs": [
    {
     "name": "stdout",
     "output_type": "stream",
     "text": [
      "D:\\Github\\Stomach-Status-Classification/Experiment/Approach/RandomForest\n",
      "30\n",
      "30\n"
     ]
    }
   ],
   "source": [
    "print(method_dirs[3])\n",
    "pkl_files = glob(method_dirs[3] + \"/*.pkl\")\n",
    "ipynb_files = glob(method_dirs[3] + \"/*.ipynb\")\n",
    "pkl_files.sort()\n",
    "ipynb_files.sort()\n",
    "\n",
    "print(len(pkl_files))\n",
    "print(len(ipynb_files))\n",
    "\n",
    "# for idx, x in enumerate(pkl_files):\n",
    "#     x = x.split(\"/\")[-1]\n",
    "#     y = ipynb_files[idx].split(\"/\")[-1]\n",
    "#     print(f\"{x}\\t{y}\")\n",
    "\n",
    "# orb 256\n",
    "# surf100 64"
   ]
  },
  {
   "cell_type": "code",
<<<<<<< HEAD
   "execution_count": 51,
   "id": "206d03d6",
=======
   "execution_count": 14,
   "id": "6c82a39b",
>>>>>>> main
   "metadata": {},
   "outputs": [
    {
     "name": "stdout",
     "output_type": "stream",
     "text": [
      "D:\\Github\\Stomach-Status-Classification/Experiment/Approach/SVM\n",
      "14\n",
      "32\n"
     ]
    }
   ],
   "source": [
    "print(method_dirs[4])\n",
    "pkl_files = glob(method_dirs[4] + \"/*.pkl\")\n",
    "ipynb_files = glob(method_dirs[4] + \"/*.ipynb\")\n",
    "pkl_files.sort()\n",
    "ipynb_files.sort()\n",
    "\n",
    "print(len(pkl_files))\n",
    "print(len(ipynb_files))\n",
    "\n",
    "# for idx, x in enumerate(pkl_files):\n",
    "#     x = x.split(\"/\")[-1]\n",
    "# #     y = ipynb_files[idx].split(\"/\")[-1]\n",
    "#     print(f\"{x}\")\n",
    "\n",
    "# surf 128, 256, 64"
   ]
  }
 ],
 "metadata": {
  "kernelspec": {
   "display_name": "Python 3 (ipykernel)",
   "language": "python",
   "name": "python3"
  },
  "language_info": {
   "codemirror_mode": {
    "name": "ipython",
    "version": 3
   },
   "file_extension": ".py",
   "mimetype": "text/x-python",
   "name": "python",
   "nbconvert_exporter": "python",
   "pygments_lexer": "ipython3",
   "version": "3.9.5"
  }
 },
 "nbformat": 4,
 "nbformat_minor": 5
}
