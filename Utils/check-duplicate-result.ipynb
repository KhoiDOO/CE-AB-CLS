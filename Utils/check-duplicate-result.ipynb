{
 "cells": [
  {
   "cell_type": "code",
   "execution_count": 1,
   "id": "2afeb0fa",
   "metadata": {},
   "outputs": [],
   "source": [
    "import os\n",
    "\n",
    "from glob import glob"
   ]
  },
  {
   "cell_type": "code",
   "execution_count": 2,
   "id": "638f0dbb",
   "metadata": {},
   "outputs": [
    {
     "name": "stdout",
     "output_type": "stream",
     "text": [
      "/media/asus/working/git/Stomach-Status-Classification/Utils\n"
     ]
    }
   ],
   "source": [
    "print(os.getcwd())"
   ]
  },
  {
   "cell_type": "code",
   "execution_count": 3,
   "id": "b77913ad",
   "metadata": {},
   "outputs": [
    {
     "name": "stdout",
     "output_type": "stream",
     "text": [
      "/media/asus/working/git/Stomach-Status-Classification\n"
     ]
    }
   ],
   "source": [
    "os.chdir(\"..\")\n",
    "print(os.getcwd())"
   ]
  },
  {
   "cell_type": "code",
   "execution_count": 4,
   "id": "d3804560",
   "metadata": {},
   "outputs": [
    {
     "name": "stdout",
     "output_type": "stream",
     "text": [
      "['Training', 'Approach', 'README.md', 'DLApproach', 'Results bag of visual words-20221019T081806Z-001', 'Approach2-8']\n"
     ]
    }
   ],
   "source": [
    "experiment_dir = os.getcwd() + \"/Experiment\"\n",
    "print(os.listdir(experiment_dir))"
   ]
  },
  {
   "cell_type": "code",
   "execution_count": 5,
   "id": "fc56cc79",
   "metadata": {},
   "outputs": [
    {
     "name": "stdout",
     "output_type": "stream",
     "text": [
      "['DecisionTree', 'LogisticRegression', 'all_model_analysis', 'SVM', 'HARDMSEG', 'RandomForest', 'ExtraTreeClassifier']\n"
     ]
    }
   ],
   "source": [
    "approach_dir = experiment_dir + \"/Approach\"\n",
    "print(os.listdir(approach_dir))"
   ]
  },
  {
   "cell_type": "code",
   "execution_count": 7,
   "id": "20575856",
   "metadata": {},
   "outputs": [
    {
     "name": "stdout",
     "output_type": "stream",
     "text": [
      "['DecisionTree', 'LogisticRegression', 'SVM', 'RandomForest', 'ExtraTreeClassifier']\n"
     ]
    }
   ],
   "source": [
    "methods = [x for x in os.listdir(approach_dir) if x not in  ['all_model_analysis', 'HARDMSEG']]\n",
    "print(methods)"
   ]
  },
  {
   "cell_type": "code",
   "execution_count": 12,
   "id": "e0fdbe97",
   "metadata": {},
   "outputs": [],
   "source": [
    "method_dirs = [approach_dir + f\"/{x}\" for x in methods]"
   ]
  },
  {
   "cell_type": "code",
   "execution_count": 15,
   "id": "e1673681",
   "metadata": {},
   "outputs": [
    {
     "name": "stdout",
     "output_type": "stream",
     "text": [
      "['rdf_km256_surf50_result_fold10_0.9.pkl', 'dt_km_brisk_10cv_64.ipynb', 'dt_km_surf50_10cv_512.ipynb', 'dt_km_surf_10cv_64.ipynb', 'dt_km_surf100_10cv_64.ipynb']\n"
     ]
    }
   ],
   "source": [
    "print(os.listdir(method_dirs[0])[:5])"
   ]
  },
  {
   "cell_type": "code",
   "execution_count": 24,
   "id": "ef963fb1",
   "metadata": {},
   "outputs": [],
   "source": [
    "# for method in method_dirs:\n",
    "#     pkl_files = glob(method + \"/*.pkl\")\n",
    "#     ipy_files = glob(method + \"/*.ipynb\")\n",
    "    \n",
    "#     for x in pkl_files:\n",
    "#         filename = x.split(\"/\")[-1][:-4]\n",
    "#         ipy_filename_expected = method + f\"/{filename}.ipynb\"\n",
    "#         if ipy_filename_expected not in ipy_files:\n",
    "#             print(x)"
   ]
  },
  {
   "cell_type": "code",
   "execution_count": 45,
   "id": "8d9cba0c",
   "metadata": {},
   "outputs": [
    {
     "name": "stdout",
     "output_type": "stream",
     "text": [
      "/media/asus/working/git/Stomach-Status-Classification/Experiment/Approach/DecisionTree\n",
      "30\n",
      "30\n",
      "rdf_km1024_surf0_result_fold10_0.9.pkl\tdt_km_akaze_10cv_128.ipynb\n",
      "rdf_km128_akaze_result_fold10_0.9.pkl\tdt_km_akaze_10cv_256.ipynb\n",
      "rdf_km128_brisk_result_fold10_0.9.pkl\tdt_km_akaze_10cv_64.ipynb\n",
      "rdf_km128_kaze_result_fold10_0.9.pkl\tdt_km_brisk_10cv_128.ipynb\n",
      "rdf_km128_orb_result_fold10_0.9.pkl\tdt_km_brisk_10cv_256.ipynb\n",
      "rdf_km128_sift_result_fold10_0.9.pkl\tdt_km_brisk_10cv_64.ipynb\n",
      "rdf_km128_surf0_result_fold10_0.9.pkl\tdt_km_kaze_10cv_128.ipynb\n",
      "rdf_km128_surf100_result_fold10_0.9.pkl\tdt_km_kaze_10cv_256.ipynb\n",
      "rdf_km128_surf50_result_fold10_0.9.pkl\tdt_km_kaze_10cv_64.ipynb\n",
      "rdf_km128_surf_result_fold10_0.9.pkl\tdt_km_orb_10cv_128.ipynb\n",
      "rdf_km256_akaze_result_fold10_0.9.pkl\tdt_km_orb_10cv_256.ipynb\n",
      "rdf_km256_brisk_result_fold10_0.9.pkl\tdt_km_orb_10cv_64.ipynb\n",
      "rdf_km256_kaze_result_fold10_0.9.pkl\tdt_km_sift_10cv_128.ipynb\n",
      "rdf_km256_orb_result_fold10_0.9.pkl\tdt_km_sift_10cv_256.ipynb\n",
      "rdf_km256_sift_result_fold10_0.9.pkl\tdt_km_sift_10cv_64.ipynb\n",
      "rdf_km256_surf0_result_fold10_0.9.pkl\tdt_km_surf0_10cv_1024.ipynb\n",
      "rdf_km256_surf100_result_fold10_0.9.pkl\tdt_km_surf0_10cv_128.ipynb\n",
      "rdf_km256_surf50_result_fold10_0.9.pkl\tdt_km_surf0_10cv_256.ipynb\n",
      "rdf_km256_surf_result_fold10_0.9.pkl\tdt_km_surf0_10cv_512.ipynb\n",
      "rdf_km512_surf0_result_fold10_0.9.pkl\tdt_km_surf0_10cv_64.ipynb\n",
      "rdf_km512_surf50_result_fold10_0.9.pkl\tdt_km_surf100_10cv_128.ipynb\n",
      "rdf_km64_akaze_result_fold10_0.9.pkl\tdt_km_surf100_10cv_256.ipynb\n",
      "rdf_km64_brisk_result_fold10_0.9.pkl\tdt_km_surf100_10cv_64.ipynb\n",
      "rdf_km64_kaze_result_fold10_0.9.pkl\tdt_km_surf50_10cv_128.ipynb\n",
      "rdf_km64_orb_result_fold10_0.9.pkl\tdt_km_surf50_10cv_256.ipynb\n",
      "rdf_km64_sift_result_fold10_0.9.pkl\tdt_km_surf50_10cv_512.ipynb\n",
      "rdf_km64_surf0_result_fold10_0.9.pkl\tdt_km_surf50_10cv_64.ipynb\n",
      "rdf_km64_surf100_result_fold10_0.9.pkl\tdt_km_surf_10cv_128.ipynb\n",
      "rdf_km64_surf50_result_fold10_0.9.pkl\tdt_km_surf_10cv_256.ipynb\n",
      "rdf_km64_surf_result_fold10_0.9.pkl\tdt_km_surf_10cv_64.ipynb\n"
     ]
    }
   ],
   "source": [
    "print(method_dirs[0])\n",
    "pkl_files = glob(method_dirs[0] + \"/*.pkl\")\n",
    "ipynb_files = glob(method_dirs[0] + \"/*.ipynb\")\n",
    "pkl_files.sort()\n",
    "ipynb_files.sort()\n",
    "\n",
    "print(len(pkl_files))\n",
    "print(len(ipynb_files))\n",
    "\n",
    "for idx, x in enumerate(pkl_files):\n",
    "    x = x.split(\"/\")[-1]\n",
    "    y = ipynb_files[idx].split(\"/\")[-1]\n",
    "    print(f\"{x}\\t{y}\")\n",
    "\n",
    "# akaze 256\n",
    "# kaze 64"
   ]
  },
  {
   "cell_type": "code",
   "execution_count": 46,
   "id": "02da2a61",
   "metadata": {},
   "outputs": [
    {
     "name": "stdout",
     "output_type": "stream",
     "text": [
      "/media/asus/working/git/Stomach-Status-Classification/Experiment/Approach/LogisticRegression\n",
      "30\n",
      "30\n",
      "lr_km1024_surf0_result_fold10_0.9.pkl\tlr_km_akaze_10cv_128.ipynb\n",
      "lr_km128_akaze_result_fold10_0.9.pkl\tlr_km_akaze_10cv_256.ipynb\n",
      "lr_km128_brisk_result_fold10_0.9.pkl\tlr_km_akaze_10cv_64.ipynb\n",
      "lr_km128_kaze_result_fold10_0.9.pkl\tlr_km_brisk_10cv_128.ipynb\n",
      "lr_km128_orb_result_fold10_0.9.pkl\tlr_km_brisk_10cv_256.ipynb\n",
      "lr_km128_sift_result_fold10_0.9.pkl\tlr_km_brisk_10cv_64.ipynb\n",
      "lr_km128_surf0_result_fold10_0.9.pkl\tlr_km_kaze_10cv_128.ipynb\n",
      "lr_km128_surf100_result_fold10_0.9.pkl\tlr_km_kaze_10cv_256.ipynb\n",
      "lr_km128_surf50_result_fold10_0.9.pkl\tlr_km_kaze_10cv_64.ipynb\n",
      "lr_km128_surf_result_fold10_0.9.pkl\tlr_km_orb_10cv_128.ipynb\n",
      "lr_km256_akaze_result_fold10_0.9.pkl\tlr_km_orb_10cv_256.ipynb\n",
      "lr_km256_brisk_result_fold10_0.9.pkl\tlr_km_orb_10cv_64.ipynb\n",
      "lr_km256_kaze_result_fold10_0.9.pkl\tlr_km_sift_10cv_128.ipynb\n",
      "lr_km256_orb_result_fold10_0.9.pkl\tlr_km_sift_10cv_256.ipynb\n",
      "lr_km256_sift_result_fold10_0.9.pkl\tlr_km_sift_10cv_64.ipynb\n",
      "lr_km256_surf0_result_fold10_0.9.pkl\tlr_km_surf0_10cv_1024.ipynb\n",
      "lr_km256_surf100_result_fold10_0.9.pkl\tlr_km_surf0_10cv_128.ipynb\n",
      "lr_km256_surf50_result_fold10_0.9.pkl\tlr_km_surf0_10cv_256.ipynb\n",
      "lr_km256_surf_result_fold10_0.9.pkl\tlr_km_surf0_10cv_512.ipynb\n",
      "lr_km512_surf0_result_fold10_0.9.pkl\tlr_km_surf0_10cv_64.ipynb\n",
      "lr_km512_surf50_result_fold10_0.9.pkl\tlr_km_surf100_10cv_128.ipynb\n",
      "lr_km64_akaze_result_fold10_0.9.pkl\tlr_km_surf100_10cv_256.ipynb\n",
      "lr_km64_brisk_result_fold10_0.9.pkl\tlr_km_surf100_10cv_64.ipynb\n",
      "lr_km64_kaze_result_fold10_0.9.pkl\tlr_km_surf50_10cv_128.ipynb\n",
      "lr_km64_orb_result_fold10_0.9.pkl\tlr_km_surf50_10cv_256.ipynb\n",
      "lr_km64_sift_result_fold10_0.9.pkl\tlr_km_surf50_10cv_512.ipynb\n",
      "lr_km64_surf0_result_fold10_0.9.pkl\tlr_km_surf50_10cv_64.ipynb\n",
      "lr_km64_surf100_result_fold10_0.9.pkl\tlr_km_surf_10cv_128.ipynb\n",
      "lr_km64_surf50_result_fold10_0.9.pkl\tlr_km_surf_10cv_256.ipynb\n",
      "lr_km64_surf_result_fold10_0.9.pkl\tlr_km_surf_10cv_64.ipynb\n",
      "['/media/asus/working/git/Stomach-Status-Classification/Experiment/Approach/LogisticRegression/lr_km_surf_10cv_256.ipynb', '/media/asus/working/git/Stomach-Status-Classification/Experiment/Approach/LogisticRegression/lr_km_surf_10cv_64.ipynb']\n"
     ]
    }
   ],
   "source": [
    "print(method_dirs[1])\n",
    "pkl_files = glob(method_dirs[1] + \"/*.pkl\")\n",
    "ipynb_files = glob(method_dirs[1] + \"/*.ipynb\")\n",
    "pkl_files.sort()\n",
    "ipynb_files.sort()\n",
    "\n",
    "print(len(pkl_files))\n",
    "print(len(ipynb_files))\n",
    "\n",
    "for idx, x in enumerate(pkl_files):\n",
    "    x = x.split(\"/\")[-1]\n",
    "    y = ipynb_files[idx].split(\"/\")[-1]\n",
    "    print(f\"{x}\\t{y}\")\n",
    "\n",
    "print(ipynb_files[-2:])\n",
    "\n",
    "# surf50 128\n",
    "# kaze 128"
   ]
  },
  {
   "cell_type": "code",
   "execution_count": 40,
   "id": "e5902925",
   "metadata": {},
   "outputs": [
    {
     "name": "stdout",
     "output_type": "stream",
     "text": [
      "/media/asus/working/git/Stomach-Status-Classification/Experiment/Approach/SVM\n",
      "14\n",
      "32\n",
      "svm_km1024_surf0_result_fold10_0.9.pkl\tsvm_km_akaze_10cv_128.ipynb\n",
      "svm_km128_akaze_result_fold10_0.9.pkl\tsvm_km_akaze_10cv_256.ipynb\n",
      "svm_km128_brisk_result_fold10_0.9.pkl\tsvm_km_akaze_10cv_64.ipynb\n",
      "svm_km128_orb_result_fold10_0.9.pkl\tsvm_km_brisk_10cv_128.ipynb\n",
      "svm_km128_sift_result_fold10_0.9.pkl\tsvm_km_brisk_10cv_256.ipynb\n",
      "svm_km128_surf0_result_fold10_0.9.pkl\tsvm_km_brisk_10cv_64.ipynb\n",
      "svm_km128_surf_result_fold10_0.9.pkl\tsvm_km_kaze_10cv_128.ipynb\n",
      "svm_km256_brisk_result_fold10_0.9.pkl\tsvm_km_kaze_10cv_256.ipynb\n",
      "svm_km256_orb_result_fold10_0.9.pkl\tsvm_km_kaze_10cv_64.ipynb\n",
      "svm_km256_surf_result_fold10_0.9.pkl\tsvm_km_orb_10cv_128.ipynb\n",
      "svm_km64_brisk_result_fold10_0.9.pkl\tsvm_km_orb_10cv_256.ipynb\n",
      "svm_km64_kaze_result_fold10_0.9.pkl\tsvm_km_orb_10cv_64.ipynb\n",
      "svm_km64_orb_result_fold10_0.9.pkl\tsvm_km_sift_10cv_128.ipynb\n",
      "svm_km64_surf_result_fold10_0.9.pkl\tsvm_km_sift_10cv_256.ipynb\n"
     ]
    }
   ],
   "source": [
    "print(method_dirs[2])\n",
    "pkl_files = glob(method_dirs[2] + \"/*.pkl\")\n",
    "ipynb_files = glob(method_dirs[2] + \"/*.ipynb\")\n",
    "pkl_files.sort()\n",
    "ipynb_files.sort()\n",
    "\n",
    "print(len(pkl_files))\n",
    "print(len(ipynb_files))\n",
    "\n",
    "for idx, x in enumerate(pkl_files):\n",
    "    x = x.split(\"/\")[-1]\n",
    "    y = ipynb_files[idx].split(\"/\")[-1]\n",
    "    print(f\"{x}\\t{y}\")\n",
    "\n",
    "# kaze, surf50, surf100 128\n",
    "# akaze, kaze, sift, surf0, surf100, surf50 256\n",
    "# akaze, sift, surf0, surf50, surf100 64"
   ]
  },
  {
   "cell_type": "code",
   "execution_count": 49,
   "id": "14944a35",
   "metadata": {},
   "outputs": [
    {
     "name": "stdout",
     "output_type": "stream",
     "text": [
      "/media/asus/working/git/Stomach-Status-Classification/Experiment/Approach/RandomForest\n",
      "28\n",
      "30\n",
      "rdf_km1024_surf0_result_fold10_0.9.pkl\trdf_km_akaze_10cv_128.ipynb\n",
      "rdf_km128_akaze_result_fold10_0.9.pkl\trdf_km_akaze_10cv_256.ipynb\n",
      "rdf_km128_brisk_result_fold10_0.9.pkl\trdf_km_akaze_10cv_64.ipynb\n",
      "rdf_km128_kaze_result_fold10_0.9.pkl\trdf_km_brisk_10cv_128.ipynb\n",
      "rdf_km128_orb_result_fold10_0.9.pkl\trdf_km_brisk_10cv_256.ipynb\n",
      "rdf_km128_sift_result_fold10_0.9.pkl\trdf_km_brisk_10cv_64.ipynb\n",
      "rdf_km128_surf0_result_fold10_0.9.pkl\trdf_km_kaze_10cv_128.ipynb\n",
      "rdf_km128_surf100_result_fold10_0.9.pkl\trdf_km_kaze_10cv_256.ipynb\n",
      "rdf_km128_surf50_result_fold10_0.9.pkl\trdf_km_kaze_10cv_64.ipynb\n",
      "rdf_km128_surf_result_fold10_0.9.pkl\trdf_km_orb_10cv_128.ipynb\n",
      "rdf_km256_akaze_result_fold10_0.9.pkl\trdf_km_orb_10cv_256.ipynb\n",
      "rdf_km256_brisk_result_fold10_0.9.pkl\trdf_km_orb_10cv_64.ipynb\n",
      "rdf_km256_kaze_result_fold10_0.9.pkl\trdf_km_sift_10cv_128.ipynb\n",
      "rdf_km256_sift_result_fold10_0.9.pkl\trdf_km_sift_10cv_256.ipynb\n",
      "rdf_km256_surf0_result_fold10_0.9.pkl\trdf_km_sift_10cv_64.ipynb\n",
      "rdf_km256_surf100_result_fold10_0.9.pkl\trdf_km_surf0_10cv_1024.ipynb\n",
      "rdf_km256_surf50_result_fold10_0.9.pkl\trdf_km_surf0_10cv_128.ipynb\n",
      "rdf_km256_surf_result_fold10_0.9.pkl\trdf_km_surf0_10cv_256.ipynb\n",
      "rdf_km512_surf0_result_fold10_0.9.pkl\trdf_km_surf0_10cv_512.ipynb\n",
      "rdf_km512_surf50_result_fold10_0.9.pkl\trdf_km_surf0_10cv_64.ipynb\n",
      "rdf_km64_akaze_result_fold10_0.9.pkl\trdf_km_surf100_10cv_128.ipynb\n",
      "rdf_km64_brisk_result_fold10_0.9.pkl\trdf_km_surf100_10cv_256.ipynb\n",
      "rdf_km64_kaze_result_fold10_0.9.pkl\trdf_km_surf100_10cv_64.ipynb\n",
      "rdf_km64_orb_result_fold10_0.9.pkl\trdf_km_surf50_10cv_128.ipynb\n",
      "rdf_km64_sift_result_fold10_0.9.pkl\trdf_km_surf50_10cv_256.ipynb\n",
      "rdf_km64_surf0_result_fold10_0.9.pkl\trdf_km_surf50_10cv_512.ipynb\n",
      "rdf_km64_surf50_result_fold10_0.9.pkl\trdf_km_surf50_10cv_64.ipynb\n",
      "rdf_km64_surf_result_fold10_0.9.pkl\trdf_km_surf_10cv_128.ipynb\n"
     ]
    }
   ],
   "source": [
    "print(method_dirs[3])\n",
    "pkl_files = glob(method_dirs[3] + \"/*.pkl\")\n",
    "ipynb_files = glob(method_dirs[3] + \"/*.ipynb\")\n",
    "pkl_files.sort()\n",
    "ipynb_files.sort()\n",
    "\n",
    "print(len(pkl_files))\n",
    "print(len(ipynb_files))\n",
    "\n",
    "for idx, x in enumerate(pkl_files):\n",
    "    x = x.split(\"/\")[-1]\n",
    "    y = ipynb_files[idx].split(\"/\")[-1]\n",
    "    print(f\"{x}\\t{y}\")\n",
    "\n",
    "# orb 256\n",
    "# surf100 64"
   ]
  },
  {
   "cell_type": "code",
   "execution_count": 44,
   "id": "3fcca09c",
   "metadata": {},
   "outputs": [
    {
     "name": "stdout",
     "output_type": "stream",
     "text": [
      "/media/asus/working/git/Stomach-Status-Classification/Experiment/Approach/ExtraTreeClassifier\n",
      "28\n",
      "27\n",
      "etc_km1024_surf0_result_fold10_0.9.pkl\n",
      "etc_km128_akaze_result_fold10_0.9.pkl\n",
      "etc_km128_brisk_result_fold10_0.9.pkl\n",
      "etc_km128_kaze_result_fold10_0.9.pkl\n",
      "etc_km128_orb100000_result_fold10_0.9.pkl\n",
      "etc_km128_sift_result_fold10_0.9.pkl\n",
      "etc_km128_surf0_result_fold10_0.9.pkl\n",
      "etc_km128_surf100_result_fold10_0.9.pkl\n",
      "etc_km128_surf50_result_fold10_0.9.pkl\n",
      "etc_km256_akaze_result_fold10_0.9.pkl\n",
      "etc_km256_brisk_result_fold10_0.9.pkl\n",
      "etc_km256_kaze_result_fold10_0.9.pkl\n",
      "etc_km256_orb100000_result_fold10_0.9.pkl\n",
      "etc_km256_sift_result_fold10_0.9.pkl\n",
      "etc_km256_surf0_result_fold10_0.9.pkl\n",
      "etc_km256_surf100_result_fold10_0.9.pkl\n",
      "etc_km256_surf50_result_fold10_0.9.pkl\n",
      "etc_km512_orb100000_result_fold10_0.9.pkl\n",
      "etc_km512_surf0_result_fold10_0.9.pkl\n",
      "etc_km512_surf50_result_fold10_0.9.pkl\n",
      "etc_km64_akaze_result_fold10_0.9.pkl\n",
      "etc_km64_brisk_result_fold10_0.9.pkl\n",
      "etc_km64_kaze_result_fold10_0.9.pkl\n",
      "etc_km64_orb10000_result_fold10_0.9.pkl\n",
      "etc_km64_sift_result_fold10_0.9.pkl\n",
      "etc_km64_surf0_result_fold10_0.9.pkl\n",
      "etc_km64_surf100_result_fold10_0.9.pkl\n",
      "etc_km64_surf50_result_fold10_0.9.pkl\n"
     ]
    }
   ],
   "source": [
    "print(method_dirs[4])\n",
    "pkl_files = glob(method_dirs[4] + \"/*.pkl\")\n",
    "ipynb_files = glob(method_dirs[4] + \"/*.ipynb\")\n",
    "pkl_files.sort()\n",
    "ipynb_files.sort()\n",
    "\n",
    "print(len(pkl_files))\n",
    "print(len(ipynb_files))\n",
    "\n",
    "for idx, x in enumerate(pkl_files):\n",
    "    x = x.split(\"/\")[-1]\n",
    "#     y = ipynb_files[idx].split(\"/\")[-1]\n",
    "    print(f\"{x}\")\n",
    "\n",
    "# orb 256\n",
    "# surf100 64"
   ]
  }
 ],
 "metadata": {
  "kernelspec": {
   "display_name": "Python 3 (ipykernel)",
   "language": "python",
   "name": "python3"
  },
  "language_info": {
   "codemirror_mode": {
    "name": "ipython",
    "version": 3
   },
   "file_extension": ".py",
   "mimetype": "text/x-python",
   "name": "python",
   "nbconvert_exporter": "python",
   "pygments_lexer": "ipython3",
   "version": "3.9.16"
  }
 },
 "nbformat": 4,
 "nbformat_minor": 5
}
