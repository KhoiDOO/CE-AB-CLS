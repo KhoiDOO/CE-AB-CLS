{
 "cells": [
  {
   "cell_type": "code",
   "execution_count": 1,
   "id": "1f1e43c2-e0d0-4445-891d-941525873e8e",
   "metadata": {
    "tags": []
   },
   "outputs": [],
   "source": [
    "import os, sys\n",
    "from glob import glob\n",
    "import torch\n",
    "from torch import nn\n",
    "from torch.utils.data import Dataset, DataLoader\n",
    "import albumentations as A\n",
    "from torchvision.models import alexnet\n",
    "\n",
    "from tqdm import tqdm\n",
    "import numpy as np\n",
    "\n",
    "import cv2 as cv\n",
    "\n",
    "from lbp import *"
   ]
  },
  {
   "cell_type": "code",
   "execution_count": 2,
   "id": "414d36d9-9e5f-4de8-9b0a-179b03f35c95",
   "metadata": {
    "tags": []
   },
   "outputs": [
    {
     "name": "stdout",
     "output_type": "stream",
     "text": [
      "D:\\GitCloneProject\\CE-AB-CLS\\OtherSOTA\n",
      "D:\\GitCloneProject\\CE-AB-CLS\n"
     ]
    }
   ],
   "source": [
    "print(os.getcwd())\n",
    "os.chdir(\"..\")\n",
    "print(os.getcwd())"
   ]
  },
  {
   "cell_type": "code",
   "execution_count": 3,
   "id": "b67c9c44-ccd4-49e0-883b-eeac688429fc",
   "metadata": {
    "tags": []
   },
   "outputs": [
    {
     "name": "stdout",
     "output_type": "stream",
     "text": [
      "['Test', 'Train']\n"
     ]
    }
   ],
   "source": [
    "data_dir = os.getcwd() + \"\\\\Data set\\\\Original Form\"\n",
    "print(os.listdir(data_dir))"
   ]
  },
  {
   "cell_type": "code",
   "execution_count": 4,
   "id": "782f5297-9814-405b-9c2a-550c973fafbf",
   "metadata": {
    "tags": []
   },
   "outputs": [
    {
     "name": "stdout",
     "output_type": "stream",
     "text": [
      "176\n",
      "176\n"
     ]
    }
   ],
   "source": [
    "train_img_path = glob(data_dir + \"\\\\Train\\\\*\\\\*\")\n",
    "test_img_path = glob(data_dir + \"\\\\Test\\\\*\\\\*\")\n",
    "\n",
    "print(len(train_img_path))\n",
    "print(len(test_img_path))"
   ]
  },
  {
   "cell_type": "code",
   "execution_count": 21,
   "id": "3186b032-7c2d-4dca-b4a3-f19e03a5e968",
   "metadata": {
    "tags": []
   },
   "outputs": [
    {
     "name": "stderr",
     "output_type": "stream",
     "text": [
      "176it [03:33,  1.21s/it]\n"
     ]
    }
   ],
   "source": [
    "train_img_feature, train_label = [], []\n",
    "test_img_feature, test_label = [], []\n",
    "\n",
    "lbp = LBP()\n",
    "\n",
    "dim = (256, 256)\n",
    "\n",
    "for train_img, test_img in tqdm(zip(train_img_path, test_img_path)):\n",
    "    tr_img = cv.imread(train_img)\n",
    "    ts_img = cv.imread(test_img)\n",
    "    \n",
    "    resized_tr = cv2.resize(tr_img, dim, interpolation = cv2.INTER_AREA)\n",
    "    resized_ts = cv2.resize(ts_img, dim, interpolation = cv2.INTER_AREA)\n",
    "    \n",
    "    lbp_tr_img = lbp.extract(resized_tr, gray = \"grayscale\")\n",
    "    lbp_ts_img = lbp.extract(resized_ts, gray = \"grayscale\")\n",
    "    \n",
    "    train_img_feature.append(lbp_tr_img.flatten()/255)\n",
    "    test_img_feature.append(lbp_ts_img.flatten()/255)\n",
    "    \n",
    "    train_label.append(0 if \"Normal\" in train_img else 1)\n",
    "    test_label.append(0 if \"Abnormal\" in test_img else 1)"
   ]
  },
  {
   "cell_type": "code",
   "execution_count": 22,
   "id": "6563f7b8-9eb2-4c13-ba65-2c000d7de5c2",
   "metadata": {
    "tags": []
   },
   "outputs": [],
   "source": [
    "train_img_np = np.array(train_img_feature)\n",
    "test_img_np = np.array(test_img_feature)\n",
    "\n",
    "train_label_np = np.array(train_label)\n",
    "test_label_np = np.array(test_label)"
   ]
  },
  {
   "cell_type": "code",
   "execution_count": 23,
   "id": "c82f41dd-6d6c-46f3-bca2-9f25680f6698",
   "metadata": {
    "tags": []
   },
   "outputs": [
    {
     "name": "stdout",
     "output_type": "stream",
     "text": [
      "(176, 65536)\n",
      "(176, 65536)\n",
      "(176,)\n",
      "(176,)\n"
     ]
    }
   ],
   "source": [
    "print(train_img_np.shape)\n",
    "print(test_img_np.shape)\n",
    "print(train_label_np.shape)\n",
    "print(test_label_np.shape)"
   ]
  },
  {
   "cell_type": "code",
   "execution_count": 24,
   "id": "36b6a5aa-86bc-4850-a845-f92033bac25c",
   "metadata": {
    "tags": []
   },
   "outputs": [],
   "source": [
    "from sklearn import svm\n",
    "\n",
    "clf = svm.SVC()\n",
    "clf.fit(train_img_np, train_label_np)\n",
    "\n",
    "y_pred = clf.predict(test_img_np)"
   ]
  },
  {
   "cell_type": "code",
   "execution_count": 25,
   "id": "91a1a633-8896-41e3-a2d0-82b3045c7390",
   "metadata": {
    "tags": []
   },
   "outputs": [
    {
     "name": "stdout",
     "output_type": "stream",
     "text": [
      "              precision    recall  f1-score   support\n",
      "\n",
      "      Normal       0.00      0.00      0.00       120\n",
      "    Abnormal       0.32      1.00      0.48        56\n",
      "\n",
      "    accuracy                           0.32       176\n",
      "   macro avg       0.16      0.50      0.24       176\n",
      "weighted avg       0.10      0.32      0.15       176\n",
      "\n"
     ]
    },
    {
     "name": "stderr",
     "output_type": "stream",
     "text": [
      "d:\\gitcloneproject\\ce-ab-cls\\envir\\lib\\site-packages\\sklearn\\metrics\\_classification.py:1344: UndefinedMetricWarning: Precision and F-score are ill-defined and being set to 0.0 in labels with no predicted samples. Use `zero_division` parameter to control this behavior.\n",
      "  _warn_prf(average, modifier, msg_start, len(result))\n",
      "d:\\gitcloneproject\\ce-ab-cls\\envir\\lib\\site-packages\\sklearn\\metrics\\_classification.py:1344: UndefinedMetricWarning: Precision and F-score are ill-defined and being set to 0.0 in labels with no predicted samples. Use `zero_division` parameter to control this behavior.\n",
      "  _warn_prf(average, modifier, msg_start, len(result))\n",
      "d:\\gitcloneproject\\ce-ab-cls\\envir\\lib\\site-packages\\sklearn\\metrics\\_classification.py:1344: UndefinedMetricWarning: Precision and F-score are ill-defined and being set to 0.0 in labels with no predicted samples. Use `zero_division` parameter to control this behavior.\n",
      "  _warn_prf(average, modifier, msg_start, len(result))\n"
     ]
    }
   ],
   "source": [
    "from sklearn.metrics import classification_report\n",
    "\n",
    "target_names = ['Normal', 'Abnormal']\n",
    "print(classification_report(test_label_np, y_pred, target_names=target_names))"
   ]
  }
 ],
 "metadata": {
  "kernelspec": {
   "display_name": "Python 3 (ipykernel)",
   "language": "python",
   "name": "python3"
  },
  "language_info": {
   "codemirror_mode": {
    "name": "ipython",
    "version": 3
   },
   "file_extension": ".py",
   "mimetype": "text/x-python",
   "name": "python",
   "nbconvert_exporter": "python",
   "pygments_lexer": "ipython3",
   "version": "3.9.5"
  }
 },
 "nbformat": 4,
 "nbformat_minor": 5
}
