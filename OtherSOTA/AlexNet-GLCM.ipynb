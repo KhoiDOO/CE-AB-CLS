{
 "cells": [
  {
   "cell_type": "code",
   "execution_count": 1,
   "id": "ccfbfbe8-3658-4343-a683-61eb5f9366a9",
   "metadata": {
    "tags": []
   },
   "outputs": [],
   "source": [
    "import os, sys\n",
    "from glob import glob\n",
    "import torch\n",
    "from torch import nn\n",
    "from torch.utils.data import Dataset, DataLoader\n",
    "import albumentations as A\n",
    "from torchvision.models import alexnet\n",
    "\n",
    "from tqdm import tqdm\n",
    "import numpy as np\n",
    "\n",
    "import cv2 as cv\n",
    "\n",
    "from fast_glcm import *"
   ]
  },
  {
   "cell_type": "code",
   "execution_count": 2,
   "id": "ea2b9cba-13c5-45aa-9e52-3b43289a3f7c",
   "metadata": {
    "tags": []
   },
   "outputs": [
    {
     "name": "stdout",
     "output_type": "stream",
     "text": [
      "D:\\GitCloneProject\\CE-AB-CLS\\OtherSOTA\n"
     ]
    }
   ],
   "source": [
    "print(os.getcwd())"
   ]
  },
  {
   "cell_type": "code",
   "execution_count": 3,
   "id": "54ce39ee-63c5-4266-9b3f-7e935c48f7d0",
   "metadata": {
    "tags": []
   },
   "outputs": [],
   "source": [
    "os.chdir(\"..\")"
   ]
  },
  {
   "cell_type": "code",
   "execution_count": 4,
   "id": "8d37f859-129b-4848-a4d5-68477feedd2d",
   "metadata": {
    "tags": []
   },
   "outputs": [
    {
     "name": "stdout",
     "output_type": "stream",
     "text": [
      "D:\\GitCloneProject\\CE-AB-CLS\n"
     ]
    }
   ],
   "source": [
    "print(os.getcwd())"
   ]
  },
  {
   "cell_type": "code",
   "execution_count": 5,
   "id": "6241e45d-7ef4-4384-bdbc-db5833f49934",
   "metadata": {
    "tags": []
   },
   "outputs": [
    {
     "name": "stdout",
     "output_type": "stream",
     "text": [
      "['Test', 'Train']\n"
     ]
    }
   ],
   "source": [
    "data_dir = os.getcwd() + \"\\\\Data set\\\\Original Form\"\n",
    "print(os.listdir(data_dir))"
   ]
  },
  {
   "cell_type": "code",
   "execution_count": 62,
   "id": "c732268b-a989-4bc1-bede-c90fe6ef42d3",
   "metadata": {
    "tags": []
   },
   "outputs": [],
   "source": [
    "class CEDataset(Dataset):\n",
    "    def __init__(self, root_dir = data_dir, subset = \"Train\"):\n",
    "        self.root_dir = root_dir + f\"\\\\{subset}\"\n",
    "        self.img_paths = glob(self.root_dir + \"\\\\*\\\\*\")\n",
    "        self.transform = A.Compose([\n",
    "            # A.RandomCrop(height = 256, width = 256),\n",
    "            A.ColorJitter(p=0.5),\n",
    "            A.GaussianBlur(p=0.5),\n",
    "            A.RandomShadow(p=0.5),\n",
    "            A.RandomBrightnessContrast(p=0.2),\n",
    "            A.Resize(height = 256, width = 256, p = 1),\n",
    "        ])\n",
    "        super().__init__()\n",
    "    \n",
    "    def __len__(self):\n",
    "        return len(self.img_paths)\n",
    "    \n",
    "    def __getitem__(self, idx):\n",
    "        path = self.img_paths[idx]\n",
    "        img = cv.imread(path)\n",
    "        \n",
    "        if \"Normal\" in path:\n",
    "            label = torch.tensor(0)\n",
    "        elif \"Abnormal\" in path:\n",
    "            label = torch.tensor(1)\n",
    "        else:\n",
    "            raise Exception(\"not shown type of label in path\")\n",
    "            \n",
    "        img_torch = torch.from_numpy(fast_glcm(img = img, levels = 3)/255)\n",
    "        zeros = torch.zeros(size = img_torch.shape)\n",
    "        \n",
    "        return torch.cat((img_torch[0], img_torch[1], img_torch[2]), dim = 0), label  "
   ]
  },
  {
   "cell_type": "code",
   "execution_count": 63,
   "id": "304667a4-a584-42f1-91f6-df0d458e8d48",
   "metadata": {
    "tags": []
   },
   "outputs": [
    {
     "name": "stdout",
     "output_type": "stream",
     "text": [
      "176\n",
      "176\n"
     ]
    }
   ],
   "source": [
    "train_dataset = CEDataset(subset = \"Train\")\n",
    "test_dataset = CEDataset(subset = \"Test\")\n",
    "\n",
    "print(len(train_dataset))\n",
    "print(len(test_dataset))"
   ]
  },
  {
   "cell_type": "code",
   "execution_count": 64,
   "id": "208e49b4-1f28-4bd8-8967-4c7bd02af7d4",
   "metadata": {
    "tags": []
   },
   "outputs": [
    {
     "name": "stdout",
     "output_type": "stream",
     "text": [
      "torch.Size([9, 481, 518])\n",
      "torch.float32\n",
      "torch.Size([])\n"
     ]
    }
   ],
   "source": [
    "sample_img, sample_label = train_dataset[0]\n",
    "print(sample_img.shape)\n",
    "print(sample_img.dtype)\n",
    "print(sample_label.shape)"
   ]
  },
  {
   "cell_type": "code",
   "execution_count": 30,
   "id": "5fee4157-983b-4b1f-aef5-05ff86a58c81",
   "metadata": {
    "tags": []
   },
   "outputs": [
    {
     "name": "stdout",
     "output_type": "stream",
     "text": [
      "D:\\GitCloneProject\\CE-AB-CLS\\Data set\\Original Form\\Train\\Group 1 - Normal\\CHGastro_Normal_001.png\n",
      "D:\\GitCloneProject\\CE-AB-CLS\\Data set\\Original Form\\Test\\Group 1 - Normal\\CHGastro_Normal_002.png\n"
     ]
    }
   ],
   "source": [
    "print(train_dataset.img_paths[0])\n",
    "print(test_dataset.img_paths[0])"
   ]
  },
  {
   "cell_type": "code",
   "execution_count": 65,
   "id": "2fb3dd20-47d3-4b9d-b73f-a44f39640ef8",
   "metadata": {
    "tags": []
   },
   "outputs": [],
   "source": [
    "train_dataloader = DataLoader(train_dataset, shuffle = True, batch_size = 32)\n",
    "test_dataloader = DataLoader(test_dataset, shuffle = False, batch_size = 1)"
   ]
  },
  {
   "cell_type": "code",
   "execution_count": 67,
   "id": "345b8630-97cb-4309-9bdc-17ee1a39e991",
   "metadata": {
    "tags": []
   },
   "outputs": [],
   "source": [
    "device = torch.device(\"cuda\" if torch.cuda.is_available() else \"cpu\")\n",
    "model = alexnet(weights = 'IMAGENET1K_V1').to(device)\n",
    "model.fc = nn.Linear(1000, 2)"
   ]
  },
  {
   "cell_type": "code",
   "execution_count": 68,
   "id": "20177176-1685-4633-acae-3df2931ee747",
   "metadata": {
    "tags": []
   },
   "outputs": [],
   "source": [
    "model.features[0] = nn.Conv2d(9, 64, kernel_size=(11, 11), stride=(4, 4), padding=(2, 2)).to(device)"
   ]
  },
  {
   "cell_type": "code",
   "execution_count": 69,
   "id": "17ca54ac-e22e-411c-8b46-5fc842a49379",
   "metadata": {
    "tags": []
   },
   "outputs": [
    {
     "name": "stdout",
     "output_type": "stream",
     "text": [
      "AlexNet(\n",
      "  (features): Sequential(\n",
      "    (0): Conv2d(9, 64, kernel_size=(11, 11), stride=(4, 4), padding=(2, 2))\n",
      "    (1): ReLU(inplace=True)\n",
      "    (2): MaxPool2d(kernel_size=3, stride=2, padding=0, dilation=1, ceil_mode=False)\n",
      "    (3): Conv2d(64, 192, kernel_size=(5, 5), stride=(1, 1), padding=(2, 2))\n",
      "    (4): ReLU(inplace=True)\n",
      "    (5): MaxPool2d(kernel_size=3, stride=2, padding=0, dilation=1, ceil_mode=False)\n",
      "    (6): Conv2d(192, 384, kernel_size=(3, 3), stride=(1, 1), padding=(1, 1))\n",
      "    (7): ReLU(inplace=True)\n",
      "    (8): Conv2d(384, 256, kernel_size=(3, 3), stride=(1, 1), padding=(1, 1))\n",
      "    (9): ReLU(inplace=True)\n",
      "    (10): Conv2d(256, 256, kernel_size=(3, 3), stride=(1, 1), padding=(1, 1))\n",
      "    (11): ReLU(inplace=True)\n",
      "    (12): MaxPool2d(kernel_size=3, stride=2, padding=0, dilation=1, ceil_mode=False)\n",
      "  )\n",
      "  (avgpool): AdaptiveAvgPool2d(output_size=(6, 6))\n",
      "  (classifier): Sequential(\n",
      "    (0): Dropout(p=0.5, inplace=False)\n",
      "    (1): Linear(in_features=9216, out_features=4096, bias=True)\n",
      "    (2): ReLU(inplace=True)\n",
      "    (3): Dropout(p=0.5, inplace=False)\n",
      "    (4): Linear(in_features=4096, out_features=4096, bias=True)\n",
      "    (5): ReLU(inplace=True)\n",
      "    (6): Linear(in_features=4096, out_features=1000, bias=True)\n",
      "  )\n",
      "  (fc): Linear(in_features=1000, out_features=2, bias=True)\n",
      ")\n"
     ]
    }
   ],
   "source": [
    "print(model)"
   ]
  },
  {
   "cell_type": "code",
   "execution_count": 70,
   "id": "5137660a-4089-443b-b12d-97ed8e32d7d5",
   "metadata": {
    "tags": []
   },
   "outputs": [],
   "source": [
    "loss_fn = nn.CrossEntropyLoss()\n",
    "optimizer = torch.optim.Adam(model.parameters(), lr=1e-3)"
   ]
  },
  {
   "cell_type": "code",
   "execution_count": 71,
   "id": "70bfcaec-bc9e-4fea-9e40-be340cfc53c2",
   "metadata": {
    "tags": []
   },
   "outputs": [
    {
     "name": "stdout",
     "output_type": "stream",
     "text": [
      "loss: 7.493450  [   32/    6] acc: 0.0\n",
      "loss: 2.909231  [   32/    6] acc: 0.59375\n",
      "loss: 0.704442  [   32/    6] acc: 0.5625\n",
      "loss: 0.990841  [   32/    6] acc: 0.6875\n",
      "loss: 0.466310  [   32/    6] acc: 0.84375\n",
      "loss: 0.445354  [   32/    6] acc: 0.8125\n",
      "loss: 0.632439  [   32/    6] acc: 0.625\n",
      "loss: 0.554442  [   32/    6] acc: 0.78125\n",
      "loss: 0.582559  [   32/    6] acc: 0.6875\n",
      "loss: 0.440564  [   32/    6] acc: 0.8125\n",
      "loss: 0.522440  [   32/    6] acc: 0.84375\n",
      "loss: 0.625610  [   32/    6] acc: 0.65625\n",
      "loss: 0.527674  [   32/    6] acc: 0.71875\n",
      "loss: 0.490194  [   32/    6] acc: 0.75\n",
      "loss: 0.421279  [   32/    6] acc: 0.90625\n",
      "loss: 0.449954  [   32/    6] acc: 0.78125\n",
      "loss: 0.513677  [   32/    6] acc: 0.8125\n",
      "loss: 0.400055  [   32/    6] acc: 0.84375\n",
      "loss: 0.422340  [   32/    6] acc: 0.78125\n",
      "loss: 0.463352  [   32/    6] acc: 0.875\n",
      "loss: 0.635261  [   32/    6] acc: 0.75\n",
      "loss: 0.472511  [   32/    6] acc: 0.84375\n",
      "loss: 0.389960  [   32/    6] acc: 0.84375\n",
      "loss: 0.426756  [   32/    6] acc: 0.78125\n",
      "loss: 0.398056  [   32/    6] acc: 0.875\n",
      "loss: 0.611084  [   32/    6] acc: 0.75\n",
      "loss: 0.330125  [   32/    6] acc: 0.90625\n",
      "loss: 0.488374  [   32/    6] acc: 0.78125\n",
      "loss: 0.512258  [   32/    6] acc: 0.6875\n",
      "loss: 0.465094  [   32/    6] acc: 0.71875\n",
      "loss: 0.384314  [   32/    6] acc: 0.8125\n",
      "loss: 0.510513  [   32/    6] acc: 0.71875\n",
      "loss: 0.524503  [   32/    6] acc: 0.625\n",
      "loss: 0.414482  [   32/    6] acc: 0.8125\n",
      "loss: 0.415785  [   32/    6] acc: 0.84375\n",
      "loss: 0.452704  [   32/    6] acc: 0.8125\n",
      "loss: 0.309242  [   32/    6] acc: 0.8125\n",
      "loss: 0.358536  [   32/    6] acc: 0.8125\n",
      "loss: 0.426759  [   32/    6] acc: 0.78125\n",
      "loss: 0.296539  [   32/    6] acc: 0.90625\n",
      "loss: 0.378905  [   32/    6] acc: 0.78125\n",
      "loss: 0.334796  [   32/    6] acc: 0.8125\n",
      "loss: 0.267671  [   32/    6] acc: 0.84375\n",
      "loss: 0.312378  [   32/    6] acc: 0.875\n",
      "loss: 0.488908  [   32/    6] acc: 0.8125\n",
      "loss: 0.390997  [   32/    6] acc: 0.75\n",
      "loss: 0.354200  [   32/    6] acc: 0.875\n",
      "loss: 0.331334  [   32/    6] acc: 0.8125\n",
      "loss: 0.403092  [   32/    6] acc: 0.75\n",
      "loss: 0.253308  [   32/    6] acc: 0.90625\n",
      "loss: 0.398054  [   32/    6] acc: 0.84375\n",
      "loss: 0.427541  [   32/    6] acc: 0.71875\n",
      "loss: 0.491773  [   32/    6] acc: 0.78125\n",
      "loss: 0.282500  [   32/    6] acc: 0.84375\n",
      "loss: 0.425556  [   32/    6] acc: 0.8125\n",
      "loss: 0.275778  [   32/    6] acc: 0.875\n",
      "loss: 0.268946  [   32/    6] acc: 0.84375\n",
      "loss: 0.251648  [   32/    6] acc: 0.90625\n",
      "loss: 0.295579  [   32/    6] acc: 0.8125\n",
      "loss: 0.200292  [   32/    6] acc: 0.90625\n",
      "loss: 0.119344  [   32/    6] acc: 0.9375\n",
      "loss: 0.240632  [   32/    6] acc: 0.90625\n",
      "loss: 0.345490  [   32/    6] acc: 0.875\n",
      "loss: 0.200678  [   32/    6] acc: 0.96875\n",
      "loss: 0.375581  [   32/    6] acc: 0.78125\n",
      "loss: 0.357354  [   32/    6] acc: 0.8125\n",
      "loss: 0.493015  [   32/    6] acc: 0.75\n",
      "loss: 0.256084  [   32/    6] acc: 0.875\n",
      "loss: 0.162995  [   32/    6] acc: 0.90625\n",
      "loss: 0.567457  [   32/    6] acc: 0.78125\n",
      "loss: 0.180352  [   32/    6] acc: 0.90625\n",
      "loss: 0.128888  [   32/    6] acc: 0.96875\n",
      "loss: 0.217577  [   32/    6] acc: 0.9375\n",
      "loss: 0.085957  [   32/    6] acc: 0.96875\n",
      "loss: 0.127195  [   32/    6] acc: 0.9375\n",
      "loss: 0.210583  [   32/    6] acc: 0.875\n",
      "loss: 0.353927  [   32/    6] acc: 0.8125\n",
      "loss: 0.092890  [   32/    6] acc: 0.96875\n",
      "loss: 0.110801  [   32/    6] acc: 0.96875\n",
      "loss: 0.080386  [   32/    6] acc: 0.96875\n",
      "loss: 0.123016  [   32/    6] acc: 0.96875\n",
      "loss: 0.221784  [   32/    6] acc: 0.90625\n",
      "loss: 0.036257  [   32/    6] acc: 1.0\n",
      "loss: 0.125109  [   32/    6] acc: 0.9375\n",
      "loss: 0.087028  [   32/    6] acc: 0.9375\n",
      "loss: 0.069761  [   32/    6] acc: 0.96875\n",
      "loss: 0.056976  [   32/    6] acc: 1.0\n",
      "loss: 0.153626  [   32/    6] acc: 0.9375\n",
      "loss: 0.136242  [   32/    6] acc: 0.90625\n",
      "loss: 0.023028  [   32/    6] acc: 1.0\n",
      "loss: 0.235669  [   32/    6] acc: 0.96875\n",
      "loss: 0.105718  [   32/    6] acc: 0.96875\n",
      "loss: 0.100837  [   32/    6] acc: 0.96875\n",
      "loss: 0.081916  [   32/    6] acc: 0.96875\n",
      "loss: 0.132759  [   32/    6] acc: 0.96875\n",
      "loss: 0.034735  [   32/    6] acc: 1.0\n",
      "loss: 0.105841  [   32/    6] acc: 0.9375\n",
      "loss: 0.386417  [   32/    6] acc: 0.90625\n",
      "loss: 0.142130  [   32/    6] acc: 0.9375\n",
      "loss: 0.114422  [   32/    6] acc: 0.96875\n"
     ]
    }
   ],
   "source": [
    "size = len(train_dataloader)\n",
    "model.train()\n",
    "epochs = 100\n",
    "for t in range(epochs):\n",
    "    for batch, (X, y) in enumerate(train_dataloader):\n",
    "        X, y = X.to(device, dtype = torch.float), y.to(device)\n",
    "\n",
    "        # Compute prediction error\n",
    "        pred = model(X)\n",
    "        loss = loss_fn(pred, y)\n",
    "        \n",
    "        # accuracy\n",
    "        correct = (pred.argmax(1) == y).type(torch.float).sum().item()\n",
    "        acc = correct / y.shape[0]\n",
    "\n",
    "        # Backpropagation\n",
    "        optimizer.zero_grad()\n",
    "        loss.backward()\n",
    "        optimizer.step()\n",
    "\n",
    "        if batch % 100 == 0:\n",
    "            loss, current = loss.item(), (batch + 1) * len(X)\n",
    "            print(f\"loss: {loss:>7f}  [{current:>5d}/{size:>5d}] acc: {acc}\")"
   ]
  },
  {
   "cell_type": "code",
   "execution_count": 72,
   "id": "5b992a8a-cf59-4f20-b001-a9d5247bcd9e",
   "metadata": {},
   "outputs": [],
   "source": [
    "pred = []\n",
    "true = []\n",
    "for batch, (X, y) in enumerate(test_dataloader):\n",
    "    X, y = X.to(device, dtype = torch.float), y.to(device)\n",
    "    \n",
    "    pred.append(model(X).argmax(1).item())\n",
    "    true.append(y.item())"
   ]
  },
  {
   "cell_type": "code",
   "execution_count": 73,
   "id": "e5b0ca31-8762-4359-8d7f-5463b86eda48",
   "metadata": {
    "tags": []
   },
   "outputs": [
    {
     "name": "stdout",
     "output_type": "stream",
     "text": [
      "176\n",
      "176\n"
     ]
    }
   ],
   "source": [
    "print(len(pred))\n",
    "print(len(true))"
   ]
  },
  {
   "cell_type": "code",
   "execution_count": 74,
   "id": "b7be7097-809a-4a02-af53-89ceab952f0c",
   "metadata": {
    "tags": []
   },
   "outputs": [
    {
     "name": "stdout",
     "output_type": "stream",
     "text": [
      "              precision    recall  f1-score   support\n",
      "\n",
      "      Normal       0.52      0.55      0.53        56\n",
      "    Abnormal       0.78      0.76      0.77       120\n",
      "\n",
      "    accuracy                           0.69       176\n",
      "   macro avg       0.65      0.66      0.65       176\n",
      "weighted avg       0.70      0.69      0.70       176\n",
      "\n"
     ]
    }
   ],
   "source": [
    "from sklearn.metrics import classification_report\n",
    "\n",
    "print(classification_report(true, pred, target_names=[\"Normal\", \"Abnormal\"]))"
   ]
  }
 ],
 "metadata": {
  "kernelspec": {
   "display_name": "Python 3 (ipykernel)",
   "language": "python",
   "name": "python3"
  },
  "language_info": {
   "codemirror_mode": {
    "name": "ipython",
    "version": 3
   },
   "file_extension": ".py",
   "mimetype": "text/x-python",
   "name": "python",
   "nbconvert_exporter": "python",
   "pygments_lexer": "ipython3",
   "version": "3.9.5"
  }
 },
 "nbformat": 4,
 "nbformat_minor": 5
}
