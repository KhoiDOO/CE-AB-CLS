{
 "cells": [
  {
   "cell_type": "code",
   "execution_count": 1,
   "id": "ccfbfbe8-3658-4343-a683-61eb5f9366a9",
   "metadata": {
    "tags": []
   },
   "outputs": [],
   "source": [
    "import os, sys\n",
    "from glob import glob\n",
    "import torch\n",
    "from torch import nn\n",
    "from torch.utils.data import Dataset, DataLoader\n",
    "import albumentations as A\n",
    "from torchvision.models import alexnet\n",
    "\n",
    "from tqdm import tqdm\n",
    "import numpy as np\n",
    "\n",
    "import cv2 as cv\n",
    "\n",
    "from lbp import *"
   ]
  },
  {
   "cell_type": "code",
   "execution_count": 2,
   "id": "ea2b9cba-13c5-45aa-9e52-3b43289a3f7c",
   "metadata": {
    "tags": []
   },
   "outputs": [
    {
     "name": "stdout",
     "output_type": "stream",
     "text": [
      "D:\\GitCloneProject\\CE-AB-CLS\\OtherSOTA\n"
     ]
    }
   ],
   "source": [
    "print(os.getcwd())"
   ]
  },
  {
   "cell_type": "code",
   "execution_count": 3,
   "id": "54ce39ee-63c5-4266-9b3f-7e935c48f7d0",
   "metadata": {
    "tags": []
   },
   "outputs": [],
   "source": [
    "os.chdir(\"..\")"
   ]
  },
  {
   "cell_type": "code",
   "execution_count": 4,
   "id": "8d37f859-129b-4848-a4d5-68477feedd2d",
   "metadata": {
    "tags": []
   },
   "outputs": [
    {
     "name": "stdout",
     "output_type": "stream",
     "text": [
      "D:\\GitCloneProject\\CE-AB-CLS\n"
     ]
    }
   ],
   "source": [
    "print(os.getcwd())"
   ]
  },
  {
   "cell_type": "code",
   "execution_count": 5,
   "id": "6241e45d-7ef4-4384-bdbc-db5833f49934",
   "metadata": {
    "tags": []
   },
   "outputs": [
    {
     "name": "stdout",
     "output_type": "stream",
     "text": [
      "['Test', 'Train']\n"
     ]
    }
   ],
   "source": [
    "data_dir = os.getcwd() + \"\\\\Data set\\\\Original Form\"\n",
    "print(os.listdir(data_dir))"
   ]
  },
  {
   "cell_type": "code",
   "execution_count": 6,
   "id": "c732268b-a989-4bc1-bede-c90fe6ef42d3",
   "metadata": {
    "tags": []
   },
   "outputs": [],
   "source": [
    "class CEDataset(Dataset):\n",
    "    def __init__(self, root_dir = data_dir, subset = \"Train\"):\n",
    "        self.root_dir = root_dir + f\"\\\\{subset}\"\n",
    "        self.img_paths = glob(self.root_dir + \"\\\\*\\\\*\")\n",
    "        self.transform = A.Compose([\n",
    "            # A.RandomCrop(height = 256, width = 256),\n",
    "            A.ColorJitter(p=0.5),\n",
    "            A.GaussianBlur(p=0.5),\n",
    "            A.RandomShadow(p=0.5),\n",
    "            A.RandomBrightnessContrast(p=0.2),\n",
    "            A.Resize(height = 256, width = 256, p = 1),\n",
    "        ])\n",
    "        self.lbp = LBP()\n",
    "        super().__init__()\n",
    "    \n",
    "    def __len__(self):\n",
    "        return len(self.img_paths)\n",
    "    \n",
    "    def __getitem__(self, idx):\n",
    "        path = self.img_paths[idx]\n",
    "        img = cv.imread(path)\n",
    "        \n",
    "        resized_img = self.transform[-1](image = img)[\"image\"]\n",
    "        \n",
    "        if \"Normal\" in path:\n",
    "            label = torch.tensor(0)\n",
    "        elif \"Abnormal\" in path:\n",
    "            label = torch.tensor(1)\n",
    "        else:\n",
    "            raise Exception(\"not shown type of label in path\")\n",
    "            \n",
    "        img_torch = [torch.from_numpy(self.lbp.extract(img = resized_img, gray = i)/255) for i in range(3)]\n",
    "        \n",
    "        return torch.stack(img_torch, dim = 0), label"
   ]
  },
  {
   "cell_type": "code",
   "execution_count": 7,
   "id": "304667a4-a584-42f1-91f6-df0d458e8d48",
   "metadata": {
    "tags": []
   },
   "outputs": [
    {
     "name": "stdout",
     "output_type": "stream",
     "text": [
      "176\n",
      "176\n"
     ]
    }
   ],
   "source": [
    "train_dataset = CEDataset(subset = \"Train\")\n",
    "test_dataset = CEDataset(subset = \"Test\")\n",
    "\n",
    "print(len(train_dataset))\n",
    "print(len(test_dataset))"
   ]
  },
  {
   "cell_type": "code",
   "execution_count": 8,
   "id": "208e49b4-1f28-4bd8-8967-4c7bd02af7d4",
   "metadata": {
    "tags": []
   },
   "outputs": [
    {
     "name": "stdout",
     "output_type": "stream",
     "text": [
      "torch.Size([3, 256, 256])\n",
      "torch.float64\n",
      "torch.Size([])\n"
     ]
    }
   ],
   "source": [
    "sample_img, sample_label = train_dataset[0]\n",
    "print(sample_img.shape)\n",
    "print(sample_img.dtype)\n",
    "print(sample_label.shape)"
   ]
  },
  {
   "cell_type": "code",
   "execution_count": 9,
   "id": "5fee4157-983b-4b1f-aef5-05ff86a58c81",
   "metadata": {
    "tags": []
   },
   "outputs": [
    {
     "name": "stdout",
     "output_type": "stream",
     "text": [
      "D:\\GitCloneProject\\CE-AB-CLS\\Data set\\Original Form\\Train\\Group 1 - Normal\\CHGastro_Normal_001.png\n",
      "D:\\GitCloneProject\\CE-AB-CLS\\Data set\\Original Form\\Test\\Group 1 - Normal\\CHGastro_Normal_002.png\n"
     ]
    }
   ],
   "source": [
    "print(train_dataset.img_paths[0])\n",
    "print(test_dataset.img_paths[0])"
   ]
  },
  {
   "cell_type": "code",
   "execution_count": 10,
   "id": "2fb3dd20-47d3-4b9d-b73f-a44f39640ef8",
   "metadata": {
    "tags": []
   },
   "outputs": [],
   "source": [
    "train_dataloader = DataLoader(train_dataset, \n",
    "                              # num_workers = 8, \n",
    "                              shuffle = True, batch_size = 32)\n",
    "test_dataloader = DataLoader(test_dataset, \n",
    "                             # num_workers = 8, \n",
    "                             shuffle = False, batch_size = 1)"
   ]
  },
  {
   "cell_type": "code",
   "execution_count": 11,
   "id": "345b8630-97cb-4309-9bdc-17ee1a39e991",
   "metadata": {
    "tags": []
   },
   "outputs": [],
   "source": [
    "device = torch.device(\"cuda\" if torch.cuda.is_available() else \"cpu\")\n",
    "model = alexnet(weights = 'IMAGENET1K_V1').to(device)\n",
    "model.fc = nn.Linear(1000, 2)"
   ]
  },
  {
   "cell_type": "code",
   "execution_count": 12,
   "id": "20177176-1685-4633-acae-3df2931ee747",
   "metadata": {
    "tags": []
   },
   "outputs": [],
   "source": [
    "# model.features[0] = nn.Conv2d(64, 64, kernel_size=(11, 11), stride=(4, 4), padding=(2, 2)).to(device)"
   ]
  },
  {
   "cell_type": "code",
   "execution_count": 13,
   "id": "17ca54ac-e22e-411c-8b46-5fc842a49379",
   "metadata": {
    "tags": []
   },
   "outputs": [
    {
     "name": "stdout",
     "output_type": "stream",
     "text": [
      "AlexNet(\n",
      "  (features): Sequential(\n",
      "    (0): Conv2d(3, 64, kernel_size=(11, 11), stride=(4, 4), padding=(2, 2))\n",
      "    (1): ReLU(inplace=True)\n",
      "    (2): MaxPool2d(kernel_size=3, stride=2, padding=0, dilation=1, ceil_mode=False)\n",
      "    (3): Conv2d(64, 192, kernel_size=(5, 5), stride=(1, 1), padding=(2, 2))\n",
      "    (4): ReLU(inplace=True)\n",
      "    (5): MaxPool2d(kernel_size=3, stride=2, padding=0, dilation=1, ceil_mode=False)\n",
      "    (6): Conv2d(192, 384, kernel_size=(3, 3), stride=(1, 1), padding=(1, 1))\n",
      "    (7): ReLU(inplace=True)\n",
      "    (8): Conv2d(384, 256, kernel_size=(3, 3), stride=(1, 1), padding=(1, 1))\n",
      "    (9): ReLU(inplace=True)\n",
      "    (10): Conv2d(256, 256, kernel_size=(3, 3), stride=(1, 1), padding=(1, 1))\n",
      "    (11): ReLU(inplace=True)\n",
      "    (12): MaxPool2d(kernel_size=3, stride=2, padding=0, dilation=1, ceil_mode=False)\n",
      "  )\n",
      "  (avgpool): AdaptiveAvgPool2d(output_size=(6, 6))\n",
      "  (classifier): Sequential(\n",
      "    (0): Dropout(p=0.5, inplace=False)\n",
      "    (1): Linear(in_features=9216, out_features=4096, bias=True)\n",
      "    (2): ReLU(inplace=True)\n",
      "    (3): Dropout(p=0.5, inplace=False)\n",
      "    (4): Linear(in_features=4096, out_features=4096, bias=True)\n",
      "    (5): ReLU(inplace=True)\n",
      "    (6): Linear(in_features=4096, out_features=1000, bias=True)\n",
      "  )\n",
      "  (fc): Linear(in_features=1000, out_features=2, bias=True)\n",
      ")\n"
     ]
    }
   ],
   "source": [
    "print(model)"
   ]
  },
  {
   "cell_type": "code",
   "execution_count": 14,
   "id": "5137660a-4089-443b-b12d-97ed8e32d7d5",
   "metadata": {
    "tags": []
   },
   "outputs": [],
   "source": [
    "loss_fn = nn.CrossEntropyLoss()\n",
    "optimizer = torch.optim.Adam(model.parameters(), lr=1e-3)"
   ]
  },
  {
   "cell_type": "code",
   "execution_count": 15,
   "id": "70bfcaec-bc9e-4fea-9e40-be340cfc53c2",
   "metadata": {
    "tags": []
   },
   "outputs": [
    {
     "name": "stdout",
     "output_type": "stream",
     "text": [
      "loss: 10.850031  [   32/    6] acc: 0.0\n",
      "loss: 0.997428  [   32/    6] acc: 0.71875\n",
      "loss: 0.647967  [   32/    6] acc: 0.71875\n",
      "loss: 0.798132  [   32/    6] acc: 0.6875\n",
      "loss: 0.692080  [   32/    6] acc: 0.46875\n",
      "loss: 0.554458  [   32/    6] acc: 0.78125\n",
      "loss: 0.635920  [   32/    6] acc: 0.75\n",
      "loss: 0.626746  [   32/    6] acc: 0.65625\n",
      "loss: 0.736978  [   32/    6] acc: 0.53125\n",
      "loss: 0.710270  [   32/    6] acc: 0.59375\n",
      "loss: 0.637197  [   32/    6] acc: 0.65625\n",
      "loss: 0.649546  [   32/    6] acc: 0.625\n",
      "loss: 0.724764  [   32/    6] acc: 0.65625\n",
      "loss: 0.657966  [   32/    6] acc: 0.71875\n",
      "loss: 0.567011  [   32/    6] acc: 0.71875\n",
      "loss: 0.609904  [   32/    6] acc: 0.6875\n",
      "loss: 0.586008  [   32/    6] acc: 0.75\n",
      "loss: 0.659977  [   32/    6] acc: 0.65625\n",
      "loss: 0.650732  [   32/    6] acc: 0.65625\n",
      "loss: 0.612658  [   32/    6] acc: 0.6875\n",
      "loss: 0.652226  [   32/    6] acc: 0.625\n",
      "loss: 0.642678  [   32/    6] acc: 0.6875\n",
      "loss: 0.656443  [   32/    6] acc: 0.65625\n",
      "loss: 0.629754  [   32/    6] acc: 0.6875\n",
      "loss: 0.669990  [   32/    6] acc: 0.625\n",
      "loss: 0.673133  [   32/    6] acc: 0.625\n",
      "loss: 0.608279  [   32/    6] acc: 0.71875\n",
      "loss: 0.641186  [   32/    6] acc: 0.65625\n",
      "loss: 0.674556  [   32/    6] acc: 0.625\n",
      "loss: 0.653847  [   32/    6] acc: 0.65625\n",
      "loss: 0.597772  [   32/    6] acc: 0.71875\n",
      "loss: 0.600878  [   32/    6] acc: 0.71875\n",
      "loss: 0.645715  [   32/    6] acc: 0.65625\n",
      "loss: 0.615173  [   32/    6] acc: 0.6875\n",
      "loss: 0.562017  [   32/    6] acc: 0.78125\n",
      "loss: 0.708501  [   32/    6] acc: 0.5625\n",
      "loss: 0.635706  [   32/    6] acc: 0.6875\n",
      "loss: 0.598167  [   32/    6] acc: 0.71875\n",
      "loss: 0.626383  [   32/    6] acc: 0.6875\n",
      "loss: 0.657575  [   32/    6] acc: 0.65625\n",
      "loss: 0.652016  [   32/    6] acc: 0.65625\n",
      "loss: 0.660037  [   32/    6] acc: 0.625\n",
      "loss: 0.599157  [   32/    6] acc: 0.71875\n",
      "loss: 0.708473  [   32/    6] acc: 0.5\n",
      "loss: 0.767915  [   32/    6] acc: 0.71875\n",
      "loss: 0.771416  [   32/    6] acc: 0.53125\n",
      "loss: 0.654093  [   32/    6] acc: 0.625\n",
      "loss: 0.523683  [   32/    6] acc: 0.78125\n",
      "loss: 0.632284  [   32/    6] acc: 0.71875\n",
      "loss: 0.583794  [   32/    6] acc: 0.75\n",
      "loss: 0.682010  [   32/    6] acc: 0.625\n",
      "loss: 0.655129  [   32/    6] acc: 0.625\n",
      "loss: 0.615141  [   32/    6] acc: 0.6875\n",
      "loss: 0.647239  [   32/    6] acc: 0.65625\n",
      "loss: 0.625188  [   32/    6] acc: 0.6875\n",
      "loss: 0.692320  [   32/    6] acc: 0.59375\n",
      "loss: 0.535822  [   32/    6] acc: 0.78125\n",
      "loss: 0.623998  [   32/    6] acc: 0.6875\n",
      "loss: 0.646652  [   32/    6] acc: 0.65625\n",
      "loss: 0.617546  [   32/    6] acc: 0.6875\n",
      "loss: 0.517994  [   32/    6] acc: 0.84375\n",
      "loss: 0.600997  [   32/    6] acc: 0.71875\n",
      "loss: 0.633783  [   32/    6] acc: 0.6875\n",
      "loss: 0.645962  [   32/    6] acc: 0.65625\n",
      "loss: 0.650191  [   32/    6] acc: 0.65625\n",
      "loss: 0.677072  [   32/    6] acc: 0.625\n",
      "loss: 0.665140  [   32/    6] acc: 0.625\n",
      "loss: 0.586677  [   32/    6] acc: 0.75\n",
      "loss: 0.648657  [   32/    6] acc: 0.65625\n",
      "loss: 0.586201  [   32/    6] acc: 0.71875\n",
      "loss: 0.632243  [   32/    6] acc: 0.65625\n",
      "loss: 0.599117  [   32/    6] acc: 0.71875\n",
      "loss: 0.615533  [   32/    6] acc: 0.6875\n",
      "loss: 0.731113  [   32/    6] acc: 0.5625\n",
      "loss: 0.614367  [   32/    6] acc: 0.6875\n",
      "loss: 0.577785  [   32/    6] acc: 0.75\n",
      "loss: 0.646148  [   32/    6] acc: 0.65625\n",
      "loss: 0.601229  [   32/    6] acc: 0.71875\n",
      "loss: 0.606432  [   32/    6] acc: 0.71875\n",
      "loss: 0.603470  [   32/    6] acc: 0.71875\n",
      "loss: 0.528507  [   32/    6] acc: 0.8125\n",
      "loss: 0.586648  [   32/    6] acc: 0.75\n",
      "loss: 0.653822  [   32/    6] acc: 0.65625\n",
      "loss: 0.680533  [   32/    6] acc: 0.625\n",
      "loss: 0.705362  [   32/    6] acc: 0.5625\n",
      "loss: 0.614595  [   32/    6] acc: 0.71875\n",
      "loss: 0.629420  [   32/    6] acc: 0.6875\n",
      "loss: 0.643903  [   32/    6] acc: 0.65625\n",
      "loss: 0.680976  [   32/    6] acc: 0.625\n",
      "loss: 0.636221  [   32/    6] acc: 0.65625\n",
      "loss: 0.648461  [   32/    6] acc: 0.65625\n",
      "loss: 0.674455  [   32/    6] acc: 0.625\n",
      "loss: 0.591526  [   32/    6] acc: 0.71875\n",
      "loss: 0.647495  [   32/    6] acc: 0.65625\n",
      "loss: 0.557941  [   32/    6] acc: 0.78125\n",
      "loss: 0.645513  [   32/    6] acc: 0.65625\n",
      "loss: 0.585384  [   32/    6] acc: 0.71875\n",
      "loss: 0.610547  [   32/    6] acc: 0.71875\n",
      "loss: 0.656876  [   32/    6] acc: 0.65625\n",
      "loss: 0.593183  [   32/    6] acc: 0.71875\n"
     ]
    }
   ],
   "source": [
    "size = len(train_dataloader)\n",
    "model.train()\n",
    "epochs = 100\n",
    "for t in range(epochs):\n",
    "    for batch, (X, y) in enumerate(train_dataloader):\n",
    "        X, y = X.to(device, dtype = torch.float), y.to(device)\n",
    "\n",
    "        # Compute prediction error\n",
    "        pred = model(X)\n",
    "        loss = loss_fn(pred, y)\n",
    "        \n",
    "        # accuracy\n",
    "        correct = (pred.argmax(1) == y).type(torch.float).sum().item()\n",
    "        acc = correct / y.shape[0]\n",
    "\n",
    "        # Backpropagation\n",
    "        optimizer.zero_grad()\n",
    "        loss.backward()\n",
    "        optimizer.step()\n",
    "\n",
    "        if batch % 100 == 0:\n",
    "            loss, current = loss.item(), (batch + 1) * len(X)\n",
    "            print(f\"loss: {loss:>7f}  [{current:>5d}/{size:>5d}] acc: {acc}\")"
   ]
  },
  {
   "cell_type": "code",
   "execution_count": 16,
   "id": "5b992a8a-cf59-4f20-b001-a9d5247bcd9e",
   "metadata": {},
   "outputs": [],
   "source": [
    "pred = []\n",
    "true = []\n",
    "for batch, (X, y) in enumerate(test_dataloader):\n",
    "    X, y = X.to(device, dtype = torch.float), y.to(device)\n",
    "    \n",
    "    pred.append(model(X).argmax(1).item())\n",
    "    true.append(y.item())"
   ]
  },
  {
   "cell_type": "code",
   "execution_count": 17,
   "id": "e5b0ca31-8762-4359-8d7f-5463b86eda48",
   "metadata": {
    "tags": []
   },
   "outputs": [
    {
     "name": "stdout",
     "output_type": "stream",
     "text": [
      "176\n",
      "176\n"
     ]
    }
   ],
   "source": [
    "print(len(pred))\n",
    "print(len(true))"
   ]
  },
  {
   "cell_type": "code",
   "execution_count": 18,
   "id": "b7be7097-809a-4a02-af53-89ceab952f0c",
   "metadata": {
    "tags": []
   },
   "outputs": [
    {
     "name": "stdout",
     "output_type": "stream",
     "text": [
      "              precision    recall  f1-score   support\n",
      "\n",
      "      Normal       0.00      0.00      0.00        56\n",
      "    Abnormal       0.68      1.00      0.81       120\n",
      "\n",
      "    accuracy                           0.68       176\n",
      "   macro avg       0.34      0.50      0.41       176\n",
      "weighted avg       0.46      0.68      0.55       176\n",
      "\n"
     ]
    },
    {
     "name": "stderr",
     "output_type": "stream",
     "text": [
      "d:\\gitcloneproject\\ce-ab-cls\\envir\\lib\\site-packages\\sklearn\\metrics\\_classification.py:1344: UndefinedMetricWarning: Precision and F-score are ill-defined and being set to 0.0 in labels with no predicted samples. Use `zero_division` parameter to control this behavior.\n",
      "  _warn_prf(average, modifier, msg_start, len(result))\n",
      "d:\\gitcloneproject\\ce-ab-cls\\envir\\lib\\site-packages\\sklearn\\metrics\\_classification.py:1344: UndefinedMetricWarning: Precision and F-score are ill-defined and being set to 0.0 in labels with no predicted samples. Use `zero_division` parameter to control this behavior.\n",
      "  _warn_prf(average, modifier, msg_start, len(result))\n",
      "d:\\gitcloneproject\\ce-ab-cls\\envir\\lib\\site-packages\\sklearn\\metrics\\_classification.py:1344: UndefinedMetricWarning: Precision and F-score are ill-defined and being set to 0.0 in labels with no predicted samples. Use `zero_division` parameter to control this behavior.\n",
      "  _warn_prf(average, modifier, msg_start, len(result))\n"
     ]
    }
   ],
   "source": [
    "from sklearn.metrics import classification_report\n",
    "\n",
    "print(classification_report(true, pred, target_names=[\"Normal\", \"Abnormal\"]))"
   ]
  }
 ],
 "metadata": {
  "kernelspec": {
   "display_name": "Python 3 (ipykernel)",
   "language": "python",
   "name": "python3"
  },
  "language_info": {
   "codemirror_mode": {
    "name": "ipython",
    "version": 3
   },
   "file_extension": ".py",
   "mimetype": "text/x-python",
   "name": "python",
   "nbconvert_exporter": "python",
   "pygments_lexer": "ipython3",
   "version": "3.9.5"
  }
 },
 "nbformat": 4,
 "nbformat_minor": 5
}
