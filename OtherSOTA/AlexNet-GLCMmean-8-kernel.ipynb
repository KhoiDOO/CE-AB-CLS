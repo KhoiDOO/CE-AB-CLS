{
 "cells": [
  {
   "cell_type": "code",
   "execution_count": 1,
   "id": "ccfbfbe8-3658-4343-a683-61eb5f9366a9",
   "metadata": {
    "tags": []
   },
   "outputs": [],
   "source": [
    "import os, sys\n",
    "from glob import glob\n",
    "import torch\n",
    "from torch import nn\n",
    "from torch.utils.data import Dataset, DataLoader\n",
    "import albumentations as A\n",
    "from torchvision.models import alexnet\n",
    "\n",
    "from tqdm import tqdm\n",
    "import numpy as np\n",
    "\n",
    "import cv2 as cv\n",
    "\n",
    "from fast_glcm import *"
   ]
  },
  {
   "cell_type": "code",
   "execution_count": 2,
   "id": "ea2b9cba-13c5-45aa-9e52-3b43289a3f7c",
   "metadata": {
    "tags": []
   },
   "outputs": [
    {
     "name": "stdout",
     "output_type": "stream",
     "text": [
      "D:\\GitCloneProject\\CE-AB-CLS\\OtherSOTA\n"
     ]
    }
   ],
   "source": [
    "print(os.getcwd())"
   ]
  },
  {
   "cell_type": "code",
   "execution_count": 3,
   "id": "54ce39ee-63c5-4266-9b3f-7e935c48f7d0",
   "metadata": {
    "tags": []
   },
   "outputs": [],
   "source": [
    "os.chdir(\"..\")"
   ]
  },
  {
   "cell_type": "code",
   "execution_count": 4,
   "id": "8d37f859-129b-4848-a4d5-68477feedd2d",
   "metadata": {
    "tags": []
   },
   "outputs": [
    {
     "name": "stdout",
     "output_type": "stream",
     "text": [
      "D:\\GitCloneProject\\CE-AB-CLS\n"
     ]
    }
   ],
   "source": [
    "print(os.getcwd())"
   ]
  },
  {
   "cell_type": "code",
   "execution_count": 5,
   "id": "6241e45d-7ef4-4384-bdbc-db5833f49934",
   "metadata": {
    "tags": []
   },
   "outputs": [
    {
     "name": "stdout",
     "output_type": "stream",
     "text": [
      "['Test', 'Train']\n"
     ]
    }
   ],
   "source": [
    "data_dir = os.getcwd() + \"\\\\Data set\\\\Original Form\"\n",
    "print(os.listdir(data_dir))"
   ]
  },
  {
   "cell_type": "code",
   "execution_count": 24,
   "id": "c732268b-a989-4bc1-bede-c90fe6ef42d3",
   "metadata": {
    "tags": []
   },
   "outputs": [],
   "source": [
    "class CEDataset(Dataset):\n",
    "    def __init__(self, root_dir = data_dir, subset = \"Train\"):\n",
    "        self.root_dir = root_dir + f\"\\\\{subset}\"\n",
    "        self.img_paths = glob(self.root_dir + \"\\\\*\\\\*\")\n",
    "        self.transform = A.Compose([\n",
    "            # A.RandomCrop(height = 256, width = 256),\n",
    "            A.ColorJitter(p=0.5),\n",
    "            A.GaussianBlur(p=0.5),\n",
    "            A.RandomShadow(p=0.5),\n",
    "            A.RandomBrightnessContrast(p=0.2),\n",
    "            A.Resize(height = 256, width = 256, p = 1),\n",
    "        ])\n",
    "        super().__init__()\n",
    "    \n",
    "    def __len__(self):\n",
    "        return len(self.img_paths)\n",
    "    \n",
    "    def __getitem__(self, idx):\n",
    "        path = self.img_paths[idx]\n",
    "        img = cv.imread(path)\n",
    "        \n",
    "        if \"Normal\" in path:\n",
    "            label = torch.tensor(0)\n",
    "        elif \"Abnormal\" in path:\n",
    "            label = torch.tensor(1)\n",
    "        else:\n",
    "            raise Exception(\"not shown type of label in path\")\n",
    "            \n",
    "        img_torch = torch.from_numpy(np.array([fast_glcm_mean(img = img, levels = 8)/255]))        \n",
    "        \n",
    "        return img_torch, label  "
   ]
  },
  {
   "cell_type": "code",
   "execution_count": 25,
   "id": "304667a4-a584-42f1-91f6-df0d458e8d48",
   "metadata": {
    "tags": []
   },
   "outputs": [
    {
     "name": "stdout",
     "output_type": "stream",
     "text": [
      "176\n",
      "176\n"
     ]
    }
   ],
   "source": [
    "train_dataset = CEDataset(subset = \"Train\")\n",
    "test_dataset = CEDataset(subset = \"Test\")\n",
    "\n",
    "print(len(train_dataset))\n",
    "print(len(test_dataset))"
   ]
  },
  {
   "cell_type": "code",
   "execution_count": 26,
   "id": "208e49b4-1f28-4bd8-8967-4c7bd02af7d4",
   "metadata": {
    "tags": []
   },
   "outputs": [
    {
     "name": "stdout",
     "output_type": "stream",
     "text": [
      "torch.Size([1, 481, 518])\n",
      "torch.float32\n",
      "torch.Size([])\n"
     ]
    }
   ],
   "source": [
    "sample_img, sample_label = train_dataset[0]\n",
    "print(sample_img.shape)\n",
    "print(sample_img.dtype)\n",
    "print(sample_label.shape)"
   ]
  },
  {
   "cell_type": "code",
   "execution_count": 27,
   "id": "5fee4157-983b-4b1f-aef5-05ff86a58c81",
   "metadata": {
    "tags": []
   },
   "outputs": [
    {
     "name": "stdout",
     "output_type": "stream",
     "text": [
      "D:\\GitCloneProject\\CE-AB-CLS\\Data set\\Original Form\\Train\\Group 1 - Normal\\CHGastro_Normal_001.png\n",
      "D:\\GitCloneProject\\CE-AB-CLS\\Data set\\Original Form\\Test\\Group 1 - Normal\\CHGastro_Normal_002.png\n"
     ]
    }
   ],
   "source": [
    "print(train_dataset.img_paths[0])\n",
    "print(test_dataset.img_paths[0])"
   ]
  },
  {
   "cell_type": "code",
   "execution_count": 28,
   "id": "2fb3dd20-47d3-4b9d-b73f-a44f39640ef8",
   "metadata": {
    "tags": []
   },
   "outputs": [],
   "source": [
    "train_dataloader = DataLoader(train_dataset, shuffle = True, batch_size = 32)\n",
    "test_dataloader = DataLoader(test_dataset, shuffle = False, batch_size = 1)"
   ]
  },
  {
   "cell_type": "code",
   "execution_count": 29,
   "id": "345b8630-97cb-4309-9bdc-17ee1a39e991",
   "metadata": {
    "tags": []
   },
   "outputs": [],
   "source": [
    "device = torch.device(\"cuda\" if torch.cuda.is_available() else \"cpu\")\n",
    "model = alexnet(weights = 'IMAGENET1K_V1').to(device)\n",
    "model.fc = nn.Linear(1000, 2)"
   ]
  },
  {
   "cell_type": "code",
   "execution_count": 30,
   "id": "20177176-1685-4633-acae-3df2931ee747",
   "metadata": {
    "tags": []
   },
   "outputs": [],
   "source": [
    "model.features[0] = nn.Conv2d(1, 64, kernel_size=(11, 11), stride=(4, 4), padding=(2, 2)).to(device)"
   ]
  },
  {
   "cell_type": "code",
   "execution_count": 31,
   "id": "17ca54ac-e22e-411c-8b46-5fc842a49379",
   "metadata": {
    "tags": []
   },
   "outputs": [
    {
     "name": "stdout",
     "output_type": "stream",
     "text": [
      "AlexNet(\n",
      "  (features): Sequential(\n",
      "    (0): Conv2d(1, 64, kernel_size=(11, 11), stride=(4, 4), padding=(2, 2))\n",
      "    (1): ReLU(inplace=True)\n",
      "    (2): MaxPool2d(kernel_size=3, stride=2, padding=0, dilation=1, ceil_mode=False)\n",
      "    (3): Conv2d(64, 192, kernel_size=(5, 5), stride=(1, 1), padding=(2, 2))\n",
      "    (4): ReLU(inplace=True)\n",
      "    (5): MaxPool2d(kernel_size=3, stride=2, padding=0, dilation=1, ceil_mode=False)\n",
      "    (6): Conv2d(192, 384, kernel_size=(3, 3), stride=(1, 1), padding=(1, 1))\n",
      "    (7): ReLU(inplace=True)\n",
      "    (8): Conv2d(384, 256, kernel_size=(3, 3), stride=(1, 1), padding=(1, 1))\n",
      "    (9): ReLU(inplace=True)\n",
      "    (10): Conv2d(256, 256, kernel_size=(3, 3), stride=(1, 1), padding=(1, 1))\n",
      "    (11): ReLU(inplace=True)\n",
      "    (12): MaxPool2d(kernel_size=3, stride=2, padding=0, dilation=1, ceil_mode=False)\n",
      "  )\n",
      "  (avgpool): AdaptiveAvgPool2d(output_size=(6, 6))\n",
      "  (classifier): Sequential(\n",
      "    (0): Dropout(p=0.5, inplace=False)\n",
      "    (1): Linear(in_features=9216, out_features=4096, bias=True)\n",
      "    (2): ReLU(inplace=True)\n",
      "    (3): Dropout(p=0.5, inplace=False)\n",
      "    (4): Linear(in_features=4096, out_features=4096, bias=True)\n",
      "    (5): ReLU(inplace=True)\n",
      "    (6): Linear(in_features=4096, out_features=1000, bias=True)\n",
      "  )\n",
      "  (fc): Linear(in_features=1000, out_features=2, bias=True)\n",
      ")\n"
     ]
    }
   ],
   "source": [
    "print(model)"
   ]
  },
  {
   "cell_type": "code",
   "execution_count": 32,
   "id": "5137660a-4089-443b-b12d-97ed8e32d7d5",
   "metadata": {
    "tags": []
   },
   "outputs": [],
   "source": [
    "loss_fn = nn.CrossEntropyLoss()\n",
    "optimizer = torch.optim.Adam(model.parameters(), lr=1e-3)"
   ]
  },
  {
   "cell_type": "code",
   "execution_count": 33,
   "id": "70bfcaec-bc9e-4fea-9e40-be340cfc53c2",
   "metadata": {
    "tags": []
   },
   "outputs": [
    {
     "name": "stdout",
     "output_type": "stream",
     "text": [
      "loss: 7.471893  [   32/    6] acc: 0.0\n",
      "loss: 0.707207  [   32/    6] acc: 0.6875\n",
      "loss: 0.684324  [   32/    6] acc: 0.65625\n",
      "loss: 0.675471  [   32/    6] acc: 0.53125\n",
      "loss: 0.663816  [   32/    6] acc: 0.6875\n",
      "loss: 0.713014  [   32/    6] acc: 0.4375\n",
      "loss: 0.731688  [   32/    6] acc: 0.6875\n",
      "loss: 0.618406  [   32/    6] acc: 0.71875\n",
      "loss: 1.015067  [   32/    6] acc: 0.28125\n",
      "loss: 0.803113  [   32/    6] acc: 0.625\n",
      "loss: 0.692917  [   32/    6] acc: 0.625\n",
      "loss: 0.710083  [   32/    6] acc: 0.65625\n",
      "loss: 0.665321  [   32/    6] acc: 0.59375\n",
      "loss: 0.600201  [   32/    6] acc: 0.75\n",
      "loss: 0.678337  [   32/    6] acc: 0.625\n",
      "loss: 0.641597  [   32/    6] acc: 0.6875\n",
      "loss: 0.581192  [   32/    6] acc: 0.6875\n",
      "loss: 0.649853  [   32/    6] acc: 0.65625\n",
      "loss: 0.691753  [   32/    6] acc: 0.59375\n",
      "loss: 0.609048  [   32/    6] acc: 0.71875\n",
      "loss: 0.512113  [   32/    6] acc: 0.8125\n",
      "loss: 0.665615  [   32/    6] acc: 0.65625\n",
      "loss: 0.604881  [   32/    6] acc: 0.6875\n",
      "loss: 0.651468  [   32/    6] acc: 0.65625\n",
      "loss: 0.702544  [   32/    6] acc: 0.59375\n",
      "loss: 0.605239  [   32/    6] acc: 0.71875\n",
      "loss: 0.694756  [   32/    6] acc: 0.625\n",
      "loss: 0.641500  [   32/    6] acc: 0.65625\n",
      "loss: 0.617129  [   32/    6] acc: 0.6875\n",
      "loss: 0.632067  [   32/    6] acc: 0.65625\n",
      "loss: 0.457720  [   32/    6] acc: 0.90625\n",
      "loss: 0.640982  [   32/    6] acc: 0.71875\n",
      "loss: 0.705511  [   32/    6] acc: 0.59375\n",
      "loss: 0.599065  [   32/    6] acc: 0.71875\n",
      "loss: 0.764062  [   32/    6] acc: 0.53125\n",
      "loss: 0.718713  [   32/    6] acc: 0.5625\n",
      "loss: 0.600308  [   32/    6] acc: 0.71875\n",
      "loss: 0.681666  [   32/    6] acc: 0.625\n",
      "loss: 0.659454  [   32/    6] acc: 0.625\n",
      "loss: 0.692070  [   32/    6] acc: 0.625\n",
      "loss: 0.602513  [   32/    6] acc: 0.71875\n",
      "loss: 0.662463  [   32/    6] acc: 0.625\n",
      "loss: 0.694676  [   32/    6] acc: 0.625\n",
      "loss: 0.628380  [   32/    6] acc: 0.6875\n",
      "loss: 0.675502  [   32/    6] acc: 0.625\n",
      "loss: 0.645960  [   32/    6] acc: 0.65625\n",
      "loss: 0.698555  [   32/    6] acc: 0.59375\n",
      "loss: 0.636197  [   32/    6] acc: 0.6875\n",
      "loss: 0.713266  [   32/    6] acc: 0.59375\n",
      "loss: 0.675246  [   32/    6] acc: 0.625\n",
      "loss: 0.550680  [   32/    6] acc: 0.78125\n",
      "loss: 0.624756  [   32/    6] acc: 0.6875\n",
      "loss: 0.643248  [   32/    6] acc: 0.65625\n",
      "loss: 0.498354  [   32/    6] acc: 0.84375\n",
      "loss: 0.706787  [   32/    6] acc: 0.59375\n",
      "loss: 0.713038  [   32/    6] acc: 0.5625\n",
      "loss: 0.533135  [   32/    6] acc: 0.8125\n",
      "loss: 0.696580  [   32/    6] acc: 0.59375\n",
      "loss: 0.616367  [   32/    6] acc: 0.71875\n",
      "loss: 0.694820  [   32/    6] acc: 0.59375\n",
      "loss: 0.573608  [   32/    6] acc: 0.75\n",
      "loss: 0.568056  [   32/    6] acc: 0.78125\n",
      "loss: 0.593262  [   32/    6] acc: 0.71875\n",
      "loss: 0.593691  [   32/    6] acc: 0.71875\n",
      "loss: 0.569732  [   32/    6] acc: 0.75\n",
      "loss: 0.525392  [   32/    6] acc: 0.8125\n",
      "loss: 0.646131  [   32/    6] acc: 0.65625\n",
      "loss: 0.581503  [   32/    6] acc: 0.75\n",
      "loss: 0.608286  [   32/    6] acc: 0.71875\n",
      "loss: 0.555701  [   32/    6] acc: 0.78125\n",
      "loss: 0.662384  [   32/    6] acc: 0.65625\n",
      "loss: 0.621294  [   32/    6] acc: 0.6875\n",
      "loss: 0.743434  [   32/    6] acc: 0.53125\n",
      "loss: 0.606096  [   32/    6] acc: 0.71875\n",
      "loss: 0.624588  [   32/    6] acc: 0.6875\n",
      "loss: 0.627052  [   32/    6] acc: 0.6875\n",
      "loss: 0.640794  [   32/    6] acc: 0.65625\n",
      "loss: 0.659920  [   32/    6] acc: 0.65625\n",
      "loss: 0.570153  [   32/    6] acc: 0.75\n",
      "loss: 0.759166  [   32/    6] acc: 0.5\n",
      "loss: 0.550206  [   32/    6] acc: 0.8125\n",
      "loss: 0.719387  [   32/    6] acc: 0.59375\n",
      "loss: 0.598721  [   32/    6] acc: 0.71875\n",
      "loss: 0.666484  [   32/    6] acc: 0.625\n",
      "loss: 0.593884  [   32/    6] acc: 0.71875\n",
      "loss: 0.599306  [   32/    6] acc: 0.71875\n",
      "loss: 0.662413  [   32/    6] acc: 0.625\n",
      "loss: 0.691226  [   32/    6] acc: 0.59375\n",
      "loss: 0.597506  [   32/    6] acc: 0.71875\n",
      "loss: 0.620077  [   32/    6] acc: 0.6875\n",
      "loss: 0.567610  [   32/    6] acc: 0.78125\n",
      "loss: 0.644019  [   32/    6] acc: 0.65625\n",
      "loss: 0.683056  [   32/    6] acc: 0.625\n",
      "loss: 0.547206  [   32/    6] acc: 0.78125\n",
      "loss: 0.577194  [   32/    6] acc: 0.75\n",
      "loss: 0.627479  [   32/    6] acc: 0.6875\n",
      "loss: 0.642856  [   32/    6] acc: 0.65625\n",
      "loss: 0.559384  [   32/    6] acc: 0.75\n",
      "loss: 0.672912  [   32/    6] acc: 0.625\n",
      "loss: 0.576923  [   32/    6] acc: 0.75\n"
     ]
    }
   ],
   "source": [
    "size = len(train_dataloader)\n",
    "model.train()\n",
    "epochs = 100\n",
    "for t in range(epochs):\n",
    "    for batch, (X, y) in enumerate(train_dataloader):\n",
    "        X, y = X.to(device, dtype = torch.float), y.to(device)\n",
    "\n",
    "        # Compute prediction error\n",
    "        pred = model(X)\n",
    "        loss = loss_fn(pred, y)\n",
    "        \n",
    "        # accuracy\n",
    "        correct = (pred.argmax(1) == y).type(torch.float).sum().item()\n",
    "        acc = correct / y.shape[0]\n",
    "\n",
    "        # Backpropagation\n",
    "        optimizer.zero_grad()\n",
    "        loss.backward()\n",
    "        optimizer.step()\n",
    "\n",
    "        if batch % 100 == 0:\n",
    "            loss, current = loss.item(), (batch + 1) * len(X)\n",
    "            print(f\"loss: {loss:>7f}  [{current:>5d}/{size:>5d}] acc: {acc}\")"
   ]
  },
  {
   "cell_type": "code",
   "execution_count": 34,
   "id": "5b992a8a-cf59-4f20-b001-a9d5247bcd9e",
   "metadata": {},
   "outputs": [],
   "source": [
    "pred = []\n",
    "true = []\n",
    "for batch, (X, y) in enumerate(test_dataloader):\n",
    "    X, y = X.to(device, dtype = torch.float), y.to(device)\n",
    "    \n",
    "    pred.append(model(X).argmax(1).item())\n",
    "    true.append(y.item())"
   ]
  },
  {
   "cell_type": "code",
   "execution_count": 35,
   "id": "e5b0ca31-8762-4359-8d7f-5463b86eda48",
   "metadata": {
    "tags": []
   },
   "outputs": [
    {
     "name": "stdout",
     "output_type": "stream",
     "text": [
      "176\n",
      "176\n"
     ]
    }
   ],
   "source": [
    "print(len(pred))\n",
    "print(len(true))"
   ]
  },
  {
   "cell_type": "code",
   "execution_count": 36,
   "id": "b7be7097-809a-4a02-af53-89ceab952f0c",
   "metadata": {
    "tags": []
   },
   "outputs": [
    {
     "name": "stdout",
     "output_type": "stream",
     "text": [
      "              precision    recall  f1-score   support\n",
      "\n",
      "      Normal       0.00      0.00      0.00        56\n",
      "    Abnormal       0.68      1.00      0.81       120\n",
      "\n",
      "    accuracy                           0.68       176\n",
      "   macro avg       0.34      0.50      0.41       176\n",
      "weighted avg       0.46      0.68      0.55       176\n",
      "\n"
     ]
    },
    {
     "name": "stderr",
     "output_type": "stream",
     "text": [
      "d:\\gitcloneproject\\ce-ab-cls\\envir\\lib\\site-packages\\sklearn\\metrics\\_classification.py:1344: UndefinedMetricWarning: Precision and F-score are ill-defined and being set to 0.0 in labels with no predicted samples. Use `zero_division` parameter to control this behavior.\n",
      "  _warn_prf(average, modifier, msg_start, len(result))\n",
      "d:\\gitcloneproject\\ce-ab-cls\\envir\\lib\\site-packages\\sklearn\\metrics\\_classification.py:1344: UndefinedMetricWarning: Precision and F-score are ill-defined and being set to 0.0 in labels with no predicted samples. Use `zero_division` parameter to control this behavior.\n",
      "  _warn_prf(average, modifier, msg_start, len(result))\n",
      "d:\\gitcloneproject\\ce-ab-cls\\envir\\lib\\site-packages\\sklearn\\metrics\\_classification.py:1344: UndefinedMetricWarning: Precision and F-score are ill-defined and being set to 0.0 in labels with no predicted samples. Use `zero_division` parameter to control this behavior.\n",
      "  _warn_prf(average, modifier, msg_start, len(result))\n"
     ]
    }
   ],
   "source": [
    "from sklearn.metrics import classification_report\n",
    "\n",
    "print(classification_report(true, pred, target_names=[\"Normal\", \"Abnormal\"]))"
   ]
  }
 ],
 "metadata": {
  "kernelspec": {
   "display_name": "Python 3 (ipykernel)",
   "language": "python",
   "name": "python3"
  },
  "language_info": {
   "codemirror_mode": {
    "name": "ipython",
    "version": 3
   },
   "file_extension": ".py",
   "mimetype": "text/x-python",
   "name": "python",
   "nbconvert_exporter": "python",
   "pygments_lexer": "ipython3",
   "version": "3.9.5"
  }
 },
 "nbformat": 4,
 "nbformat_minor": 5
}
