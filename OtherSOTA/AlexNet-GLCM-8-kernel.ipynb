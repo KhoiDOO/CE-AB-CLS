{
 "cells": [
  {
   "cell_type": "code",
   "execution_count": 1,
   "id": "ccfbfbe8-3658-4343-a683-61eb5f9366a9",
   "metadata": {
    "tags": []
   },
   "outputs": [],
   "source": [
    "import os, sys\n",
    "from glob import glob\n",
    "import torch\n",
    "from torch import nn\n",
    "from torch.utils.data import Dataset, DataLoader\n",
    "import albumentations as A\n",
    "from torchvision.models import alexnet\n",
    "\n",
    "from tqdm import tqdm\n",
    "import numpy as np\n",
    "\n",
    "import cv2 as cv\n",
    "\n",
    "from fast_glcm import *"
   ]
  },
  {
   "cell_type": "code",
   "execution_count": 2,
   "id": "ea2b9cba-13c5-45aa-9e52-3b43289a3f7c",
   "metadata": {
    "tags": []
   },
   "outputs": [
    {
     "name": "stdout",
     "output_type": "stream",
     "text": [
      "D:\\GitCloneProject\\CE-AB-CLS\\OtherSOTA\n"
     ]
    }
   ],
   "source": [
    "print(os.getcwd())"
   ]
  },
  {
   "cell_type": "code",
   "execution_count": 3,
   "id": "54ce39ee-63c5-4266-9b3f-7e935c48f7d0",
   "metadata": {
    "tags": []
   },
   "outputs": [],
   "source": [
    "os.chdir(\"..\")"
   ]
  },
  {
   "cell_type": "code",
   "execution_count": 4,
   "id": "8d37f859-129b-4848-a4d5-68477feedd2d",
   "metadata": {
    "tags": []
   },
   "outputs": [
    {
     "name": "stdout",
     "output_type": "stream",
     "text": [
      "D:\\GitCloneProject\\CE-AB-CLS\n"
     ]
    }
   ],
   "source": [
    "print(os.getcwd())"
   ]
  },
  {
   "cell_type": "code",
   "execution_count": 5,
   "id": "6241e45d-7ef4-4384-bdbc-db5833f49934",
   "metadata": {
    "tags": []
   },
   "outputs": [
    {
     "name": "stdout",
     "output_type": "stream",
     "text": [
      "['Test', 'Train']\n"
     ]
    }
   ],
   "source": [
    "data_dir = os.getcwd() + \"\\\\Data set\\\\Original Form\"\n",
    "print(os.listdir(data_dir))"
   ]
  },
  {
   "cell_type": "code",
   "execution_count": 6,
   "id": "c732268b-a989-4bc1-bede-c90fe6ef42d3",
   "metadata": {
    "tags": []
   },
   "outputs": [],
   "source": [
    "class CEDataset(Dataset):\n",
    "    def __init__(self, root_dir = data_dir, subset = \"Train\"):\n",
    "        self.root_dir = root_dir + f\"\\\\{subset}\"\n",
    "        self.img_paths = glob(self.root_dir + \"\\\\*\\\\*\")\n",
    "        self.transform = A.Compose([\n",
    "            # A.RandomCrop(height = 256, width = 256),\n",
    "            A.ColorJitter(p=0.5),\n",
    "            A.GaussianBlur(p=0.5),\n",
    "            A.RandomShadow(p=0.5),\n",
    "            A.RandomBrightnessContrast(p=0.2),\n",
    "            A.Resize(height = 256, width = 256, p = 1),\n",
    "        ])\n",
    "        super().__init__()\n",
    "    \n",
    "    def __len__(self):\n",
    "        return len(self.img_paths)\n",
    "    \n",
    "    def __getitem__(self, idx):\n",
    "        path = self.img_paths[idx]\n",
    "        img = cv.imread(path)\n",
    "        \n",
    "        if \"Normal\" in path:\n",
    "            label = torch.tensor(0)\n",
    "        elif \"Abnormal\" in path:\n",
    "            label = torch.tensor(1)\n",
    "        else:\n",
    "            raise Exception(\"not shown type of label in path\")\n",
    "            \n",
    "        img_torch = torch.from_numpy(fast_glcm(img = img, levels = 3)/255)\n",
    "        zeros = torch.zeros(size = img_torch.shape)\n",
    "        \n",
    "        return torch.cat([img_torch[i] for i in range(img_torch.shape[0])], dim = 0), label  "
   ]
  },
  {
   "cell_type": "code",
   "execution_count": 7,
   "id": "304667a4-a584-42f1-91f6-df0d458e8d48",
   "metadata": {
    "tags": []
   },
   "outputs": [
    {
     "name": "stdout",
     "output_type": "stream",
     "text": [
      "176\n",
      "176\n"
     ]
    }
   ],
   "source": [
    "train_dataset = CEDataset(subset = \"Train\")\n",
    "test_dataset = CEDataset(subset = \"Test\")\n",
    "\n",
    "print(len(train_dataset))\n",
    "print(len(test_dataset))"
   ]
  },
  {
   "cell_type": "code",
   "execution_count": 8,
   "id": "208e49b4-1f28-4bd8-8967-4c7bd02af7d4",
   "metadata": {
    "tags": []
   },
   "outputs": [
    {
     "name": "stdout",
     "output_type": "stream",
     "text": [
      "torch.Size([64, 481, 518])\n",
      "torch.float32\n",
      "torch.Size([])\n"
     ]
    }
   ],
   "source": [
    "sample_img, sample_label = train_dataset[0]\n",
    "print(sample_img.shape)\n",
    "print(sample_img.dtype)\n",
    "print(sample_label.shape)"
   ]
  },
  {
   "cell_type": "code",
   "execution_count": 9,
   "id": "5fee4157-983b-4b1f-aef5-05ff86a58c81",
   "metadata": {
    "tags": []
   },
   "outputs": [
    {
     "name": "stdout",
     "output_type": "stream",
     "text": [
      "D:\\GitCloneProject\\CE-AB-CLS\\Data set\\Original Form\\Train\\Group 1 - Normal\\CHGastro_Normal_001.png\n",
      "D:\\GitCloneProject\\CE-AB-CLS\\Data set\\Original Form\\Test\\Group 1 - Normal\\CHGastro_Normal_002.png\n"
     ]
    }
   ],
   "source": [
    "print(train_dataset.img_paths[0])\n",
    "print(test_dataset.img_paths[0])"
   ]
  },
  {
   "cell_type": "code",
   "execution_count": 10,
   "id": "2fb3dd20-47d3-4b9d-b73f-a44f39640ef8",
   "metadata": {
    "tags": []
   },
   "outputs": [],
   "source": [
    "train_dataloader = DataLoader(train_dataset, shuffle = True, batch_size = 32)\n",
    "test_dataloader = DataLoader(test_dataset, shuffle = False, batch_size = 1)"
   ]
  },
  {
   "cell_type": "code",
   "execution_count": 11,
   "id": "345b8630-97cb-4309-9bdc-17ee1a39e991",
   "metadata": {
    "tags": []
   },
   "outputs": [],
   "source": [
    "device = torch.device(\"cuda\" if torch.cuda.is_available() else \"cpu\")\n",
    "model = alexnet(weights = 'IMAGENET1K_V1').to(device)\n",
    "model.fc = nn.Linear(1000, 2)"
   ]
  },
  {
   "cell_type": "code",
   "execution_count": 12,
   "id": "20177176-1685-4633-acae-3df2931ee747",
   "metadata": {
    "tags": []
   },
   "outputs": [],
   "source": [
    "model.features[0] = nn.Conv2d(64, 64, kernel_size=(11, 11), stride=(4, 4), padding=(2, 2)).to(device)"
   ]
  },
  {
   "cell_type": "code",
   "execution_count": 13,
   "id": "17ca54ac-e22e-411c-8b46-5fc842a49379",
   "metadata": {
    "tags": []
   },
   "outputs": [
    {
     "name": "stdout",
     "output_type": "stream",
     "text": [
      "AlexNet(\n",
      "  (features): Sequential(\n",
      "    (0): Conv2d(64, 64, kernel_size=(11, 11), stride=(4, 4), padding=(2, 2))\n",
      "    (1): ReLU(inplace=True)\n",
      "    (2): MaxPool2d(kernel_size=3, stride=2, padding=0, dilation=1, ceil_mode=False)\n",
      "    (3): Conv2d(64, 192, kernel_size=(5, 5), stride=(1, 1), padding=(2, 2))\n",
      "    (4): ReLU(inplace=True)\n",
      "    (5): MaxPool2d(kernel_size=3, stride=2, padding=0, dilation=1, ceil_mode=False)\n",
      "    (6): Conv2d(192, 384, kernel_size=(3, 3), stride=(1, 1), padding=(1, 1))\n",
      "    (7): ReLU(inplace=True)\n",
      "    (8): Conv2d(384, 256, kernel_size=(3, 3), stride=(1, 1), padding=(1, 1))\n",
      "    (9): ReLU(inplace=True)\n",
      "    (10): Conv2d(256, 256, kernel_size=(3, 3), stride=(1, 1), padding=(1, 1))\n",
      "    (11): ReLU(inplace=True)\n",
      "    (12): MaxPool2d(kernel_size=3, stride=2, padding=0, dilation=1, ceil_mode=False)\n",
      "  )\n",
      "  (avgpool): AdaptiveAvgPool2d(output_size=(6, 6))\n",
      "  (classifier): Sequential(\n",
      "    (0): Dropout(p=0.5, inplace=False)\n",
      "    (1): Linear(in_features=9216, out_features=4096, bias=True)\n",
      "    (2): ReLU(inplace=True)\n",
      "    (3): Dropout(p=0.5, inplace=False)\n",
      "    (4): Linear(in_features=4096, out_features=4096, bias=True)\n",
      "    (5): ReLU(inplace=True)\n",
      "    (6): Linear(in_features=4096, out_features=1000, bias=True)\n",
      "  )\n",
      "  (fc): Linear(in_features=1000, out_features=2, bias=True)\n",
      ")\n"
     ]
    }
   ],
   "source": [
    "print(model)"
   ]
  },
  {
   "cell_type": "code",
   "execution_count": 14,
   "id": "5137660a-4089-443b-b12d-97ed8e32d7d5",
   "metadata": {
    "tags": []
   },
   "outputs": [],
   "source": [
    "loss_fn = nn.CrossEntropyLoss()\n",
    "optimizer = torch.optim.Adam(model.parameters(), lr=1e-3)"
   ]
  },
  {
   "cell_type": "code",
   "execution_count": 15,
   "id": "70bfcaec-bc9e-4fea-9e40-be340cfc53c2",
   "metadata": {
    "tags": []
   },
   "outputs": [
    {
     "name": "stdout",
     "output_type": "stream",
     "text": [
      "loss: 7.574877  [   32/    6] acc: 0.0\n",
      "loss: 0.732704  [   32/    6] acc: 0.375\n",
      "loss: 0.720123  [   32/    6] acc: 0.5\n",
      "loss: 0.453377  [   32/    6] acc: 0.84375\n",
      "loss: 0.647923  [   32/    6] acc: 0.6875\n",
      "loss: 0.619065  [   32/    6] acc: 0.6875\n",
      "loss: 0.583602  [   32/    6] acc: 0.71875\n",
      "loss: 0.711852  [   32/    6] acc: 0.65625\n",
      "loss: 0.579444  [   32/    6] acc: 0.78125\n",
      "loss: 0.405811  [   32/    6] acc: 0.8125\n",
      "loss: 0.484352  [   32/    6] acc: 0.71875\n",
      "loss: 0.632154  [   32/    6] acc: 0.71875\n",
      "loss: 0.660018  [   32/    6] acc: 0.6875\n",
      "loss: 0.386452  [   32/    6] acc: 0.875\n",
      "loss: 0.452078  [   32/    6] acc: 0.75\n",
      "loss: 0.491462  [   32/    6] acc: 0.6875\n",
      "loss: 0.466789  [   32/    6] acc: 0.78125\n",
      "loss: 0.786605  [   32/    6] acc: 0.5625\n",
      "loss: 0.573017  [   32/    6] acc: 0.6875\n",
      "loss: 0.365475  [   32/    6] acc: 0.8125\n",
      "loss: 0.578595  [   32/    6] acc: 0.65625\n",
      "loss: 0.423116  [   32/    6] acc: 0.84375\n",
      "loss: 0.500769  [   32/    6] acc: 0.78125\n",
      "loss: 0.514940  [   32/    6] acc: 0.78125\n",
      "loss: 0.414102  [   32/    6] acc: 0.78125\n",
      "loss: 0.381983  [   32/    6] acc: 0.84375\n",
      "loss: 0.362627  [   32/    6] acc: 0.8125\n",
      "loss: 0.463943  [   32/    6] acc: 0.6875\n",
      "loss: 0.651366  [   32/    6] acc: 0.6875\n",
      "loss: 0.456012  [   32/    6] acc: 0.78125\n",
      "loss: 0.524607  [   32/    6] acc: 0.71875\n",
      "loss: 0.433867  [   32/    6] acc: 0.78125\n",
      "loss: 0.492629  [   32/    6] acc: 0.8125\n",
      "loss: 0.331193  [   32/    6] acc: 0.875\n",
      "loss: 0.236714  [   32/    6] acc: 0.9375\n",
      "loss: 0.374124  [   32/    6] acc: 0.8125\n",
      "loss: 0.377351  [   32/    6] acc: 0.75\n",
      "loss: 0.215724  [   32/    6] acc: 0.90625\n",
      "loss: 0.309794  [   32/    6] acc: 0.9375\n",
      "loss: 0.298068  [   32/    6] acc: 0.875\n",
      "loss: 0.353885  [   32/    6] acc: 0.84375\n",
      "loss: 0.418599  [   32/    6] acc: 0.84375\n",
      "loss: 0.252308  [   32/    6] acc: 0.875\n",
      "loss: 0.360434  [   32/    6] acc: 0.8125\n",
      "loss: 0.306133  [   32/    6] acc: 0.8125\n",
      "loss: 0.177451  [   32/    6] acc: 0.9375\n",
      "loss: 0.339463  [   32/    6] acc: 0.84375\n",
      "loss: 0.268338  [   32/    6] acc: 0.90625\n",
      "loss: 0.227227  [   32/    6] acc: 0.90625\n",
      "loss: 0.311595  [   32/    6] acc: 0.84375\n",
      "loss: 0.241268  [   32/    6] acc: 0.875\n",
      "loss: 0.398682  [   32/    6] acc: 0.78125\n",
      "loss: 0.319267  [   32/    6] acc: 0.84375\n",
      "loss: 0.500644  [   32/    6] acc: 0.78125\n",
      "loss: 0.314948  [   32/    6] acc: 0.84375\n",
      "loss: 0.384435  [   32/    6] acc: 0.84375\n",
      "loss: 0.310318  [   32/    6] acc: 0.875\n",
      "loss: 0.249462  [   32/    6] acc: 0.875\n",
      "loss: 0.336632  [   32/    6] acc: 0.875\n",
      "loss: 0.460038  [   32/    6] acc: 0.78125\n",
      "loss: 0.342154  [   32/    6] acc: 0.78125\n",
      "loss: 0.229131  [   32/    6] acc: 0.875\n",
      "loss: 0.311175  [   32/    6] acc: 0.8125\n",
      "loss: 0.341572  [   32/    6] acc: 0.8125\n",
      "loss: 0.283843  [   32/    6] acc: 0.90625\n",
      "loss: 0.301506  [   32/    6] acc: 0.84375\n",
      "loss: 0.175182  [   32/    6] acc: 0.9375\n",
      "loss: 0.147903  [   32/    6] acc: 0.9375\n",
      "loss: 0.127522  [   32/    6] acc: 0.9375\n",
      "loss: 0.202263  [   32/    6] acc: 0.90625\n",
      "loss: 0.261357  [   32/    6] acc: 0.8125\n",
      "loss: 0.113612  [   32/    6] acc: 0.96875\n",
      "loss: 0.126952  [   32/    6] acc: 0.96875\n",
      "loss: 0.209469  [   32/    6] acc: 0.90625\n",
      "loss: 0.320327  [   32/    6] acc: 0.875\n",
      "loss: 0.153656  [   32/    6] acc: 0.96875\n",
      "loss: 0.181853  [   32/    6] acc: 0.96875\n",
      "loss: 0.206345  [   32/    6] acc: 0.90625\n",
      "loss: 0.169921  [   32/    6] acc: 0.96875\n",
      "loss: 0.118946  [   32/    6] acc: 0.96875\n",
      "loss: 0.100508  [   32/    6] acc: 0.96875\n",
      "loss: 0.218497  [   32/    6] acc: 0.90625\n",
      "loss: 0.012841  [   32/    6] acc: 1.0\n",
      "loss: 0.113591  [   32/    6] acc: 0.96875\n",
      "loss: 0.095211  [   32/    6] acc: 0.9375\n",
      "loss: 0.241315  [   32/    6] acc: 0.90625\n",
      "loss: 0.277336  [   32/    6] acc: 0.90625\n",
      "loss: 0.105812  [   32/    6] acc: 0.9375\n",
      "loss: 0.024880  [   32/    6] acc: 1.0\n",
      "loss: 0.049068  [   32/    6] acc: 0.96875\n",
      "loss: 0.035298  [   32/    6] acc: 0.96875\n",
      "loss: 0.183724  [   32/    6] acc: 0.9375\n",
      "loss: 0.343343  [   32/    6] acc: 0.9375\n",
      "loss: 0.088924  [   32/    6] acc: 0.96875\n",
      "loss: 0.080612  [   32/    6] acc: 0.96875\n",
      "loss: 0.072426  [   32/    6] acc: 0.96875\n",
      "loss: 0.108337  [   32/    6] acc: 0.9375\n",
      "loss: 0.069447  [   32/    6] acc: 0.96875\n",
      "loss: 0.153681  [   32/    6] acc: 0.9375\n",
      "loss: 0.094524  [   32/    6] acc: 0.9375\n"
     ]
    }
   ],
   "source": [
    "size = len(train_dataloader)\n",
    "model.train()\n",
    "epochs = 100\n",
    "for t in range(epochs):\n",
    "    for batch, (X, y) in enumerate(train_dataloader):\n",
    "        X, y = X.to(device, dtype = torch.float), y.to(device)\n",
    "\n",
    "        # Compute prediction error\n",
    "        pred = model(X)\n",
    "        loss = loss_fn(pred, y)\n",
    "        \n",
    "        # accuracy\n",
    "        correct = (pred.argmax(1) == y).type(torch.float).sum().item()\n",
    "        acc = correct / y.shape[0]\n",
    "\n",
    "        # Backpropagation\n",
    "        optimizer.zero_grad()\n",
    "        loss.backward()\n",
    "        optimizer.step()\n",
    "\n",
    "        if batch % 100 == 0:\n",
    "            loss, current = loss.item(), (batch + 1) * len(X)\n",
    "            print(f\"loss: {loss:>7f}  [{current:>5d}/{size:>5d}] acc: {acc}\")"
   ]
  },
  {
   "cell_type": "code",
   "execution_count": 16,
   "id": "5b992a8a-cf59-4f20-b001-a9d5247bcd9e",
   "metadata": {},
   "outputs": [],
   "source": [
    "pred = []\n",
    "true = []\n",
    "for batch, (X, y) in enumerate(test_dataloader):\n",
    "    X, y = X.to(device, dtype = torch.float), y.to(device)\n",
    "    \n",
    "    pred.append(model(X).argmax(1).item())\n",
    "    true.append(y.item())"
   ]
  },
  {
   "cell_type": "code",
   "execution_count": 17,
   "id": "e5b0ca31-8762-4359-8d7f-5463b86eda48",
   "metadata": {
    "tags": []
   },
   "outputs": [
    {
     "name": "stdout",
     "output_type": "stream",
     "text": [
      "176\n",
      "176\n"
     ]
    }
   ],
   "source": [
    "print(len(pred))\n",
    "print(len(true))"
   ]
  },
  {
   "cell_type": "code",
   "execution_count": 18,
   "id": "b7be7097-809a-4a02-af53-89ceab952f0c",
   "metadata": {
    "tags": []
   },
   "outputs": [
    {
     "name": "stdout",
     "output_type": "stream",
     "text": [
      "              precision    recall  f1-score   support\n",
      "\n",
      "      Normal       0.66      0.48      0.56        56\n",
      "    Abnormal       0.79      0.88      0.83       120\n",
      "\n",
      "    accuracy                           0.76       176\n",
      "   macro avg       0.72      0.68      0.69       176\n",
      "weighted avg       0.74      0.76      0.74       176\n",
      "\n"
     ]
    }
   ],
   "source": [
    "from sklearn.metrics import classification_report\n",
    "\n",
    "print(classification_report(true, pred, target_names=[\"Normal\", \"Abnormal\"]))"
   ]
  }
 ],
 "metadata": {
  "kernelspec": {
   "display_name": "Python 3 (ipykernel)",
   "language": "python",
   "name": "python3"
  },
  "language_info": {
   "codemirror_mode": {
    "name": "ipython",
    "version": 3
   },
   "file_extension": ".py",
   "mimetype": "text/x-python",
   "name": "python",
   "nbconvert_exporter": "python",
   "pygments_lexer": "ipython3",
   "version": "3.9.5"
  }
 },
 "nbformat": 4,
 "nbformat_minor": 5
}
